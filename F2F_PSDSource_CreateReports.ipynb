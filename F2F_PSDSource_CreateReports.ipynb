{
 "cells": [
  {
   "cell_type": "markdown",
   "metadata": {},
   "source": [
    "# Create reports and extract ROI activity for source-level PSDs\n",
    "For STC power spectra created on 1-second epochs. Based on code originally tested in Explore_STCMethods notebook, and overall structure, including subject groups, are the same as in F2F_PSD_CreateReports. The subsequent ROI analysis is based on the Explore_ROIAnalysis notebook.\n",
    "\n",
    "From 2021-04-15, using \"reduced\" adult spectral bands.\n",
    "\n",
    "On 2021-12-14, new versions of the average ROI tables were made for which the log unit values were converted back to linear units. (Note that the sum of ROI values across bands is always less than 100.)  \n",
    "\n",
    "On 2022-01-25, transverse temporal and banks of superior temporal sulcus were added to the ROI list."
   ]
  },
  {
   "cell_type": "markdown",
   "metadata": {
    "toc": true
   },
   "source": [
    "<h1>Table of Contents<span class=\"tocSkip\"></span></h1>\n",
    "<div class=\"toc\"><ul class=\"toc-item\"><li><span><a href=\"#Preliminaries\" data-toc-modified-id=\"Preliminaries-1\">Preliminaries</a></span></li><li><span><a href=\"#Generate-PSD-STCs\" data-toc-modified-id=\"Generate-PSD-STCs-2\">Generate PSD STCs</a></span></li><li><span><a href=\"#Create-individual-and-group-reports\" data-toc-modified-id=\"Create-individual-and-group-reports-3\">Create individual and group reports</a></span></li><li><span><a href=\"#Group-reports-for-talk-only-and-ignore-only-maps\" data-toc-modified-id=\"Group-reports-for-talk-only-and-ignore-only-maps-4\">Group reports for talk-only and ignore-only maps</a></span></li><li><span><a href=\"#Extract-label-PSDs-for-ROI-analysis---surface-source-space\" data-toc-modified-id=\"Extract-label-PSDs-for-ROI-analysis---surface-source-space-5\">Extract label PSDs for ROI analysis - surface source space</a></span></li><li><span><a href=\"#Repeat-label-extraction-for-all-the-rest-of-the-labels\" data-toc-modified-id=\"Repeat-label-extraction-for-all-the-rest-of-the-labels-6\">Repeat label extraction for all the rest of the labels</a></span></li></ul></div>"
   ]
  },
  {
   "cell_type": "markdown",
   "metadata": {},
   "source": [
    "## Preliminaries"
   ]
  },
  {
   "cell_type": "code",
   "execution_count": 1,
   "metadata": {},
   "outputs": [],
   "source": [
    "%%capture\n",
    "\n",
    "import os\n",
    "import pandas as pd\n",
    "import importlib\n",
    "\n",
    "import mne\n",
    "import mnefun\n",
    "\n",
    "from f2f_score import score\n",
    "import f2f_analysis_source\n",
    "from f2f_analysis_source import create_srcpsd_summary, create_srcpsds"
   ]
  },
  {
   "cell_type": "code",
   "execution_count": 2,
   "metadata": {},
   "outputs": [],
   "source": [
    "# Define subject groupings #\n",
    "# Missing now includes f2f_033 and 041; _026 added as of 2021-Jan\n",
    "all_subjects = ('f2f_009', 'f2f_010', 'f2f_011', 'f2f_012', 'f2f_013', 'f2f_014',\n",
    "                'f2f_015', 'f2f_018', 'f2f_021', 'f2f_022', 'f2f_024', 'f2f_025',\n",
    "                'f2f_026', 'f2f_027', 'f2f_028', 'f2f_029', 'f2f_030', 'f2f_034',\n",
    "                'f2f_036', 'f2f_037', 'f2f_038', 'f2f_102', 'f2f_103', 'f2f_104',\n",
    "                'f2f_106', 'f2f_107', 'f2f_108', 'f2f_111', 'f2f_112', 'f2f_114',\n",
    "                'f2f_115', 'f2f_116', 'f2f_117', 'f2f_118', 'f2f_119')   # N=35\n",
    "                \n",
    "subjects_SES_high = ('f2f_034', 'f2f_011', 'f2f_022', 'f2f_024', 'f2f_009',\n",
    "                     'f2f_025', 'f2f_037', 'f2f_103', 'f2f_038', 'f2f_028', 'f2f_115',\n",
    "                     'f2f_012', 'f2f_036', 'f2f_104', 'f2f_106', 'f2f_112', 'f2f_114',)  # N=17\n",
    "subjects_SES_low = ('f2f_010', 'f2f_118', 'f2f_116', 'f2f_015', 'f2f_117', 'f2f_107',\n",
    "                    'f2f_013', 'f2f_119', 'f2f_111', 'f2f_030', 'f2f_018', 'f2f_102', \n",
    "                    'f2f_108', 'f2f_026', 'f2f_027', 'f2f_014', 'f2f_021', 'f2f_029')  # N=18\n",
    "# High: 034, 011, 022, 033, 024, 009, 025, 037, 103, 038, 028, 115, 012, 036, 104,\n",
    "# 106, 112, 114\n",
    "# Low: 010, 118, 116, 015, 117, 107, 013, 119, 111, 030, 018, 102, 108, 041, 027,\n",
    "# 014, 021, 029\n",
    "# Bad (as of Sep 7 2020): 033 (bad data), 041 (bad HPI)\n",
    "\n",
    "subjects_vocab24_high = ('f2f_036', 'f2f_106', 'f2f_102', 'f2f_021', 'f2f_018', 'f2f_026',\n",
    "                         'f2f_011', 'f2f_037', 'f2f_118', 'f2f_111', 'f2f_119',\n",
    "                         'f2f_108', 'f2f_114', 'f2f_030', 'f2f_034', 'f2f_038')  # N=16\n",
    "subjects_vocab24_low = ('f2f_015', 'f2f_022', 'f2f_107', 'f2f_010', 'f2f_024', 'f2f_104', \n",
    "                        'f2f_025', 'f2f_117', 'f2f_028','f2f_116', 'f2f_012', 'f2f_013',\n",
    "                        'f2f_027', 'f2f_103', 'f2f_112', 'f2f_029', 'f2f_009')   # N=17\n",
    "# High: 036, 106, 102, 021, 041, 011, 037, 118, 111, 119, 108, 114, 030, 033, 034, 018, 038\n",
    "# Low: 015, 022, 107, 010, 024, 104, 025, 117, 028, 116, 012, 013, 027, 103, 112, 029, 009\n",
    "\n",
    "subjects_sntc24_high = ('f2f_106', 'f2f_037', 'f2f_034', 'f2f_103', 'f2f_102', 'f2f_026',\n",
    "                        'f2f_011', 'f2f_118', 'f2f_119', 'f2f_013', 'f2f_030', 'f2f_018',\n",
    "                        'f2f_012', 'f2f_108', 'f2f_111', 'f2f_115', 'f2f_114')  # N=17\n",
    "subjects_sntc24_low = ('f2f_015', 'f2f_022', 'f2f_107', 'f2f_010', 'f2f_104', 'f2f_027',\n",
    "                       'f2f_112', 'f2f_028', 'f2f_116', 'f2f_021', 'f2f_025','f2f_117',\n",
    "                       'f2f_029', 'f2f_009', 'f2f_014', 'f2f_036', 'f2f_024')   # N=17\n",
    "# High: 106, 037, 034, 103, 102, 011, 118, 119, 013, 012, 030, 041, 108, 111, 115,\n",
    "# 033, 018, 114\n",
    "# Low: 015, 022, 107, 010, 024, 104, 117, 027, 112, 028, 116, 021, 025, 029,\n",
    "# 009, 014, 036\n",
    "\n",
    "subjects_sntc30_high = ('f2f_102', 'f2f_118', 'f2f_028', 'f2f_013', 'f2f_011', 'f2f_115',\n",
    "                        'f2f_108', 'f2f_037', 'f2f_034', 'f2f_030', 'f2f_103', 'f2f_111',\n",
    "                        'f2f_018', 'f2f_026', 'f2f_029', 'f2f_112', 'f2f_106', 'f2f_114')  # N=18\n",
    "subjects_sntc30_low = ('f2f_015', 'f2f_022', 'f2f_107', 'f2f_021', 'f2f_116', 'f2f_010', \n",
    "                       'f2f_104', 'f2f_014', 'f2f_009', 'f2f_024', 'f2f_025', 'f2f_117',\n",
    "                       'f2f_036', 'f2f_119', 'f2f_012', 'f2f_027')  # N=16\n",
    "# High: 102, 118, 028, 013, 011, 115, 108, 037, 034, 030, 103, 111, 018, 029, 033,\n",
    "#     112, 106, 114 \n",
    "# Low: 015, 022, 107, 117, 021, 116, 010, 104, 014, 009, 024, 025, 036, 119, 041,\n",
    "#     012, 027"
   ]
  },
  {
   "cell_type": "code",
   "execution_count": 3,
   "metadata": {},
   "outputs": [],
   "source": [
    "# New groupings for ALL averaging (2020-04-21) #\n",
    "partial_subjects = ('f2f_009', 'f2f_010', 'f2f_012', 'f2f_013',\n",
    "                    'f2f_018', 'f2f_021', 'f2f_025', 'f2f_027',\n",
    "                    'f2f_028', 'f2f_029', 'f2f_030', 'f2f_036',\n",
    "                    'f2f_037', 'f2f_103', 'f2f_104', 'f2f_108',\n",
    "                    'f2f_111', 'f2f_114', 'f2f_116', 'f2f_117', 'f2f_119')   # N=21\n",
    "\n",
    "test_subjects = ['f2f_009', 'f2f_030']"
   ]
  },
  {
   "cell_type": "code",
   "execution_count": 4,
   "metadata": {},
   "outputs": [],
   "source": [
    "# The actual set to use for the ROI analysis below #\n",
    "use_subjects = partial_subjects   # test_subjects"
   ]
  },
  {
   "cell_type": "code",
   "execution_count": 5,
   "metadata": {},
   "outputs": [],
   "source": [
    "# Define PSD parameters and output paths #\n",
    "yml_file = './f2f_params.yml'\n",
    "params = mnefun.read_params(yml_file)\n",
    "\n",
    "params.work_dir = os.path.expanduser('~/Data/MEG/f2f')\n",
    "params.subjects_dir = os.path.expanduser('~/Data/MEG/anatomy')\n",
    "params.structurals = params.subjects\n",
    "params.score = None              # this won't be used\n",
    "params.subject_indices = None    # this won't be used either\n",
    "params.subjects = all_subjects   # also"
   ]
  },
  {
   "cell_type": "code",
   "execution_count": 6,
   "metadata": {},
   "outputs": [],
   "source": [
    "# Tailor parameters for surface or volumetric source space #\n",
    "SOURCE_TYPE = 'surf';    # options are 'surf' or 'vol'\n",
    "\n",
    "if SOURCE_TYPE == 'surf':\n",
    "    params.src = 'oct6'\n",
    "    params.forward_dir = 'forward_surf'\n",
    "    params.inverse_dir = 'inverse_surf'\n",
    "elif SOURCE_TYPE == 'vol':\n",
    "    params.src = 'vol5'\n",
    "else:\n",
    "    raise ValueError('Source type must be \"surf\" or \"vol\".')"
   ]
  },
  {
   "cell_type": "code",
   "execution_count": 7,
   "metadata": {},
   "outputs": [],
   "source": [
    "# Define the band-pass characteristics - these should match the analysis script below #\n",
    "BANDS_TYPE = 'reduced'\n",
    "\n",
    "if BANDS_TYPE == 'infant':\n",
    "    band_names = ('low theta', 'high theta', 'alpha', 'beta', 'gamma')\n",
    "    band_psddir = 'psd2_fif'\n",
    "    pattern_suffix = '_infant_srfpsd'\n",
    "elif BANDS_TYPE == 'reduced':  # new from 2021 Apr\n",
    "    band_names = ('theta', 'alpha', 'beta', 'gamma')\n",
    "    band_psddir = 'psd3_fif'\n",
    "    pattern_suffix = '_reduced_srfpsd'\n",
    "elif BANDS_TYPE == 'nogamma':  # new from 2021 Apr\n",
    "    band_names = ('theta', 'alpha', 'beta')\n",
    "    band_psddir = 'psd4_fif'\n",
    "    pattern_suffix = '_nogamma_srfpsd'\n",
    "else:\n",
    "    band_names = ('theta', 'alpha', 'beta', 'gamma', 'high gamma')\n",
    "    band_psddir = 'psd1_fif'\n",
    "    pattern_suffix = '_original_srfpsd'\n",
    "n_bands = len(band_names)"
   ]
  },
  {
   "cell_type": "code",
   "execution_count": 8,
   "metadata": {},
   "outputs": [],
   "source": [
    "# Set up spectral estimation parameters #\n",
    "params.unfreeze()\n",
    "params.psd_dir = band_psddir\n",
    "params.psd_params = dict(fmin=0, fmax=60, n_fft=512)\n",
    "params.freeze()"
   ]
  },
  {
   "cell_type": "markdown",
   "metadata": {},
   "source": [
    "## Generate PSD STCs\n",
    "These will go to individual 'psd_fif' directories, along side the sensor-level ones.  The current code below reflects October 2020 changes to create_srcpsds() allowing for either volumetric or surface source spaces. Global normalization is no longer being performed in this notebook.  \n",
    "Make sure **SOURCE_TYPE** and **BANDS_TYPE** above are set correctly."
   ]
  },
  {
   "cell_type": "code",
   "execution_count": 8,
   "metadata": {},
   "outputs": [],
   "source": [
    "# Rerun this cell if python script is updated #\n",
    "importlib.reload(f2f_analysis_source);"
   ]
  },
  {
   "cell_type": "code",
   "execution_count": 23,
   "metadata": {},
   "outputs": [
    {
     "name": "stdout",
     "output_type": "stream",
     "text": [
      "The bands to be processed are:\n",
      "{'theta': (4.0, 8.0), 'alpha': (8.0, 12.0), 'beta': (12.0, 28.0), 'gamma': (28.0, 60.0)}\n",
      "\n",
      "The PSD subdirectory is: psd3_fif\n"
     ]
    }
   ],
   "source": [
    "# Check that the loaded analysis script agrees with the BANDS_TYPE setting #\n",
    "bands_def = f2f_analysis_source.bands_def\n",
    "\n",
    "assert BANDS_TYPE == f2f_analysis_source.bands_type\n",
    "assert n_bands == f2f_analysis_source.n_bands\n",
    "assert all([name in bands_def for name in band_names])\n",
    "\n",
    "print('The bands to be processed are:')\n",
    "print(f2f_analysis_source.bands_def)\n",
    "print('\\nThe PSD subdirectory is:', params.psd_dir)"
   ]
  },
  {
   "cell_type": "raw",
   "metadata": {},
   "source": [
    "# Make source PSDs, with all projectors applied, and store as regular AND morphed STCs #\n",
    "# This is the original call, made for volumetric source spaces.\n",
    "create_srcpsds(params.subjects, params, epoch_range=(0,209), morph=\"14mo_surr\",\n",
    "               activate_proj=True, scaling='normpower_logmean', extra_tag=norm_tag)"
   ]
  },
  {
   "cell_type": "code",
   "execution_count": 15,
   "metadata": {},
   "outputs": [
    {
     "name": "stdout",
     "output_type": "stream",
     "text": [
      "Creating power spectra using reduced frequency bands.\n",
      "The frequency bands will be:\n",
      "** {'theta': (4.0, 8.0), 'alpha': (8.0, 12.0), 'beta': (12.0, 28.0), 'gamma': (28.0, 60.0)} **\n",
      "    Reading a source space...\n",
      "    [done]\n",
      "    Reading a source space...\n",
      "    [done]\n",
      "    2 source spaces read\n",
      "Reading /home/sbierer/Data/MEG/f2f/f2f_009/epochs/All_1sec_80-sss_f2f_009-epo.fif ...\n",
      "    Read a total of 2 projection items:\n",
      "        meg-ECG--0.08-0.08-PCA-01 (1 x 306)  idle\n",
      "        meg-ECG--0.08-0.08-PCA-02 (1 x 306)  idle\n",
      "    Found the data of interest:\n",
      "        t =       0.00 ...     997.11 ms\n",
      "        0 CTF compensation matrices available\n",
      "Not setting metadata\n",
      "Not setting metadata\n",
      "746 matching events found\n",
      "No baseline correction applied\n",
      "Created an SSP operator (subspace dimension = 2)\n",
      "Created an SSP operator (subspace dimension = 2)\n",
      "2 projection items activated\n",
      "SSP projectors applied...\n",
      "    ** Adjusting subject label for source space **\n",
      "Considering frequencies 0 ... 60 Hz\n",
      "Preparing the inverse operator for use...\n",
      "    Scaled noise and source covariance from nave = 1 to nave = 1\n",
      "    Created the regularized inverter\n",
      "    Created an SSP operator (subspace dimension = 2)\n",
      "    Created the whitener using a noise covariance matrix with rank 46 (260 small eigenvalues omitted)\n",
      "    Computing noise-normalization factors (sLORETA)...\n",
      "[done]\n",
      "Picked 306 channels from the data\n",
      "Computing inverse...\n",
      "    Eigenleads need to be weighted ...\n",
      "Reducing data rank 306 -> 46\n",
      "Using 1 tapers with bandwidth 2.0 Hz on 210 epochs\n"
     ]
    },
    {
     "data": {
      "application/vnd.jupyter.widget-view+json": {
       "model_id": "ef9731350b8547ddab886a3329ad6e49",
       "version_major": 2,
       "version_minor": 0
      },
      "text/plain": [
       "  0%|          |  : 0/210 [00:00<?,       ?it/s]"
      ]
     },
     "metadata": {},
     "output_type": "display_data"
    },
    {
     "name": "stdout",
     "output_type": "stream",
     "text": [
      "Considering frequencies 0 ... 60 Hz\n",
      "Preparing the inverse operator for use...\n",
      "    Scaled noise and source covariance from nave = 1 to nave = 1\n",
      "    Created the regularized inverter\n",
      "    Created an SSP operator (subspace dimension = 2)\n",
      "    Created the whitener using a noise covariance matrix with rank 46 (260 small eigenvalues omitted)\n",
      "    Computing noise-normalization factors (sLORETA)...\n",
      "[done]\n",
      "Picked 306 channels from the data\n",
      "Computing inverse...\n",
      "    Eigenleads need to be weighted ...\n",
      "Reducing data rank 306 -> 46\n",
      "Using 1 tapers with bandwidth 2.0 Hz on 210 epochs\n"
     ]
    },
    {
     "data": {
      "application/vnd.jupyter.widget-view+json": {
       "model_id": "6800f3a0da124a24810c666dd15d977f",
       "version_major": 2,
       "version_minor": 0
      },
      "text/plain": [
       "  0%|          |  : 0/210 [00:00<?,       ?it/s]"
      ]
     },
     "metadata": {},
     "output_type": "display_data"
    },
    {
     "name": "stdout",
     "output_type": "stream",
     "text": [
      "  Created psd directory for f2f_009.\n",
      "Writing STC to disk...\n",
      "[done]\n",
      "Writing STC to disk...\n",
      "[done]\n",
      "Writing STC to disk...\n",
      "[done]\n",
      "Writing STC to disk...\n",
      "[done]\n",
      "Writing STC to disk...\n",
      "[done]\n",
      "Writing STC to disk...\n",
      "[done]\n",
      "Reading /home/sbierer/Data/MEG/f2f/f2f_010/epochs/All_1sec_80-sss_f2f_010-epo.fif ...\n",
      "    Read a total of 2 projection items:\n",
      "        meg-ECG--0.08-0.08-PCA-01 (1 x 305)  idle\n",
      "        meg-ECG--0.08-0.08-PCA-02 (1 x 305)  idle\n",
      "    Found the data of interest:\n",
      "        t =       0.00 ...     997.11 ms\n",
      "        0 CTF compensation matrices available\n",
      "Not setting metadata\n",
      "Not setting metadata\n",
      "645 matching events found\n",
      "No baseline correction applied\n",
      "Created an SSP operator (subspace dimension = 2)\n",
      "Created an SSP operator (subspace dimension = 2)\n",
      "2 projection items activated\n",
      "SSP projectors applied...\n",
      "Considering frequencies 0 ... 60 Hz\n",
      "Preparing the inverse operator for use...\n",
      "    Scaled noise and source covariance from nave = 1 to nave = 1\n",
      "    Created the regularized inverter\n",
      "    Created an SSP operator (subspace dimension = 2)\n",
      "    Created the whitener using a noise covariance matrix with rank 46 (259 small eigenvalues omitted)\n",
      "    Computing noise-normalization factors (sLORETA)...\n",
      "[done]\n",
      "Picked 305 channels from the data\n",
      "Computing inverse...\n",
      "    Eigenleads need to be weighted ...\n",
      "Reducing data rank 305 -> 46\n",
      "Using 1 tapers with bandwidth 2.0 Hz on 210 epochs\n"
     ]
    },
    {
     "data": {
      "application/vnd.jupyter.widget-view+json": {
       "model_id": "91c9fb6486744ce1be92fcb378a99e01",
       "version_major": 2,
       "version_minor": 0
      },
      "text/plain": [
       "  0%|          |  : 0/210 [00:00<?,       ?it/s]"
      ]
     },
     "metadata": {},
     "output_type": "display_data"
    },
    {
     "name": "stdout",
     "output_type": "stream",
     "text": [
      "Considering frequencies 0 ... 60 Hz\n",
      "Preparing the inverse operator for use...\n",
      "    Scaled noise and source covariance from nave = 1 to nave = 1\n",
      "    Created the regularized inverter\n",
      "    Created an SSP operator (subspace dimension = 2)\n",
      "    Created the whitener using a noise covariance matrix with rank 46 (259 small eigenvalues omitted)\n",
      "    Computing noise-normalization factors (sLORETA)...\n",
      "[done]\n",
      "Picked 305 channels from the data\n",
      "Computing inverse...\n",
      "    Eigenleads need to be weighted ...\n",
      "Reducing data rank 305 -> 46\n",
      "Using 1 tapers with bandwidth 2.0 Hz on 210 epochs\n"
     ]
    },
    {
     "data": {
      "application/vnd.jupyter.widget-view+json": {
       "model_id": "58f0f615e5e340fa9e429ed151f9ca29",
       "version_major": 2,
       "version_minor": 0
      },
      "text/plain": [
       "  0%|          |  : 0/210 [00:00<?,       ?it/s]"
      ]
     },
     "metadata": {},
     "output_type": "display_data"
    },
    {
     "name": "stdout",
     "output_type": "stream",
     "text": [
      "  Created psd directory for f2f_010.\n",
      "Writing STC to disk...\n",
      "[done]\n",
      "Writing STC to disk...\n",
      "[done]\n",
      "Writing STC to disk...\n",
      "[done]\n",
      "Writing STC to disk...\n",
      "[done]\n",
      "Writing STC to disk...\n",
      "[done]\n",
      "Writing STC to disk...\n",
      "[done]\n",
      "Reading /home/sbierer/Data/MEG/f2f/f2f_011/epochs/All_1sec_80-sss_f2f_011-epo.fif ...\n",
      "    Read a total of 2 projection items:\n",
      "        meg-ECG--0.08-0.08-PCA-01 (1 x 305)  idle\n",
      "        meg-ECG--0.08-0.08-PCA-02 (1 x 305)  idle\n",
      "    Found the data of interest:\n",
      "        t =       0.00 ...     997.11 ms\n",
      "        0 CTF compensation matrices available\n",
      "Not setting metadata\n",
      "Not setting metadata\n",
      "669 matching events found\n",
      "No baseline correction applied\n",
      "Created an SSP operator (subspace dimension = 2)\n",
      "Created an SSP operator (subspace dimension = 2)\n",
      "2 projection items activated\n",
      "SSP projectors applied...\n",
      "Considering frequencies 0 ... 60 Hz\n",
      "Preparing the inverse operator for use...\n",
      "    Scaled noise and source covariance from nave = 1 to nave = 1\n",
      "    Created the regularized inverter\n",
      "    Created an SSP operator (subspace dimension = 2)\n",
      "    Created the whitener using a noise covariance matrix with rank 46 (259 small eigenvalues omitted)\n",
      "    Computing noise-normalization factors (sLORETA)...\n",
      "[done]\n",
      "Picked 305 channels from the data\n",
      "Computing inverse...\n",
      "    Eigenleads need to be weighted ...\n",
      "Reducing data rank 305 -> 46\n",
      "Using 1 tapers with bandwidth 2.0 Hz on 210 epochs\n"
     ]
    },
    {
     "data": {
      "application/vnd.jupyter.widget-view+json": {
       "model_id": "91d212ab564f49efb729f3c8d51aeab7",
       "version_major": 2,
       "version_minor": 0
      },
      "text/plain": [
       "  0%|          |  : 0/210 [00:00<?,       ?it/s]"
      ]
     },
     "metadata": {},
     "output_type": "display_data"
    },
    {
     "name": "stdout",
     "output_type": "stream",
     "text": [
      "Considering frequencies 0 ... 60 Hz\n",
      "Preparing the inverse operator for use...\n",
      "    Scaled noise and source covariance from nave = 1 to nave = 1\n",
      "    Created the regularized inverter\n",
      "    Created an SSP operator (subspace dimension = 2)\n",
      "    Created the whitener using a noise covariance matrix with rank 46 (259 small eigenvalues omitted)\n",
      "    Computing noise-normalization factors (sLORETA)...\n",
      "[done]\n",
      "Picked 305 channels from the data\n",
      "Computing inverse...\n",
      "    Eigenleads need to be weighted ...\n",
      "Reducing data rank 305 -> 46\n",
      "Using 1 tapers with bandwidth 2.0 Hz on 210 epochs\n"
     ]
    },
    {
     "data": {
      "application/vnd.jupyter.widget-view+json": {
       "model_id": "1bf20d5f6276481ab460b234c5b9d8f1",
       "version_major": 2,
       "version_minor": 0
      },
      "text/plain": [
       "  0%|          |  : 0/210 [00:00<?,       ?it/s]"
      ]
     },
     "metadata": {},
     "output_type": "display_data"
    },
    {
     "name": "stdout",
     "output_type": "stream",
     "text": [
      "  Created psd directory for f2f_011.\n",
      "Writing STC to disk...\n",
      "[done]\n",
      "Writing STC to disk...\n",
      "[done]\n",
      "Writing STC to disk...\n",
      "[done]\n",
      "Writing STC to disk...\n",
      "[done]\n",
      "Writing STC to disk...\n",
      "[done]\n",
      "Writing STC to disk...\n",
      "[done]\n",
      "Reading /home/sbierer/Data/MEG/f2f/f2f_012/epochs/All_1sec_80-sss_f2f_012-epo.fif ...\n",
      "    Read a total of 2 projection items:\n",
      "        meg-ECG--0.08-0.08-PCA-01 (1 x 305)  idle\n",
      "        meg-ECG--0.08-0.08-PCA-02 (1 x 305)  idle\n",
      "    Found the data of interest:\n",
      "        t =       0.00 ...     997.11 ms\n",
      "        0 CTF compensation matrices available\n",
      "Not setting metadata\n",
      "Not setting metadata\n",
      "878 matching events found\n",
      "No baseline correction applied\n",
      "Created an SSP operator (subspace dimension = 2)\n",
      "Created an SSP operator (subspace dimension = 2)\n",
      "2 projection items activated\n",
      "SSP projectors applied...\n",
      "Considering frequencies 0 ... 60 Hz\n",
      "Preparing the inverse operator for use...\n",
      "    Scaled noise and source covariance from nave = 1 to nave = 1\n",
      "    Created the regularized inverter\n",
      "    Created an SSP operator (subspace dimension = 2)\n",
      "    Created the whitener using a noise covariance matrix with rank 46 (259 small eigenvalues omitted)\n",
      "    Computing noise-normalization factors (sLORETA)...\n",
      "[done]\n",
      "Picked 305 channels from the data\n",
      "Computing inverse...\n",
      "    Eigenleads need to be weighted ...\n",
      "Reducing data rank 305 -> 46\n",
      "Using 1 tapers with bandwidth 2.0 Hz on 210 epochs\n"
     ]
    },
    {
     "data": {
      "application/vnd.jupyter.widget-view+json": {
       "model_id": "1b1e90148f9e4b9b9d4156b13df2411d",
       "version_major": 2,
       "version_minor": 0
      },
      "text/plain": [
       "  0%|          |  : 0/210 [00:00<?,       ?it/s]"
      ]
     },
     "metadata": {},
     "output_type": "display_data"
    },
    {
     "name": "stdout",
     "output_type": "stream",
     "text": [
      "Considering frequencies 0 ... 60 Hz\n",
      "Preparing the inverse operator for use...\n",
      "    Scaled noise and source covariance from nave = 1 to nave = 1\n",
      "    Created the regularized inverter\n",
      "    Created an SSP operator (subspace dimension = 2)\n",
      "    Created the whitener using a noise covariance matrix with rank 46 (259 small eigenvalues omitted)\n",
      "    Computing noise-normalization factors (sLORETA)...\n",
      "[done]\n",
      "Picked 305 channels from the data\n",
      "Computing inverse...\n",
      "    Eigenleads need to be weighted ...\n",
      "Reducing data rank 305 -> 46\n",
      "Using 1 tapers with bandwidth 2.0 Hz on 210 epochs\n"
     ]
    },
    {
     "data": {
      "application/vnd.jupyter.widget-view+json": {
       "model_id": "e2ad43d1902549bcaa1f2995811e65b5",
       "version_major": 2,
       "version_minor": 0
      },
      "text/plain": [
       "  0%|          |  : 0/210 [00:00<?,       ?it/s]"
      ]
     },
     "metadata": {},
     "output_type": "display_data"
    },
    {
     "name": "stdout",
     "output_type": "stream",
     "text": [
      "  Created psd directory for f2f_012.\n",
      "Writing STC to disk...\n",
      "[done]\n",
      "Writing STC to disk...\n",
      "[done]\n",
      "Writing STC to disk...\n",
      "[done]\n",
      "Writing STC to disk...\n",
      "[done]\n",
      "Writing STC to disk...\n",
      "[done]\n",
      "Writing STC to disk...\n",
      "[done]\n",
      "Reading /home/sbierer/Data/MEG/f2f/f2f_013/epochs/All_1sec_80-sss_f2f_013-epo.fif ...\n",
      "    Read a total of 2 projection items:\n",
      "        meg-ECG--0.08-0.08-PCA-01 (1 x 305)  idle\n",
      "        meg-ECG--0.08-0.08-PCA-02 (1 x 305)  idle\n",
      "    Found the data of interest:\n",
      "        t =       0.00 ...     997.11 ms\n",
      "        0 CTF compensation matrices available\n",
      "Not setting metadata\n",
      "Not setting metadata\n",
      "806 matching events found\n",
      "No baseline correction applied\n",
      "Created an SSP operator (subspace dimension = 2)\n",
      "Created an SSP operator (subspace dimension = 2)\n",
      "2 projection items activated\n",
      "SSP projectors applied...\n",
      "Considering frequencies 0 ... 60 Hz\n",
      "Preparing the inverse operator for use...\n",
      "    Scaled noise and source covariance from nave = 1 to nave = 1\n",
      "    Created the regularized inverter\n",
      "    Created an SSP operator (subspace dimension = 2)\n",
      "    Created the whitener using a noise covariance matrix with rank 46 (259 small eigenvalues omitted)\n",
      "    Computing noise-normalization factors (sLORETA)...\n",
      "[done]\n",
      "Picked 305 channels from the data\n",
      "Computing inverse...\n",
      "    Eigenleads need to be weighted ...\n",
      "Reducing data rank 305 -> 46\n",
      "Using 1 tapers with bandwidth 2.0 Hz on 210 epochs\n"
     ]
    },
    {
     "data": {
      "application/vnd.jupyter.widget-view+json": {
       "model_id": "a7b0f1f6dcf5460eabba9a8c1dab1f11",
       "version_major": 2,
       "version_minor": 0
      },
      "text/plain": [
       "  0%|          |  : 0/210 [00:00<?,       ?it/s]"
      ]
     },
     "metadata": {},
     "output_type": "display_data"
    },
    {
     "name": "stdout",
     "output_type": "stream",
     "text": [
      "Considering frequencies 0 ... 60 Hz\n",
      "Preparing the inverse operator for use...\n",
      "    Scaled noise and source covariance from nave = 1 to nave = 1\n",
      "    Created the regularized inverter\n",
      "    Created an SSP operator (subspace dimension = 2)\n",
      "    Created the whitener using a noise covariance matrix with rank 46 (259 small eigenvalues omitted)\n",
      "    Computing noise-normalization factors (sLORETA)...\n",
      "[done]\n",
      "Picked 305 channels from the data\n",
      "Computing inverse...\n",
      "    Eigenleads need to be weighted ...\n",
      "Reducing data rank 305 -> 46\n",
      "Using 1 tapers with bandwidth 2.0 Hz on 210 epochs\n"
     ]
    },
    {
     "data": {
      "application/vnd.jupyter.widget-view+json": {
       "model_id": "cf2b8cd758f247df96fd8b9e681c6398",
       "version_major": 2,
       "version_minor": 0
      },
      "text/plain": [
       "  0%|          |  : 0/210 [00:00<?,       ?it/s]"
      ]
     },
     "metadata": {},
     "output_type": "display_data"
    },
    {
     "name": "stdout",
     "output_type": "stream",
     "text": [
      "  Created psd directory for f2f_013.\n",
      "Writing STC to disk...\n",
      "[done]\n",
      "Writing STC to disk...\n",
      "[done]\n",
      "Writing STC to disk...\n",
      "[done]\n",
      "Writing STC to disk...\n",
      "[done]\n",
      "Writing STC to disk...\n",
      "[done]\n",
      "Writing STC to disk...\n",
      "[done]\n",
      "Reading /home/sbierer/Data/MEG/f2f/f2f_014/epochs/All_1sec_80-sss_f2f_014-epo.fif ...\n",
      "    Read a total of 2 projection items:\n",
      "        meg-ECG--0.08-0.08-PCA-01 (1 x 305)  idle\n",
      "        meg-ECG--0.08-0.08-PCA-02 (1 x 305)  idle\n",
      "    Found the data of interest:\n",
      "        t =       0.00 ...     997.11 ms\n",
      "        0 CTF compensation matrices available\n",
      "Not setting metadata\n",
      "Not setting metadata\n",
      "385 matching events found\n",
      "No baseline correction applied\n",
      "Created an SSP operator (subspace dimension = 2)\n",
      "Created an SSP operator (subspace dimension = 2)\n",
      "2 projection items activated\n",
      "SSP projectors applied...\n",
      "Considering frequencies 0 ... 60 Hz\n",
      "Preparing the inverse operator for use...\n",
      "    Scaled noise and source covariance from nave = 1 to nave = 1\n",
      "    Created the regularized inverter\n",
      "    Created an SSP operator (subspace dimension = 2)\n",
      "    Created the whitener using a noise covariance matrix with rank 45 (260 small eigenvalues omitted)\n",
      "    Computing noise-normalization factors (sLORETA)...\n",
      "[done]\n",
      "Picked 305 channels from the data\n",
      "Computing inverse...\n",
      "    Eigenleads need to be weighted ...\n",
      "Reducing data rank 305 -> 45\n",
      "Using 1 tapers with bandwidth 2.0 Hz on 199 epochs\n"
     ]
    },
    {
     "data": {
      "application/vnd.jupyter.widget-view+json": {
       "model_id": "5be34aea554546adb13c4e9b8a2a3980",
       "version_major": 2,
       "version_minor": 0
      },
      "text/plain": [
       "  0%|          |  : 0/199 [00:00<?,       ?it/s]"
      ]
     },
     "metadata": {},
     "output_type": "display_data"
    },
    {
     "name": "stdout",
     "output_type": "stream",
     "text": [
      "Considering frequencies 0 ... 60 Hz\n",
      "Preparing the inverse operator for use...\n",
      "    Scaled noise and source covariance from nave = 1 to nave = 1\n",
      "    Created the regularized inverter\n",
      "    Created an SSP operator (subspace dimension = 2)\n",
      "    Created the whitener using a noise covariance matrix with rank 45 (260 small eigenvalues omitted)\n",
      "    Computing noise-normalization factors (sLORETA)...\n",
      "[done]\n",
      "Picked 305 channels from the data\n",
      "Computing inverse...\n",
      "    Eigenleads need to be weighted ...\n",
      "Reducing data rank 305 -> 45\n",
      "Using 1 tapers with bandwidth 2.0 Hz on 186 epochs\n"
     ]
    },
    {
     "data": {
      "application/vnd.jupyter.widget-view+json": {
       "model_id": "69ae03a0dbe346199756862a9de17b68",
       "version_major": 2,
       "version_minor": 0
      },
      "text/plain": [
       "  0%|          |  : 0/186 [00:00<?,       ?it/s]"
      ]
     },
     "metadata": {},
     "output_type": "display_data"
    },
    {
     "name": "stdout",
     "output_type": "stream",
     "text": [
      "  Created psd directory for f2f_014.\n",
      "Writing STC to disk...\n",
      "[done]\n",
      "Writing STC to disk...\n",
      "[done]\n",
      "Writing STC to disk...\n",
      "[done]\n",
      "Writing STC to disk...\n",
      "[done]\n",
      "Writing STC to disk...\n",
      "[done]\n",
      "Writing STC to disk...\n",
      "[done]\n",
      "Reading /home/sbierer/Data/MEG/f2f/f2f_015/epochs/All_1sec_80-sss_f2f_015-epo.fif ...\n",
      "    Read a total of 2 projection items:\n",
      "        meg-ECG--0.08-0.08-PCA-01 (1 x 305)  idle\n",
      "        meg-ECG--0.08-0.08-PCA-02 (1 x 305)  idle\n",
      "    Found the data of interest:\n",
      "        t =       0.00 ...     997.11 ms\n",
      "        0 CTF compensation matrices available\n",
      "Not setting metadata\n",
      "Not setting metadata\n",
      "1125 matching events found\n",
      "No baseline correction applied\n",
      "Created an SSP operator (subspace dimension = 2)\n",
      "Created an SSP operator (subspace dimension = 2)\n",
      "2 projection items activated\n",
      "SSP projectors applied...\n",
      "Considering frequencies 0 ... 60 Hz\n",
      "Preparing the inverse operator for use...\n",
      "    Scaled noise and source covariance from nave = 1 to nave = 1\n",
      "    Created the regularized inverter\n",
      "    Created an SSP operator (subspace dimension = 2)\n",
      "    Created the whitener using a noise covariance matrix with rank 44 (261 small eigenvalues omitted)\n",
      "    Computing noise-normalization factors (sLORETA)...\n",
      "[done]\n",
      "Picked 305 channels from the data\n",
      "Computing inverse...\n",
      "    Eigenleads need to be weighted ...\n",
      "Reducing data rank 305 -> 44\n",
      "Using 1 tapers with bandwidth 2.0 Hz on 210 epochs\n"
     ]
    },
    {
     "data": {
      "application/vnd.jupyter.widget-view+json": {
       "model_id": "0676c926480348ef88c5e1fbc5275acc",
       "version_major": 2,
       "version_minor": 0
      },
      "text/plain": [
       "  0%|          |  : 0/210 [00:00<?,       ?it/s]"
      ]
     },
     "metadata": {},
     "output_type": "display_data"
    },
    {
     "name": "stdout",
     "output_type": "stream",
     "text": [
      "Considering frequencies 0 ... 60 Hz\n",
      "Preparing the inverse operator for use...\n",
      "    Scaled noise and source covariance from nave = 1 to nave = 1\n",
      "    Created the regularized inverter\n",
      "    Created an SSP operator (subspace dimension = 2)\n",
      "    Created the whitener using a noise covariance matrix with rank 44 (261 small eigenvalues omitted)\n",
      "    Computing noise-normalization factors (sLORETA)...\n",
      "[done]\n",
      "Picked 305 channels from the data\n",
      "Computing inverse...\n",
      "    Eigenleads need to be weighted ...\n",
      "Reducing data rank 305 -> 44\n",
      "Using 1 tapers with bandwidth 2.0 Hz on 210 epochs\n"
     ]
    },
    {
     "data": {
      "application/vnd.jupyter.widget-view+json": {
       "model_id": "d46b7c858fbd487096bb21fbab672aca",
       "version_major": 2,
       "version_minor": 0
      },
      "text/plain": [
       "  0%|          |  : 0/210 [00:00<?,       ?it/s]"
      ]
     },
     "metadata": {},
     "output_type": "display_data"
    },
    {
     "name": "stdout",
     "output_type": "stream",
     "text": [
      "  Created psd directory for f2f_015.\n",
      "Writing STC to disk...\n",
      "[done]\n",
      "Writing STC to disk...\n",
      "[done]\n",
      "Writing STC to disk...\n",
      "[done]\n",
      "Writing STC to disk...\n",
      "[done]\n",
      "Writing STC to disk...\n",
      "[done]\n",
      "Writing STC to disk...\n",
      "[done]\n",
      "Reading /home/sbierer/Data/MEG/f2f/f2f_018/epochs/All_1sec_80-sss_f2f_018-epo.fif ...\n",
      "    Read a total of 2 projection items:\n",
      "        meg-ECG--0.08-0.08-PCA-01 (1 x 305)  idle\n",
      "        meg-ECG--0.08-0.08-PCA-02 (1 x 305)  idle\n",
      "    Found the data of interest:\n",
      "        t =       0.00 ...     997.11 ms\n",
      "        0 CTF compensation matrices available\n",
      "Not setting metadata\n",
      "Not setting metadata\n",
      "118 matching events found\n",
      "No baseline correction applied\n",
      "Created an SSP operator (subspace dimension = 2)\n",
      "Created an SSP operator (subspace dimension = 2)\n",
      "2 projection items activated\n",
      "SSP projectors applied...\n",
      "    ** Adjusting subject label for source space **\n",
      "Considering frequencies 0 ... 60 Hz\n",
      "Preparing the inverse operator for use...\n",
      "    Scaled noise and source covariance from nave = 1 to nave = 1\n",
      "    Created the regularized inverter\n",
      "    Created an SSP operator (subspace dimension = 2)\n",
      "    Created the whitener using a noise covariance matrix with rank 46 (259 small eigenvalues omitted)\n",
      "    Computing noise-normalization factors (sLORETA)...\n",
      "[done]\n",
      "Picked 305 channels from the data\n",
      "Computing inverse...\n",
      "    Eigenleads need to be weighted ...\n",
      "Reducing data rank 305 -> 46\n",
      "Using 1 tapers with bandwidth 2.0 Hz on 46 epochs\n"
     ]
    },
    {
     "data": {
      "application/vnd.jupyter.widget-view+json": {
       "model_id": "3289134f0d9e4e7b918d5ba85818329b",
       "version_major": 2,
       "version_minor": 0
      },
      "text/plain": [
       "  0%|          |  : 0/46 [00:00<?,       ?it/s]"
      ]
     },
     "metadata": {},
     "output_type": "display_data"
    },
    {
     "name": "stdout",
     "output_type": "stream",
     "text": [
      "Considering frequencies 0 ... 60 Hz\n",
      "Preparing the inverse operator for use...\n",
      "    Scaled noise and source covariance from nave = 1 to nave = 1\n",
      "    Created the regularized inverter\n",
      "    Created an SSP operator (subspace dimension = 2)\n",
      "    Created the whitener using a noise covariance matrix with rank 46 (259 small eigenvalues omitted)\n",
      "    Computing noise-normalization factors (sLORETA)...\n",
      "[done]\n",
      "Picked 305 channels from the data\n",
      "Computing inverse...\n",
      "    Eigenleads need to be weighted ...\n",
      "Reducing data rank 305 -> 46\n",
      "Using 1 tapers with bandwidth 2.0 Hz on 72 epochs\n"
     ]
    },
    {
     "data": {
      "application/vnd.jupyter.widget-view+json": {
       "model_id": "e2aef03cff034933b87bed5c9fe0478e",
       "version_major": 2,
       "version_minor": 0
      },
      "text/plain": [
       "  0%|          |  : 0/72 [00:00<?,       ?it/s]"
      ]
     },
     "metadata": {},
     "output_type": "display_data"
    },
    {
     "name": "stdout",
     "output_type": "stream",
     "text": [
      "  Created psd directory for f2f_018.\n",
      "Writing STC to disk...\n",
      "[done]\n",
      "Writing STC to disk...\n",
      "[done]\n",
      "Writing STC to disk...\n",
      "[done]\n",
      "Writing STC to disk...\n",
      "[done]\n",
      "Writing STC to disk...\n",
      "[done]\n",
      "Writing STC to disk...\n",
      "[done]\n",
      "Reading /home/sbierer/Data/MEG/f2f/f2f_021/epochs/All_1sec_80-sss_f2f_021-epo.fif ...\n",
      "    Read a total of 2 projection items:\n",
      "        meg-ECG--0.08-0.08-PCA-01 (1 x 306)  idle\n",
      "        meg-ECG--0.08-0.08-PCA-02 (1 x 306)  idle\n",
      "    Found the data of interest:\n",
      "        t =       0.00 ...     997.11 ms\n",
      "        0 CTF compensation matrices available\n",
      "Not setting metadata\n",
      "Not setting metadata\n",
      "816 matching events found\n",
      "No baseline correction applied\n",
      "Created an SSP operator (subspace dimension = 2)\n",
      "Created an SSP operator (subspace dimension = 2)\n",
      "2 projection items activated\n",
      "SSP projectors applied...\n",
      "Considering frequencies 0 ... 60 Hz\n",
      "Preparing the inverse operator for use...\n",
      "    Scaled noise and source covariance from nave = 1 to nave = 1\n",
      "    Created the regularized inverter\n",
      "    Created an SSP operator (subspace dimension = 2)\n",
      "    Created the whitener using a noise covariance matrix with rank 46 (260 small eigenvalues omitted)\n",
      "    Computing noise-normalization factors (sLORETA)...\n",
      "[done]\n",
      "Picked 306 channels from the data\n",
      "Computing inverse...\n",
      "    Eigenleads need to be weighted ...\n",
      "Reducing data rank 306 -> 46\n",
      "Using 1 tapers with bandwidth 2.0 Hz on 210 epochs\n"
     ]
    },
    {
     "data": {
      "application/vnd.jupyter.widget-view+json": {
       "model_id": "55519ee2475e4e54bedbaeddefd80126",
       "version_major": 2,
       "version_minor": 0
      },
      "text/plain": [
       "  0%|          |  : 0/210 [00:00<?,       ?it/s]"
      ]
     },
     "metadata": {},
     "output_type": "display_data"
    },
    {
     "name": "stdout",
     "output_type": "stream",
     "text": [
      "Considering frequencies 0 ... 60 Hz\n",
      "Preparing the inverse operator for use...\n",
      "    Scaled noise and source covariance from nave = 1 to nave = 1\n",
      "    Created the regularized inverter\n",
      "    Created an SSP operator (subspace dimension = 2)\n",
      "    Created the whitener using a noise covariance matrix with rank 46 (260 small eigenvalues omitted)\n",
      "    Computing noise-normalization factors (sLORETA)...\n",
      "[done]\n",
      "Picked 306 channels from the data\n",
      "Computing inverse...\n",
      "    Eigenleads need to be weighted ...\n",
      "Reducing data rank 306 -> 46\n",
      "Using 1 tapers with bandwidth 2.0 Hz on 210 epochs\n"
     ]
    },
    {
     "data": {
      "application/vnd.jupyter.widget-view+json": {
       "model_id": "a95b342963874d888d0847987309513b",
       "version_major": 2,
       "version_minor": 0
      },
      "text/plain": [
       "  0%|          |  : 0/210 [00:00<?,       ?it/s]"
      ]
     },
     "metadata": {},
     "output_type": "display_data"
    },
    {
     "name": "stdout",
     "output_type": "stream",
     "text": [
      "  Created psd directory for f2f_021.\n",
      "Writing STC to disk...\n",
      "[done]\n",
      "Writing STC to disk...\n",
      "[done]\n",
      "Writing STC to disk...\n",
      "[done]\n",
      "Writing STC to disk...\n",
      "[done]\n",
      "Writing STC to disk...\n",
      "[done]\n",
      "Writing STC to disk...\n",
      "[done]\n",
      "Reading /home/sbierer/Data/MEG/f2f/f2f_022/epochs/All_1sec_80-sss_f2f_022-epo.fif ...\n",
      "    Read a total of 2 projection items:\n",
      "        meg-ECG--0.08-0.08-PCA-01 (1 x 306)  idle\n",
      "        meg-ECG--0.08-0.08-PCA-02 (1 x 306)  idle\n",
      "    Found the data of interest:\n",
      "        t =       0.00 ...     997.11 ms\n",
      "        0 CTF compensation matrices available\n",
      "Not setting metadata\n",
      "Not setting metadata\n",
      "431 matching events found\n",
      "No baseline correction applied\n",
      "Created an SSP operator (subspace dimension = 2)\n",
      "Created an SSP operator (subspace dimension = 2)\n",
      "2 projection items activated\n",
      "SSP projectors applied...\n",
      "Considering frequencies 0 ... 60 Hz\n",
      "Preparing the inverse operator for use...\n",
      "    Scaled noise and source covariance from nave = 1 to nave = 1\n",
      "    Created the regularized inverter\n",
      "    Created an SSP operator (subspace dimension = 2)\n",
      "    Created the whitener using a noise covariance matrix with rank 46 (260 small eigenvalues omitted)\n",
      "    Computing noise-normalization factors (sLORETA)...\n",
      "[done]\n",
      "Picked 306 channels from the data\n",
      "Computing inverse...\n",
      "    Eigenleads need to be weighted ...\n",
      "Reducing data rank 306 -> 46\n",
      "Using 1 tapers with bandwidth 2.0 Hz on 210 epochs\n"
     ]
    },
    {
     "data": {
      "application/vnd.jupyter.widget-view+json": {
       "model_id": "f5a4928248394e23926a41d57e4935f4",
       "version_major": 2,
       "version_minor": 0
      },
      "text/plain": [
       "  0%|          |  : 0/210 [00:00<?,       ?it/s]"
      ]
     },
     "metadata": {},
     "output_type": "display_data"
    },
    {
     "name": "stdout",
     "output_type": "stream",
     "text": [
      "Considering frequencies 0 ... 60 Hz\n",
      "Preparing the inverse operator for use...\n",
      "    Scaled noise and source covariance from nave = 1 to nave = 1\n",
      "    Created the regularized inverter\n",
      "    Created an SSP operator (subspace dimension = 2)\n",
      "    Created the whitener using a noise covariance matrix with rank 46 (260 small eigenvalues omitted)\n",
      "    Computing noise-normalization factors (sLORETA)...\n",
      "[done]\n",
      "Picked 306 channels from the data\n",
      "Computing inverse...\n",
      "    Eigenleads need to be weighted ...\n",
      "Reducing data rank 306 -> 46\n",
      "Using 1 tapers with bandwidth 2.0 Hz on 206 epochs\n"
     ]
    },
    {
     "data": {
      "application/vnd.jupyter.widget-view+json": {
       "model_id": "7f37aa380b0d4b4c8c6569d6ce7b36bb",
       "version_major": 2,
       "version_minor": 0
      },
      "text/plain": [
       "  0%|          |  : 0/206 [00:00<?,       ?it/s]"
      ]
     },
     "metadata": {},
     "output_type": "display_data"
    },
    {
     "name": "stdout",
     "output_type": "stream",
     "text": [
      "  Created psd directory for f2f_022.\n",
      "Writing STC to disk...\n",
      "[done]\n",
      "Writing STC to disk...\n",
      "[done]\n",
      "Writing STC to disk...\n",
      "[done]\n",
      "Writing STC to disk...\n",
      "[done]\n",
      "Writing STC to disk...\n",
      "[done]\n",
      "Writing STC to disk...\n",
      "[done]\n",
      "Reading /home/sbierer/Data/MEG/f2f/f2f_024/epochs/All_1sec_80-sss_f2f_024-epo.fif ...\n",
      "    Read a total of 2 projection items:\n",
      "        meg-ECG--0.08-0.08-PCA-01 (1 x 306)  idle\n",
      "        meg-ECG--0.08-0.08-PCA-02 (1 x 306)  idle\n",
      "    Found the data of interest:\n",
      "        t =       0.00 ...     997.11 ms\n",
      "        0 CTF compensation matrices available\n",
      "Not setting metadata\n",
      "Not setting metadata\n",
      "492 matching events found\n",
      "No baseline correction applied\n",
      "Created an SSP operator (subspace dimension = 2)\n",
      "Created an SSP operator (subspace dimension = 2)\n",
      "2 projection items activated\n",
      "SSP projectors applied...\n",
      "    ** Adjusting subject label for source space **\n",
      "Considering frequencies 0 ... 60 Hz\n",
      "Preparing the inverse operator for use...\n",
      "    Scaled noise and source covariance from nave = 1 to nave = 1\n",
      "    Created the regularized inverter\n",
      "    Created an SSP operator (subspace dimension = 2)\n",
      "    Created the whitener using a noise covariance matrix with rank 46 (260 small eigenvalues omitted)\n",
      "    Computing noise-normalization factors (sLORETA)...\n",
      "[done]\n",
      "Picked 306 channels from the data\n",
      "Computing inverse...\n",
      "    Eigenleads need to be weighted ...\n",
      "Reducing data rank 306 -> 46\n",
      "Using 1 tapers with bandwidth 2.0 Hz on 210 epochs\n"
     ]
    },
    {
     "data": {
      "application/vnd.jupyter.widget-view+json": {
       "model_id": "407707bdfab04e73a19982d95f65a947",
       "version_major": 2,
       "version_minor": 0
      },
      "text/plain": [
       "  0%|          |  : 0/210 [00:00<?,       ?it/s]"
      ]
     },
     "metadata": {},
     "output_type": "display_data"
    },
    {
     "name": "stdout",
     "output_type": "stream",
     "text": [
      "Considering frequencies 0 ... 60 Hz\n",
      "Preparing the inverse operator for use...\n",
      "    Scaled noise and source covariance from nave = 1 to nave = 1\n",
      "    Created the regularized inverter\n",
      "    Created an SSP operator (subspace dimension = 2)\n",
      "    Created the whitener using a noise covariance matrix with rank 46 (260 small eigenvalues omitted)\n",
      "    Computing noise-normalization factors (sLORETA)...\n",
      "[done]\n",
      "Picked 306 channels from the data\n",
      "Computing inverse...\n",
      "    Eigenleads need to be weighted ...\n",
      "Reducing data rank 306 -> 46\n",
      "Using 1 tapers with bandwidth 2.0 Hz on 210 epochs\n"
     ]
    },
    {
     "data": {
      "application/vnd.jupyter.widget-view+json": {
       "model_id": "ee3675db7cd3403ba9885db2e070e6ff",
       "version_major": 2,
       "version_minor": 0
      },
      "text/plain": [
       "  0%|          |  : 0/210 [00:00<?,       ?it/s]"
      ]
     },
     "metadata": {},
     "output_type": "display_data"
    },
    {
     "name": "stdout",
     "output_type": "stream",
     "text": [
      "  Created psd directory for f2f_024.\n",
      "Writing STC to disk...\n",
      "[done]\n",
      "Writing STC to disk...\n",
      "[done]\n",
      "Writing STC to disk...\n",
      "[done]\n",
      "Writing STC to disk...\n",
      "[done]\n",
      "Writing STC to disk...\n",
      "[done]\n",
      "Writing STC to disk...\n",
      "[done]\n",
      "Reading /home/sbierer/Data/MEG/f2f/f2f_025/epochs/All_1sec_80-sss_f2f_025-epo.fif ...\n",
      "    Read a total of 2 projection items:\n",
      "        meg-ECG--0.08-0.08-PCA-01 (1 x 306)  idle\n",
      "        meg-ECG--0.08-0.08-PCA-02 (1 x 306)  idle\n",
      "    Found the data of interest:\n",
      "        t =       0.00 ...     997.11 ms\n",
      "        0 CTF compensation matrices available\n",
      "Not setting metadata\n",
      "Not setting metadata\n",
      "1024 matching events found\n",
      "No baseline correction applied\n",
      "Created an SSP operator (subspace dimension = 2)\n",
      "Created an SSP operator (subspace dimension = 2)\n",
      "2 projection items activated\n",
      "SSP projectors applied...\n",
      "Considering frequencies 0 ... 60 Hz\n",
      "Preparing the inverse operator for use...\n",
      "    Scaled noise and source covariance from nave = 1 to nave = 1\n",
      "    Created the regularized inverter\n",
      "    Created an SSP operator (subspace dimension = 2)\n",
      "    Created the whitener using a noise covariance matrix with rank 46 (260 small eigenvalues omitted)\n",
      "    Computing noise-normalization factors (sLORETA)...\n",
      "[done]\n",
      "Picked 306 channels from the data\n",
      "Computing inverse...\n",
      "    Eigenleads need to be weighted ...\n",
      "Reducing data rank 306 -> 46\n",
      "Using 1 tapers with bandwidth 2.0 Hz on 210 epochs\n"
     ]
    },
    {
     "data": {
      "application/vnd.jupyter.widget-view+json": {
       "model_id": "7526f072d30245b6ba7ea2409f03acca",
       "version_major": 2,
       "version_minor": 0
      },
      "text/plain": [
       "  0%|          |  : 0/210 [00:00<?,       ?it/s]"
      ]
     },
     "metadata": {},
     "output_type": "display_data"
    },
    {
     "name": "stdout",
     "output_type": "stream",
     "text": [
      "Considering frequencies 0 ... 60 Hz\n",
      "Preparing the inverse operator for use...\n",
      "    Scaled noise and source covariance from nave = 1 to nave = 1\n",
      "    Created the regularized inverter\n",
      "    Created an SSP operator (subspace dimension = 2)\n",
      "    Created the whitener using a noise covariance matrix with rank 46 (260 small eigenvalues omitted)\n",
      "    Computing noise-normalization factors (sLORETA)...\n",
      "[done]\n",
      "Picked 306 channels from the data\n",
      "Computing inverse...\n",
      "    Eigenleads need to be weighted ...\n",
      "Reducing data rank 306 -> 46\n",
      "Using 1 tapers with bandwidth 2.0 Hz on 210 epochs\n"
     ]
    },
    {
     "data": {
      "application/vnd.jupyter.widget-view+json": {
       "model_id": "5639b054222846dd8bb98d2d712f6038",
       "version_major": 2,
       "version_minor": 0
      },
      "text/plain": [
       "  0%|          |  : 0/210 [00:00<?,       ?it/s]"
      ]
     },
     "metadata": {},
     "output_type": "display_data"
    },
    {
     "name": "stdout",
     "output_type": "stream",
     "text": [
      "  Created psd directory for f2f_025.\n",
      "Writing STC to disk...\n",
      "[done]\n",
      "Writing STC to disk...\n",
      "[done]\n",
      "Writing STC to disk...\n",
      "[done]\n",
      "Writing STC to disk...\n",
      "[done]\n",
      "Writing STC to disk...\n",
      "[done]\n",
      "Writing STC to disk...\n",
      "[done]\n",
      "Reading /home/sbierer/Data/MEG/f2f/f2f_026/epochs/All_1sec_80-sss_f2f_026-epo.fif ...\n",
      "    Read a total of 2 projection items:\n",
      "        meg-ECG--0.08-0.08-PCA-01 (1 x 306)  idle\n",
      "        meg-ECG--0.08-0.08-PCA-02 (1 x 306)  idle\n",
      "    Found the data of interest:\n",
      "        t =       0.00 ...     997.11 ms\n",
      "        0 CTF compensation matrices available\n",
      "Not setting metadata\n",
      "Not setting metadata\n",
      "436 matching events found\n",
      "No baseline correction applied\n",
      "Created an SSP operator (subspace dimension = 2)\n",
      "Created an SSP operator (subspace dimension = 2)\n",
      "2 projection items activated\n",
      "SSP projectors applied...\n",
      "Considering frequencies 0 ... 60 Hz\n",
      "Preparing the inverse operator for use...\n",
      "    Scaled noise and source covariance from nave = 1 to nave = 1\n",
      "    Created the regularized inverter\n",
      "    Created an SSP operator (subspace dimension = 2)\n",
      "    Created the whitener using a noise covariance matrix with rank 46 (260 small eigenvalues omitted)\n",
      "    Computing noise-normalization factors (sLORETA)...\n",
      "[done]\n",
      "Picked 306 channels from the data\n",
      "Computing inverse...\n",
      "    Eigenleads need to be weighted ...\n",
      "Reducing data rank 306 -> 46\n",
      "Using 1 tapers with bandwidth 2.0 Hz on 209 epochs\n"
     ]
    },
    {
     "data": {
      "application/vnd.jupyter.widget-view+json": {
       "model_id": "1e095d6c56ad461f92e723be928c66e6",
       "version_major": 2,
       "version_minor": 0
      },
      "text/plain": [
       "  0%|          |  : 0/209 [00:00<?,       ?it/s]"
      ]
     },
     "metadata": {},
     "output_type": "display_data"
    },
    {
     "name": "stdout",
     "output_type": "stream",
     "text": [
      "Considering frequencies 0 ... 60 Hz\n",
      "Preparing the inverse operator for use...\n",
      "    Scaled noise and source covariance from nave = 1 to nave = 1\n",
      "    Created the regularized inverter\n",
      "    Created an SSP operator (subspace dimension = 2)\n",
      "    Created the whitener using a noise covariance matrix with rank 46 (260 small eigenvalues omitted)\n",
      "    Computing noise-normalization factors (sLORETA)...\n",
      "[done]\n",
      "Picked 306 channels from the data\n",
      "Computing inverse...\n",
      "    Eigenleads need to be weighted ...\n",
      "Reducing data rank 306 -> 46\n",
      "Using 1 tapers with bandwidth 2.0 Hz on 210 epochs\n"
     ]
    },
    {
     "data": {
      "application/vnd.jupyter.widget-view+json": {
       "model_id": "b3f9989be9844dc4af127094a1e60c7c",
       "version_major": 2,
       "version_minor": 0
      },
      "text/plain": [
       "  0%|          |  : 0/210 [00:00<?,       ?it/s]"
      ]
     },
     "metadata": {},
     "output_type": "display_data"
    },
    {
     "name": "stdout",
     "output_type": "stream",
     "text": [
      "  Created psd directory for f2f_026.\n",
      "Writing STC to disk...\n",
      "[done]\n",
      "Writing STC to disk...\n",
      "[done]\n",
      "Writing STC to disk...\n",
      "[done]\n",
      "Writing STC to disk...\n",
      "[done]\n",
      "Writing STC to disk...\n",
      "[done]\n",
      "Writing STC to disk...\n",
      "[done]\n",
      "Reading /home/sbierer/Data/MEG/f2f/f2f_027/epochs/All_1sec_80-sss_f2f_027-epo.fif ...\n",
      "    Read a total of 2 projection items:\n",
      "        meg-ECG--0.08-0.08-PCA-01 (1 x 306)  idle\n",
      "        meg-ECG--0.08-0.08-PCA-02 (1 x 306)  idle\n",
      "    Found the data of interest:\n",
      "        t =       0.00 ...     997.11 ms\n",
      "        0 CTF compensation matrices available\n",
      "Not setting metadata\n",
      "Not setting metadata\n",
      "1175 matching events found\n",
      "No baseline correction applied\n",
      "Created an SSP operator (subspace dimension = 2)\n",
      "Created an SSP operator (subspace dimension = 2)\n",
      "2 projection items activated\n",
      "SSP projectors applied...\n",
      "Considering frequencies 0 ... 60 Hz\n",
      "Preparing the inverse operator for use...\n",
      "    Scaled noise and source covariance from nave = 1 to nave = 1\n",
      "    Created the regularized inverter\n",
      "    Created an SSP operator (subspace dimension = 2)\n",
      "    Created the whitener using a noise covariance matrix with rank 46 (260 small eigenvalues omitted)\n",
      "    Computing noise-normalization factors (sLORETA)...\n",
      "[done]\n",
      "Picked 306 channels from the data\n",
      "Computing inverse...\n",
      "    Eigenleads need to be weighted ...\n",
      "Reducing data rank 306 -> 46\n",
      "Using 1 tapers with bandwidth 2.0 Hz on 210 epochs\n"
     ]
    },
    {
     "data": {
      "application/vnd.jupyter.widget-view+json": {
       "model_id": "f53a45b6077649c6b79fec63576c161d",
       "version_major": 2,
       "version_minor": 0
      },
      "text/plain": [
       "  0%|          |  : 0/210 [00:00<?,       ?it/s]"
      ]
     },
     "metadata": {},
     "output_type": "display_data"
    },
    {
     "name": "stdout",
     "output_type": "stream",
     "text": [
      "Considering frequencies 0 ... 60 Hz\n",
      "Preparing the inverse operator for use...\n",
      "    Scaled noise and source covariance from nave = 1 to nave = 1\n",
      "    Created the regularized inverter\n",
      "    Created an SSP operator (subspace dimension = 2)\n",
      "    Created the whitener using a noise covariance matrix with rank 46 (260 small eigenvalues omitted)\n",
      "    Computing noise-normalization factors (sLORETA)...\n",
      "[done]\n",
      "Picked 306 channels from the data\n",
      "Computing inverse...\n",
      "    Eigenleads need to be weighted ...\n",
      "Reducing data rank 306 -> 46\n",
      "Using 1 tapers with bandwidth 2.0 Hz on 210 epochs\n"
     ]
    },
    {
     "data": {
      "application/vnd.jupyter.widget-view+json": {
       "model_id": "e34801e3f80a4bef99afea5106626914",
       "version_major": 2,
       "version_minor": 0
      },
      "text/plain": [
       "  0%|          |  : 0/210 [00:00<?,       ?it/s]"
      ]
     },
     "metadata": {},
     "output_type": "display_data"
    },
    {
     "name": "stdout",
     "output_type": "stream",
     "text": [
      "  Created psd directory for f2f_027.\n",
      "Writing STC to disk...\n",
      "[done]\n",
      "Writing STC to disk...\n",
      "[done]\n",
      "Writing STC to disk...\n",
      "[done]\n",
      "Writing STC to disk...\n",
      "[done]\n",
      "Writing STC to disk...\n",
      "[done]\n",
      "Writing STC to disk...\n",
      "[done]\n",
      "Reading /home/sbierer/Data/MEG/f2f/f2f_028/epochs/All_1sec_80-sss_f2f_028-epo.fif ...\n",
      "    Read a total of 2 projection items:\n",
      "        meg-ECG--0.08-0.08-PCA-01 (1 x 306)  idle\n",
      "        meg-ECG--0.08-0.08-PCA-02 (1 x 306)  idle\n",
      "    Found the data of interest:\n",
      "        t =       0.00 ...     997.11 ms\n",
      "        0 CTF compensation matrices available\n",
      "Not setting metadata\n",
      "Not setting metadata\n",
      "711 matching events found\n",
      "No baseline correction applied\n",
      "Created an SSP operator (subspace dimension = 2)\n",
      "Created an SSP operator (subspace dimension = 2)\n",
      "2 projection items activated\n",
      "SSP projectors applied...\n",
      "Considering frequencies 0 ... 60 Hz\n",
      "Preparing the inverse operator for use...\n",
      "    Scaled noise and source covariance from nave = 1 to nave = 1\n",
      "    Created the regularized inverter\n",
      "    Created an SSP operator (subspace dimension = 2)\n",
      "    Created the whitener using a noise covariance matrix with rank 46 (260 small eigenvalues omitted)\n",
      "    Computing noise-normalization factors (sLORETA)...\n",
      "[done]\n",
      "Picked 306 channels from the data\n",
      "Computing inverse...\n",
      "    Eigenleads need to be weighted ...\n",
      "Reducing data rank 306 -> 46\n",
      "Using 1 tapers with bandwidth 2.0 Hz on 210 epochs\n"
     ]
    },
    {
     "data": {
      "application/vnd.jupyter.widget-view+json": {
       "model_id": "994a8990a0be478cb4f3c4c21cd3c579",
       "version_major": 2,
       "version_minor": 0
      },
      "text/plain": [
       "  0%|          |  : 0/210 [00:00<?,       ?it/s]"
      ]
     },
     "metadata": {},
     "output_type": "display_data"
    },
    {
     "name": "stdout",
     "output_type": "stream",
     "text": [
      "Considering frequencies 0 ... 60 Hz\n",
      "Preparing the inverse operator for use...\n",
      "    Scaled noise and source covariance from nave = 1 to nave = 1\n",
      "    Created the regularized inverter\n",
      "    Created an SSP operator (subspace dimension = 2)\n",
      "    Created the whitener using a noise covariance matrix with rank 46 (260 small eigenvalues omitted)\n",
      "    Computing noise-normalization factors (sLORETA)...\n",
      "[done]\n",
      "Picked 306 channels from the data\n",
      "Computing inverse...\n",
      "    Eigenleads need to be weighted ...\n",
      "Reducing data rank 306 -> 46\n",
      "Using 1 tapers with bandwidth 2.0 Hz on 210 epochs\n"
     ]
    },
    {
     "data": {
      "application/vnd.jupyter.widget-view+json": {
       "model_id": "530b365114c74d23953246aa887e43eb",
       "version_major": 2,
       "version_minor": 0
      },
      "text/plain": [
       "  0%|          |  : 0/210 [00:00<?,       ?it/s]"
      ]
     },
     "metadata": {},
     "output_type": "display_data"
    },
    {
     "name": "stdout",
     "output_type": "stream",
     "text": [
      "  Created psd directory for f2f_028.\n",
      "Writing STC to disk...\n",
      "[done]\n",
      "Writing STC to disk...\n",
      "[done]\n",
      "Writing STC to disk...\n",
      "[done]\n",
      "Writing STC to disk...\n",
      "[done]\n",
      "Writing STC to disk...\n",
      "[done]\n",
      "Writing STC to disk...\n",
      "[done]\n",
      "Reading /home/sbierer/Data/MEG/f2f/f2f_029/epochs/All_1sec_80-sss_f2f_029-epo.fif ...\n",
      "    Read a total of 2 projection items:\n",
      "        meg-ECG--0.08-0.08-PCA-01 (1 x 306)  idle\n",
      "        meg-ECG--0.08-0.08-PCA-02 (1 x 306)  idle\n",
      "    Found the data of interest:\n",
      "        t =       0.00 ...     997.11 ms\n",
      "        0 CTF compensation matrices available\n",
      "Not setting metadata\n",
      "Not setting metadata\n",
      "53 matching events found\n",
      "No baseline correction applied\n",
      "Created an SSP operator (subspace dimension = 2)\n",
      "Created an SSP operator (subspace dimension = 2)\n",
      "2 projection items activated\n",
      "SSP projectors applied...\n",
      "    ** Adjusting subject label for source space **\n",
      "Considering frequencies 0 ... 60 Hz\n",
      "Preparing the inverse operator for use...\n",
      "    Scaled noise and source covariance from nave = 1 to nave = 1\n",
      "    Created the regularized inverter\n",
      "    Created an SSP operator (subspace dimension = 2)\n",
      "    Created the whitener using a noise covariance matrix with rank 45 (261 small eigenvalues omitted)\n",
      "    Computing noise-normalization factors (sLORETA)...\n",
      "[done]\n",
      "Picked 306 channels from the data\n",
      "Computing inverse...\n",
      "    Eigenleads need to be weighted ...\n",
      "Reducing data rank 306 -> 45\n",
      "Using 1 tapers with bandwidth 2.0 Hz on 20 epochs\n"
     ]
    },
    {
     "data": {
      "application/vnd.jupyter.widget-view+json": {
       "model_id": "836eeb84e7804cb6b2a9b9d9bdeea067",
       "version_major": 2,
       "version_minor": 0
      },
      "text/plain": [
       "  0%|          |  : 0/20 [00:00<?,       ?it/s]"
      ]
     },
     "metadata": {},
     "output_type": "display_data"
    },
    {
     "name": "stdout",
     "output_type": "stream",
     "text": [
      "Considering frequencies 0 ... 60 Hz\n",
      "Preparing the inverse operator for use...\n",
      "    Scaled noise and source covariance from nave = 1 to nave = 1\n",
      "    Created the regularized inverter\n",
      "    Created an SSP operator (subspace dimension = 2)\n",
      "    Created the whitener using a noise covariance matrix with rank 45 (261 small eigenvalues omitted)\n",
      "    Computing noise-normalization factors (sLORETA)...\n",
      "[done]\n",
      "Picked 306 channels from the data\n",
      "Computing inverse...\n",
      "    Eigenleads need to be weighted ...\n",
      "Reducing data rank 306 -> 45\n",
      "Using 1 tapers with bandwidth 2.0 Hz on 33 epochs\n"
     ]
    },
    {
     "data": {
      "application/vnd.jupyter.widget-view+json": {
       "model_id": "731c0333b4704cad8fb229aac3f11b90",
       "version_major": 2,
       "version_minor": 0
      },
      "text/plain": [
       "  0%|          |  : 0/33 [00:00<?,       ?it/s]"
      ]
     },
     "metadata": {},
     "output_type": "display_data"
    },
    {
     "name": "stdout",
     "output_type": "stream",
     "text": [
      "  Created psd directory for f2f_029.\n",
      "Writing STC to disk...\n",
      "[done]\n",
      "Writing STC to disk...\n",
      "[done]\n",
      "Writing STC to disk...\n",
      "[done]\n",
      "Writing STC to disk...\n",
      "[done]\n",
      "Writing STC to disk...\n",
      "[done]\n",
      "Writing STC to disk...\n",
      "[done]\n",
      "Reading /home/sbierer/Data/MEG/f2f/f2f_030/epochs/All_1sec_80-sss_f2f_030-epo.fif ...\n",
      "    Read a total of 2 projection items:\n",
      "        meg-ECG--0.08-0.08-PCA-01 (1 x 306)  idle\n",
      "        meg-ECG--0.08-0.08-PCA-02 (1 x 306)  idle\n",
      "    Found the data of interest:\n",
      "        t =       0.00 ...     997.11 ms\n",
      "        0 CTF compensation matrices available\n",
      "Not setting metadata\n",
      "Not setting metadata\n",
      "464 matching events found\n",
      "No baseline correction applied\n",
      "Created an SSP operator (subspace dimension = 2)\n",
      "Created an SSP operator (subspace dimension = 2)\n",
      "2 projection items activated\n",
      "SSP projectors applied...\n",
      "Considering frequencies 0 ... 60 Hz\n",
      "Preparing the inverse operator for use...\n",
      "    Scaled noise and source covariance from nave = 1 to nave = 1\n",
      "    Created the regularized inverter\n",
      "    Created an SSP operator (subspace dimension = 2)\n",
      "    Created the whitener using a noise covariance matrix with rank 46 (260 small eigenvalues omitted)\n",
      "    Computing noise-normalization factors (sLORETA)...\n",
      "[done]\n",
      "Picked 306 channels from the data\n",
      "Computing inverse...\n",
      "    Eigenleads need to be weighted ...\n",
      "Reducing data rank 306 -> 46\n",
      "Using 1 tapers with bandwidth 2.0 Hz on 210 epochs\n"
     ]
    },
    {
     "data": {
      "application/vnd.jupyter.widget-view+json": {
       "model_id": "2f66d6402c924cdebea3464328b6afa7",
       "version_major": 2,
       "version_minor": 0
      },
      "text/plain": [
       "  0%|          |  : 0/210 [00:00<?,       ?it/s]"
      ]
     },
     "metadata": {},
     "output_type": "display_data"
    },
    {
     "name": "stdout",
     "output_type": "stream",
     "text": [
      "Considering frequencies 0 ... 60 Hz\n",
      "Preparing the inverse operator for use...\n",
      "    Scaled noise and source covariance from nave = 1 to nave = 1\n",
      "    Created the regularized inverter\n",
      "    Created an SSP operator (subspace dimension = 2)\n",
      "    Created the whitener using a noise covariance matrix with rank 46 (260 small eigenvalues omitted)\n",
      "    Computing noise-normalization factors (sLORETA)...\n",
      "[done]\n",
      "Picked 306 channels from the data\n",
      "Computing inverse...\n",
      "    Eigenleads need to be weighted ...\n",
      "Reducing data rank 306 -> 46\n",
      "Using 1 tapers with bandwidth 2.0 Hz on 210 epochs\n"
     ]
    },
    {
     "data": {
      "application/vnd.jupyter.widget-view+json": {
       "model_id": "3fd4f41260ea4180a73b3c2a3d4109f1",
       "version_major": 2,
       "version_minor": 0
      },
      "text/plain": [
       "  0%|          |  : 0/210 [00:00<?,       ?it/s]"
      ]
     },
     "metadata": {},
     "output_type": "display_data"
    },
    {
     "name": "stdout",
     "output_type": "stream",
     "text": [
      "  Created psd directory for f2f_030.\n",
      "Writing STC to disk...\n",
      "[done]\n",
      "Writing STC to disk...\n",
      "[done]\n",
      "Writing STC to disk...\n",
      "[done]\n",
      "Writing STC to disk...\n",
      "[done]\n",
      "Writing STC to disk...\n",
      "[done]\n",
      "Writing STC to disk...\n",
      "[done]\n",
      "Reading /home/sbierer/Data/MEG/f2f/f2f_034/epochs/All_1sec_80-sss_f2f_034-epo.fif ...\n",
      "    Read a total of 2 projection items:\n",
      "        meg-ECG--0.08-0.08-PCA-01 (1 x 306)  idle\n",
      "        meg-ECG--0.08-0.08-PCA-02 (1 x 306)  idle\n",
      "    Found the data of interest:\n",
      "        t =       0.00 ...     997.11 ms\n",
      "        0 CTF compensation matrices available\n",
      "Not setting metadata\n",
      "Not setting metadata\n",
      "720 matching events found\n",
      "No baseline correction applied\n",
      "Created an SSP operator (subspace dimension = 2)\n",
      "Created an SSP operator (subspace dimension = 2)\n",
      "2 projection items activated\n",
      "SSP projectors applied...\n",
      "Considering frequencies 0 ... 60 Hz\n",
      "Preparing the inverse operator for use...\n",
      "    Scaled noise and source covariance from nave = 1 to nave = 1\n",
      "    Created the regularized inverter\n",
      "    Created an SSP operator (subspace dimension = 2)\n",
      "    Created the whitener using a noise covariance matrix with rank 44 (262 small eigenvalues omitted)\n",
      "    Computing noise-normalization factors (sLORETA)...\n",
      "[done]\n",
      "Picked 306 channels from the data\n",
      "Computing inverse...\n",
      "    Eigenleads need to be weighted ...\n",
      "Reducing data rank 306 -> 44\n",
      "Using 1 tapers with bandwidth 2.0 Hz on 210 epochs\n"
     ]
    },
    {
     "data": {
      "application/vnd.jupyter.widget-view+json": {
       "model_id": "09f174ca9ae1426ab4da99616c1dcc1d",
       "version_major": 2,
       "version_minor": 0
      },
      "text/plain": [
       "  0%|          |  : 0/210 [00:00<?,       ?it/s]"
      ]
     },
     "metadata": {},
     "output_type": "display_data"
    },
    {
     "name": "stdout",
     "output_type": "stream",
     "text": [
      "Considering frequencies 0 ... 60 Hz\n",
      "Preparing the inverse operator for use...\n",
      "    Scaled noise and source covariance from nave = 1 to nave = 1\n",
      "    Created the regularized inverter\n",
      "    Created an SSP operator (subspace dimension = 2)\n",
      "    Created the whitener using a noise covariance matrix with rank 44 (262 small eigenvalues omitted)\n",
      "    Computing noise-normalization factors (sLORETA)...\n",
      "[done]\n",
      "Picked 306 channels from the data\n",
      "Computing inverse...\n",
      "    Eigenleads need to be weighted ...\n",
      "Reducing data rank 306 -> 44\n",
      "Using 1 tapers with bandwidth 2.0 Hz on 210 epochs\n"
     ]
    },
    {
     "data": {
      "application/vnd.jupyter.widget-view+json": {
       "model_id": "fa149346e6e048de85f251c7687a80b4",
       "version_major": 2,
       "version_minor": 0
      },
      "text/plain": [
       "  0%|          |  : 0/210 [00:00<?,       ?it/s]"
      ]
     },
     "metadata": {},
     "output_type": "display_data"
    },
    {
     "name": "stdout",
     "output_type": "stream",
     "text": [
      "  Created psd directory for f2f_034.\n",
      "Writing STC to disk...\n",
      "[done]\n",
      "Writing STC to disk...\n",
      "[done]\n",
      "Writing STC to disk...\n",
      "[done]\n",
      "Writing STC to disk...\n",
      "[done]\n",
      "Writing STC to disk...\n",
      "[done]\n",
      "Writing STC to disk...\n",
      "[done]\n",
      "Reading /home/sbierer/Data/MEG/f2f/f2f_036/epochs/All_1sec_80-sss_f2f_036-epo.fif ...\n",
      "    Read a total of 2 projection items:\n",
      "        meg-ECG--0.08-0.08-PCA-01 (1 x 306)  idle\n",
      "        meg-ECG--0.08-0.08-PCA-02 (1 x 306)  idle\n",
      "    Found the data of interest:\n",
      "        t =       0.00 ...     997.11 ms\n",
      "        0 CTF compensation matrices available\n",
      "Not setting metadata\n",
      "Not setting metadata\n",
      "390 matching events found\n",
      "No baseline correction applied\n",
      "Created an SSP operator (subspace dimension = 2)\n",
      "Created an SSP operator (subspace dimension = 2)\n",
      "2 projection items activated\n",
      "SSP projectors applied...\n",
      "    ** Adjusting subject label for source space **\n",
      "Considering frequencies 0 ... 60 Hz\n",
      "Preparing the inverse operator for use...\n",
      "    Scaled noise and source covariance from nave = 1 to nave = 1\n",
      "    Created the regularized inverter\n",
      "    Created an SSP operator (subspace dimension = 2)\n",
      "    Created the whitener using a noise covariance matrix with rank 46 (260 small eigenvalues omitted)\n",
      "    Computing noise-normalization factors (sLORETA)...\n",
      "[done]\n",
      "Picked 306 channels from the data\n",
      "Computing inverse...\n",
      "    Eigenleads need to be weighted ...\n",
      "Reducing data rank 306 -> 46\n",
      "Using 1 tapers with bandwidth 2.0 Hz on 187 epochs\n"
     ]
    },
    {
     "data": {
      "application/vnd.jupyter.widget-view+json": {
       "model_id": "6b4891cd8a8648e8b4130ac500df0c45",
       "version_major": 2,
       "version_minor": 0
      },
      "text/plain": [
       "  0%|          |  : 0/187 [00:00<?,       ?it/s]"
      ]
     },
     "metadata": {},
     "output_type": "display_data"
    },
    {
     "name": "stdout",
     "output_type": "stream",
     "text": [
      "Considering frequencies 0 ... 60 Hz\n",
      "Preparing the inverse operator for use...\n",
      "    Scaled noise and source covariance from nave = 1 to nave = 1\n",
      "    Created the regularized inverter\n",
      "    Created an SSP operator (subspace dimension = 2)\n",
      "    Created the whitener using a noise covariance matrix with rank 46 (260 small eigenvalues omitted)\n",
      "    Computing noise-normalization factors (sLORETA)...\n",
      "[done]\n",
      "Picked 306 channels from the data\n",
      "Computing inverse...\n",
      "    Eigenleads need to be weighted ...\n",
      "Reducing data rank 306 -> 46\n",
      "Using 1 tapers with bandwidth 2.0 Hz on 203 epochs\n"
     ]
    },
    {
     "data": {
      "application/vnd.jupyter.widget-view+json": {
       "model_id": "a6fc6c979641457d934df466cbec03d3",
       "version_major": 2,
       "version_minor": 0
      },
      "text/plain": [
       "  0%|          |  : 0/203 [00:00<?,       ?it/s]"
      ]
     },
     "metadata": {},
     "output_type": "display_data"
    },
    {
     "name": "stdout",
     "output_type": "stream",
     "text": [
      "  Created psd directory for f2f_036.\n",
      "Writing STC to disk...\n",
      "[done]\n",
      "Writing STC to disk...\n",
      "[done]\n",
      "Writing STC to disk...\n",
      "[done]\n",
      "Writing STC to disk...\n",
      "[done]\n",
      "Writing STC to disk...\n",
      "[done]\n",
      "Writing STC to disk...\n",
      "[done]\n",
      "Reading /home/sbierer/Data/MEG/f2f/f2f_037/epochs/All_1sec_80-sss_f2f_037-epo.fif ...\n",
      "    Read a total of 2 projection items:\n",
      "        meg-ECG--0.08-0.08-PCA-01 (1 x 306)  idle\n",
      "        meg-ECG--0.08-0.08-PCA-02 (1 x 306)  idle\n",
      "    Found the data of interest:\n",
      "        t =       0.00 ...     997.11 ms\n",
      "        0 CTF compensation matrices available\n",
      "Not setting metadata\n",
      "Not setting metadata\n",
      "467 matching events found\n",
      "No baseline correction applied\n",
      "Created an SSP operator (subspace dimension = 2)\n",
      "Created an SSP operator (subspace dimension = 2)\n",
      "2 projection items activated\n",
      "SSP projectors applied...\n",
      "Considering frequencies 0 ... 60 Hz\n",
      "Preparing the inverse operator for use...\n",
      "    Scaled noise and source covariance from nave = 1 to nave = 1\n",
      "    Created the regularized inverter\n",
      "    Created an SSP operator (subspace dimension = 2)\n",
      "    Created the whitener using a noise covariance matrix with rank 46 (260 small eigenvalues omitted)\n",
      "    Computing noise-normalization factors (sLORETA)...\n",
      "[done]\n",
      "Picked 306 channels from the data\n",
      "Computing inverse...\n",
      "    Eigenleads need to be weighted ...\n",
      "Reducing data rank 306 -> 46\n",
      "Using 1 tapers with bandwidth 2.0 Hz on 210 epochs\n"
     ]
    },
    {
     "data": {
      "application/vnd.jupyter.widget-view+json": {
       "model_id": "a5ef10b5b8a94aca85d830c1b0e83f8b",
       "version_major": 2,
       "version_minor": 0
      },
      "text/plain": [
       "  0%|          |  : 0/210 [00:00<?,       ?it/s]"
      ]
     },
     "metadata": {},
     "output_type": "display_data"
    },
    {
     "name": "stdout",
     "output_type": "stream",
     "text": [
      "Considering frequencies 0 ... 60 Hz\n",
      "Preparing the inverse operator for use...\n",
      "    Scaled noise and source covariance from nave = 1 to nave = 1\n",
      "    Created the regularized inverter\n",
      "    Created an SSP operator (subspace dimension = 2)\n",
      "    Created the whitener using a noise covariance matrix with rank 46 (260 small eigenvalues omitted)\n",
      "    Computing noise-normalization factors (sLORETA)...\n",
      "[done]\n",
      "Picked 306 channels from the data\n",
      "Computing inverse...\n",
      "    Eigenleads need to be weighted ...\n",
      "Reducing data rank 306 -> 46\n",
      "Using 1 tapers with bandwidth 2.0 Hz on 201 epochs\n"
     ]
    },
    {
     "data": {
      "application/vnd.jupyter.widget-view+json": {
       "model_id": "1c5f3672f1334856a64cba3f3e02f261",
       "version_major": 2,
       "version_minor": 0
      },
      "text/plain": [
       "  0%|          |  : 0/201 [00:00<?,       ?it/s]"
      ]
     },
     "metadata": {},
     "output_type": "display_data"
    },
    {
     "name": "stdout",
     "output_type": "stream",
     "text": [
      "  Created psd directory for f2f_037.\n",
      "Writing STC to disk...\n",
      "[done]\n",
      "Writing STC to disk...\n",
      "[done]\n",
      "Writing STC to disk...\n",
      "[done]\n",
      "Writing STC to disk...\n",
      "[done]\n",
      "Writing STC to disk...\n",
      "[done]\n",
      "Writing STC to disk...\n",
      "[done]\n",
      "Reading /home/sbierer/Data/MEG/f2f/f2f_038/epochs/All_1sec_80-sss_f2f_038-epo.fif ...\n",
      "    Read a total of 2 projection items:\n",
      "        meg-ECG--0.08-0.08-PCA-01 (1 x 306)  idle\n",
      "        meg-ECG--0.08-0.08-PCA-02 (1 x 306)  idle\n",
      "    Found the data of interest:\n",
      "        t =       0.00 ...     997.11 ms\n",
      "        0 CTF compensation matrices available\n",
      "Not setting metadata\n",
      "Not setting metadata\n",
      "747 matching events found\n",
      "No baseline correction applied\n",
      "Created an SSP operator (subspace dimension = 2)\n",
      "Created an SSP operator (subspace dimension = 2)\n",
      "2 projection items activated\n",
      "SSP projectors applied...\n",
      "    ** Adjusting subject label for source space **\n",
      "Considering frequencies 0 ... 60 Hz\n",
      "Preparing the inverse operator for use...\n",
      "    Scaled noise and source covariance from nave = 1 to nave = 1\n",
      "    Created the regularized inverter\n",
      "    Created an SSP operator (subspace dimension = 2)\n",
      "    Created the whitener using a noise covariance matrix with rank 46 (260 small eigenvalues omitted)\n",
      "    Computing noise-normalization factors (sLORETA)...\n",
      "[done]\n",
      "Picked 306 channels from the data\n",
      "Computing inverse...\n",
      "    Eigenleads need to be weighted ...\n",
      "Reducing data rank 306 -> 46\n",
      "Using 1 tapers with bandwidth 2.0 Hz on 210 epochs\n"
     ]
    },
    {
     "data": {
      "application/vnd.jupyter.widget-view+json": {
       "model_id": "7459d2b4def54b9a99b915b21c24f82e",
       "version_major": 2,
       "version_minor": 0
      },
      "text/plain": [
       "  0%|          |  : 0/210 [00:00<?,       ?it/s]"
      ]
     },
     "metadata": {},
     "output_type": "display_data"
    },
    {
     "name": "stdout",
     "output_type": "stream",
     "text": [
      "Considering frequencies 0 ... 60 Hz\n",
      "Preparing the inverse operator for use...\n",
      "    Scaled noise and source covariance from nave = 1 to nave = 1\n",
      "    Created the regularized inverter\n",
      "    Created an SSP operator (subspace dimension = 2)\n",
      "    Created the whitener using a noise covariance matrix with rank 46 (260 small eigenvalues omitted)\n",
      "    Computing noise-normalization factors (sLORETA)...\n",
      "[done]\n",
      "Picked 306 channels from the data\n",
      "Computing inverse...\n",
      "    Eigenleads need to be weighted ...\n",
      "Reducing data rank 306 -> 46\n",
      "Using 1 tapers with bandwidth 2.0 Hz on 210 epochs\n"
     ]
    },
    {
     "data": {
      "application/vnd.jupyter.widget-view+json": {
       "model_id": "46232cbc47e74408a2038f5588182a16",
       "version_major": 2,
       "version_minor": 0
      },
      "text/plain": [
       "  0%|          |  : 0/210 [00:00<?,       ?it/s]"
      ]
     },
     "metadata": {},
     "output_type": "display_data"
    },
    {
     "name": "stdout",
     "output_type": "stream",
     "text": [
      "  Created psd directory for f2f_038.\n",
      "Writing STC to disk...\n",
      "[done]\n",
      "Writing STC to disk...\n",
      "[done]\n",
      "Writing STC to disk...\n",
      "[done]\n",
      "Writing STC to disk...\n",
      "[done]\n",
      "Writing STC to disk...\n",
      "[done]\n",
      "Writing STC to disk...\n",
      "[done]\n",
      "Reading /home/sbierer/Data/MEG/f2f/f2f_102/epochs/All_1sec_80-sss_f2f_102-epo.fif ...\n",
      "    Read a total of 2 projection items:\n",
      "        meg-ECG--0.08-0.08-PCA-01 (1 x 306)  idle\n",
      "        meg-ECG--0.08-0.08-PCA-02 (1 x 306)  idle\n",
      "    Found the data of interest:\n",
      "        t =       0.00 ...     997.11 ms\n",
      "        0 CTF compensation matrices available\n",
      "Not setting metadata\n",
      "Not setting metadata\n",
      "677 matching events found\n",
      "No baseline correction applied\n",
      "Created an SSP operator (subspace dimension = 2)\n",
      "Created an SSP operator (subspace dimension = 2)\n",
      "2 projection items activated\n",
      "SSP projectors applied...\n",
      "Considering frequencies 0 ... 60 Hz\n",
      "Preparing the inverse operator for use...\n",
      "    Scaled noise and source covariance from nave = 1 to nave = 1\n",
      "    Created the regularized inverter\n",
      "    Created an SSP operator (subspace dimension = 2)\n",
      "    Created the whitener using a noise covariance matrix with rank 45 (261 small eigenvalues omitted)\n",
      "    Computing noise-normalization factors (sLORETA)...\n",
      "[done]\n",
      "Picked 306 channels from the data\n",
      "Computing inverse...\n",
      "    Eigenleads need to be weighted ...\n",
      "Reducing data rank 306 -> 45\n",
      "Using 1 tapers with bandwidth 2.0 Hz on 210 epochs\n"
     ]
    },
    {
     "data": {
      "application/vnd.jupyter.widget-view+json": {
       "model_id": "1b16640f70604cd79979bef23b301ba2",
       "version_major": 2,
       "version_minor": 0
      },
      "text/plain": [
       "  0%|          |  : 0/210 [00:00<?,       ?it/s]"
      ]
     },
     "metadata": {},
     "output_type": "display_data"
    },
    {
     "name": "stdout",
     "output_type": "stream",
     "text": [
      "Considering frequencies 0 ... 60 Hz\n",
      "Preparing the inverse operator for use...\n",
      "    Scaled noise and source covariance from nave = 1 to nave = 1\n",
      "    Created the regularized inverter\n",
      "    Created an SSP operator (subspace dimension = 2)\n",
      "    Created the whitener using a noise covariance matrix with rank 45 (261 small eigenvalues omitted)\n",
      "    Computing noise-normalization factors (sLORETA)...\n",
      "[done]\n",
      "Picked 306 channels from the data\n",
      "Computing inverse...\n",
      "    Eigenleads need to be weighted ...\n",
      "Reducing data rank 306 -> 45\n",
      "Using 1 tapers with bandwidth 2.0 Hz on 210 epochs\n"
     ]
    },
    {
     "data": {
      "application/vnd.jupyter.widget-view+json": {
       "model_id": "3052c9b666be4426bb47c8e2b0ea9d67",
       "version_major": 2,
       "version_minor": 0
      },
      "text/plain": [
       "  0%|          |  : 0/210 [00:00<?,       ?it/s]"
      ]
     },
     "metadata": {},
     "output_type": "display_data"
    },
    {
     "name": "stdout",
     "output_type": "stream",
     "text": [
      "  Created psd directory for f2f_102.\n",
      "Writing STC to disk...\n",
      "[done]\n",
      "Writing STC to disk...\n",
      "[done]\n",
      "Writing STC to disk...\n",
      "[done]\n",
      "Writing STC to disk...\n",
      "[done]\n",
      "Writing STC to disk...\n",
      "[done]\n",
      "Writing STC to disk...\n",
      "[done]\n",
      "Reading /home/sbierer/Data/MEG/f2f/f2f_103/epochs/All_1sec_80-sss_f2f_103-epo.fif ...\n",
      "    Read a total of 2 projection items:\n",
      "        meg-ECG--0.08-0.08-PCA-01 (1 x 306)  idle\n",
      "        meg-ECG--0.08-0.08-PCA-02 (1 x 306)  idle\n",
      "    Found the data of interest:\n",
      "        t =       0.00 ...     997.11 ms\n",
      "        0 CTF compensation matrices available\n",
      "Not setting metadata\n",
      "Not setting metadata\n",
      "604 matching events found\n",
      "No baseline correction applied\n",
      "Created an SSP operator (subspace dimension = 2)\n",
      "Created an SSP operator (subspace dimension = 2)\n",
      "2 projection items activated\n",
      "SSP projectors applied...\n",
      "Considering frequencies 0 ... 60 Hz\n",
      "Preparing the inverse operator for use...\n",
      "    Scaled noise and source covariance from nave = 1 to nave = 1\n",
      "    Created the regularized inverter\n",
      "    Created an SSP operator (subspace dimension = 2)\n",
      "    Created the whitener using a noise covariance matrix with rank 45 (261 small eigenvalues omitted)\n",
      "    Computing noise-normalization factors (sLORETA)...\n",
      "[done]\n",
      "Picked 306 channels from the data\n",
      "Computing inverse...\n",
      "    Eigenleads need to be weighted ...\n",
      "Reducing data rank 306 -> 45\n",
      "Using 1 tapers with bandwidth 2.0 Hz on 210 epochs\n"
     ]
    },
    {
     "data": {
      "application/vnd.jupyter.widget-view+json": {
       "model_id": "665cc698c9e9414790d7021223c98c6b",
       "version_major": 2,
       "version_minor": 0
      },
      "text/plain": [
       "  0%|          |  : 0/210 [00:00<?,       ?it/s]"
      ]
     },
     "metadata": {},
     "output_type": "display_data"
    },
    {
     "name": "stdout",
     "output_type": "stream",
     "text": [
      "Considering frequencies 0 ... 60 Hz\n",
      "Preparing the inverse operator for use...\n",
      "    Scaled noise and source covariance from nave = 1 to nave = 1\n",
      "    Created the regularized inverter\n",
      "    Created an SSP operator (subspace dimension = 2)\n",
      "    Created the whitener using a noise covariance matrix with rank 45 (261 small eigenvalues omitted)\n",
      "    Computing noise-normalization factors (sLORETA)...\n",
      "[done]\n",
      "Picked 306 channels from the data\n",
      "Computing inverse...\n",
      "    Eigenleads need to be weighted ...\n",
      "Reducing data rank 306 -> 45\n",
      "Using 1 tapers with bandwidth 2.0 Hz on 210 epochs\n"
     ]
    },
    {
     "data": {
      "application/vnd.jupyter.widget-view+json": {
       "model_id": "6a557db162b24fab8451b848bfc8f7f7",
       "version_major": 2,
       "version_minor": 0
      },
      "text/plain": [
       "  0%|          |  : 0/210 [00:00<?,       ?it/s]"
      ]
     },
     "metadata": {},
     "output_type": "display_data"
    },
    {
     "name": "stdout",
     "output_type": "stream",
     "text": [
      "  Created psd directory for f2f_103.\n",
      "Writing STC to disk...\n",
      "[done]\n",
      "Writing STC to disk...\n",
      "[done]\n",
      "Writing STC to disk...\n",
      "[done]\n",
      "Writing STC to disk...\n",
      "[done]\n",
      "Writing STC to disk...\n",
      "[done]\n",
      "Writing STC to disk...\n",
      "[done]\n",
      "Reading /home/sbierer/Data/MEG/f2f/f2f_104/epochs/All_1sec_80-sss_f2f_104-epo.fif ...\n",
      "    Read a total of 2 projection items:\n",
      "        meg-ECG--0.08-0.08-PCA-01 (1 x 306)  idle\n",
      "        meg-ECG--0.08-0.08-PCA-02 (1 x 306)  idle\n",
      "    Found the data of interest:\n",
      "        t =       0.00 ...     997.11 ms\n",
      "        0 CTF compensation matrices available\n",
      "Not setting metadata\n",
      "Not setting metadata\n",
      "722 matching events found\n",
      "No baseline correction applied\n",
      "Created an SSP operator (subspace dimension = 2)\n",
      "Created an SSP operator (subspace dimension = 2)\n",
      "2 projection items activated\n",
      "SSP projectors applied...\n",
      "Considering frequencies 0 ... 60 Hz\n",
      "Preparing the inverse operator for use...\n",
      "    Scaled noise and source covariance from nave = 1 to nave = 1\n",
      "    Created the regularized inverter\n",
      "    Created an SSP operator (subspace dimension = 2)\n",
      "    Created the whitener using a noise covariance matrix with rank 46 (260 small eigenvalues omitted)\n",
      "    Computing noise-normalization factors (sLORETA)...\n",
      "[done]\n",
      "Picked 306 channels from the data\n",
      "Computing inverse...\n",
      "    Eigenleads need to be weighted ...\n",
      "Reducing data rank 306 -> 46\n",
      "Using 1 tapers with bandwidth 2.0 Hz on 210 epochs\n"
     ]
    },
    {
     "data": {
      "application/vnd.jupyter.widget-view+json": {
       "model_id": "74c8a6fdf7a047e29dfb8ee0ccd3920e",
       "version_major": 2,
       "version_minor": 0
      },
      "text/plain": [
       "  0%|          |  : 0/210 [00:00<?,       ?it/s]"
      ]
     },
     "metadata": {},
     "output_type": "display_data"
    },
    {
     "name": "stdout",
     "output_type": "stream",
     "text": [
      "Considering frequencies 0 ... 60 Hz\n",
      "Preparing the inverse operator for use...\n",
      "    Scaled noise and source covariance from nave = 1 to nave = 1\n",
      "    Created the regularized inverter\n",
      "    Created an SSP operator (subspace dimension = 2)\n",
      "    Created the whitener using a noise covariance matrix with rank 46 (260 small eigenvalues omitted)\n",
      "    Computing noise-normalization factors (sLORETA)...\n",
      "[done]\n",
      "Picked 306 channels from the data\n",
      "Computing inverse...\n",
      "    Eigenleads need to be weighted ...\n",
      "Reducing data rank 306 -> 46\n",
      "Using 1 tapers with bandwidth 2.0 Hz on 210 epochs\n"
     ]
    },
    {
     "data": {
      "application/vnd.jupyter.widget-view+json": {
       "model_id": "36e7a722319e4abd931e2343a1503a75",
       "version_major": 2,
       "version_minor": 0
      },
      "text/plain": [
       "  0%|          |  : 0/210 [00:00<?,       ?it/s]"
      ]
     },
     "metadata": {},
     "output_type": "display_data"
    },
    {
     "name": "stdout",
     "output_type": "stream",
     "text": [
      "  Created psd directory for f2f_104.\n",
      "Writing STC to disk...\n",
      "[done]\n",
      "Writing STC to disk...\n",
      "[done]\n",
      "Writing STC to disk...\n",
      "[done]\n",
      "Writing STC to disk...\n",
      "[done]\n",
      "Writing STC to disk...\n",
      "[done]\n",
      "Writing STC to disk...\n",
      "[done]\n",
      "Reading /home/sbierer/Data/MEG/f2f/f2f_106/epochs/All_1sec_80-sss_f2f_106-epo.fif ...\n",
      "    Read a total of 2 projection items:\n",
      "        meg-ECG--0.08-0.08-PCA-01 (1 x 306)  idle\n",
      "        meg-ECG--0.08-0.08-PCA-02 (1 x 306)  idle\n",
      "    Found the data of interest:\n",
      "        t =       0.00 ...     997.11 ms\n",
      "        0 CTF compensation matrices available\n",
      "Not setting metadata\n",
      "Not setting metadata\n",
      "796 matching events found\n",
      "No baseline correction applied\n",
      "Created an SSP operator (subspace dimension = 2)\n",
      "Created an SSP operator (subspace dimension = 2)\n",
      "2 projection items activated\n",
      "SSP projectors applied...\n",
      "Considering frequencies 0 ... 60 Hz\n",
      "Preparing the inverse operator for use...\n",
      "    Scaled noise and source covariance from nave = 1 to nave = 1\n",
      "    Created the regularized inverter\n",
      "    Created an SSP operator (subspace dimension = 2)\n",
      "    Created the whitener using a noise covariance matrix with rank 46 (260 small eigenvalues omitted)\n",
      "    Computing noise-normalization factors (sLORETA)...\n",
      "[done]\n",
      "Picked 306 channels from the data\n",
      "Computing inverse...\n",
      "    Eigenleads need to be weighted ...\n",
      "Reducing data rank 306 -> 46\n",
      "Using 1 tapers with bandwidth 2.0 Hz on 210 epochs\n"
     ]
    },
    {
     "data": {
      "application/vnd.jupyter.widget-view+json": {
       "model_id": "46d1f1c9cd3149e293d246a5f79a2b3d",
       "version_major": 2,
       "version_minor": 0
      },
      "text/plain": [
       "  0%|          |  : 0/210 [00:00<?,       ?it/s]"
      ]
     },
     "metadata": {},
     "output_type": "display_data"
    },
    {
     "name": "stdout",
     "output_type": "stream",
     "text": [
      "Considering frequencies 0 ... 60 Hz\n",
      "Preparing the inverse operator for use...\n",
      "    Scaled noise and source covariance from nave = 1 to nave = 1\n",
      "    Created the regularized inverter\n",
      "    Created an SSP operator (subspace dimension = 2)\n",
      "    Created the whitener using a noise covariance matrix with rank 46 (260 small eigenvalues omitted)\n",
      "    Computing noise-normalization factors (sLORETA)...\n",
      "[done]\n",
      "Picked 306 channels from the data\n",
      "Computing inverse...\n",
      "    Eigenleads need to be weighted ...\n",
      "Reducing data rank 306 -> 46\n",
      "Using 1 tapers with bandwidth 2.0 Hz on 210 epochs\n"
     ]
    },
    {
     "data": {
      "application/vnd.jupyter.widget-view+json": {
       "model_id": "89471eafc9604543a4f0dc1bf5f6a408",
       "version_major": 2,
       "version_minor": 0
      },
      "text/plain": [
       "  0%|          |  : 0/210 [00:00<?,       ?it/s]"
      ]
     },
     "metadata": {},
     "output_type": "display_data"
    },
    {
     "name": "stdout",
     "output_type": "stream",
     "text": [
      "  Created psd directory for f2f_106.\n",
      "Writing STC to disk...\n",
      "[done]\n",
      "Writing STC to disk...\n",
      "[done]\n",
      "Writing STC to disk...\n",
      "[done]\n",
      "Writing STC to disk...\n",
      "[done]\n",
      "Writing STC to disk...\n",
      "[done]\n",
      "Writing STC to disk...\n",
      "[done]\n",
      "Reading /home/sbierer/Data/MEG/f2f/f2f_107/epochs/All_1sec_80-sss_f2f_107-epo.fif ...\n",
      "    Read a total of 2 projection items:\n",
      "        meg-ECG--0.08-0.08-PCA-01 (1 x 306)  idle\n",
      "        meg-ECG--0.08-0.08-PCA-02 (1 x 306)  idle\n",
      "    Found the data of interest:\n",
      "        t =       0.00 ...     997.11 ms\n",
      "        0 CTF compensation matrices available\n",
      "Not setting metadata\n",
      "Not setting metadata\n",
      "914 matching events found\n",
      "No baseline correction applied\n",
      "Created an SSP operator (subspace dimension = 2)\n",
      "Created an SSP operator (subspace dimension = 2)\n",
      "2 projection items activated\n",
      "SSP projectors applied...\n",
      "Considering frequencies 0 ... 60 Hz\n",
      "Preparing the inverse operator for use...\n",
      "    Scaled noise and source covariance from nave = 1 to nave = 1\n",
      "    Created the regularized inverter\n",
      "    Created an SSP operator (subspace dimension = 2)\n",
      "    Created the whitener using a noise covariance matrix with rank 46 (260 small eigenvalues omitted)\n",
      "    Computing noise-normalization factors (sLORETA)...\n",
      "[done]\n",
      "Picked 306 channels from the data\n",
      "Computing inverse...\n",
      "    Eigenleads need to be weighted ...\n",
      "Reducing data rank 306 -> 46\n",
      "Using 1 tapers with bandwidth 2.0 Hz on 210 epochs\n"
     ]
    },
    {
     "data": {
      "application/vnd.jupyter.widget-view+json": {
       "model_id": "b0c13d79d1344ae19cd224e6ec2891d8",
       "version_major": 2,
       "version_minor": 0
      },
      "text/plain": [
       "  0%|          |  : 0/210 [00:00<?,       ?it/s]"
      ]
     },
     "metadata": {},
     "output_type": "display_data"
    },
    {
     "name": "stdout",
     "output_type": "stream",
     "text": [
      "Considering frequencies 0 ... 60 Hz\n",
      "Preparing the inverse operator for use...\n",
      "    Scaled noise and source covariance from nave = 1 to nave = 1\n",
      "    Created the regularized inverter\n",
      "    Created an SSP operator (subspace dimension = 2)\n",
      "    Created the whitener using a noise covariance matrix with rank 46 (260 small eigenvalues omitted)\n",
      "    Computing noise-normalization factors (sLORETA)...\n",
      "[done]\n",
      "Picked 306 channels from the data\n",
      "Computing inverse...\n",
      "    Eigenleads need to be weighted ...\n",
      "Reducing data rank 306 -> 46\n",
      "Using 1 tapers with bandwidth 2.0 Hz on 210 epochs\n"
     ]
    },
    {
     "data": {
      "application/vnd.jupyter.widget-view+json": {
       "model_id": "7087555605cd41adaa40b6477cb28c1f",
       "version_major": 2,
       "version_minor": 0
      },
      "text/plain": [
       "  0%|          |  : 0/210 [00:00<?,       ?it/s]"
      ]
     },
     "metadata": {},
     "output_type": "display_data"
    },
    {
     "name": "stdout",
     "output_type": "stream",
     "text": [
      "  Created psd directory for f2f_107.\n",
      "Writing STC to disk...\n",
      "[done]\n",
      "Writing STC to disk...\n",
      "[done]\n",
      "Writing STC to disk...\n",
      "[done]\n",
      "Writing STC to disk...\n",
      "[done]\n",
      "Writing STC to disk...\n",
      "[done]\n",
      "Writing STC to disk...\n",
      "[done]\n",
      "Reading /home/sbierer/Data/MEG/f2f/f2f_108/epochs/All_1sec_80-sss_f2f_108-epo.fif ...\n",
      "    Read a total of 2 projection items:\n",
      "        meg-ECG--0.08-0.08-PCA-01 (1 x 306)  idle\n",
      "        meg-ECG--0.08-0.08-PCA-02 (1 x 306)  idle\n",
      "    Found the data of interest:\n",
      "        t =       0.00 ...     997.11 ms\n",
      "        0 CTF compensation matrices available\n",
      "Not setting metadata\n",
      "Not setting metadata\n",
      "783 matching events found\n",
      "No baseline correction applied\n",
      "Created an SSP operator (subspace dimension = 2)\n",
      "Created an SSP operator (subspace dimension = 2)\n",
      "2 projection items activated\n",
      "SSP projectors applied...\n",
      "    ** Adjusting subject label for source space **\n",
      "Considering frequencies 0 ... 60 Hz\n",
      "Preparing the inverse operator for use...\n",
      "    Scaled noise and source covariance from nave = 1 to nave = 1\n",
      "    Created the regularized inverter\n",
      "    Created an SSP operator (subspace dimension = 2)\n",
      "    Created the whitener using a noise covariance matrix with rank 46 (260 small eigenvalues omitted)\n",
      "    Computing noise-normalization factors (sLORETA)...\n",
      "[done]\n",
      "Picked 306 channels from the data\n",
      "Computing inverse...\n",
      "    Eigenleads need to be weighted ...\n",
      "Reducing data rank 306 -> 46\n",
      "Using 1 tapers with bandwidth 2.0 Hz on 210 epochs\n"
     ]
    },
    {
     "data": {
      "application/vnd.jupyter.widget-view+json": {
       "model_id": "a6ea86b332254f1884a8467dd5b3587f",
       "version_major": 2,
       "version_minor": 0
      },
      "text/plain": [
       "  0%|          |  : 0/210 [00:00<?,       ?it/s]"
      ]
     },
     "metadata": {},
     "output_type": "display_data"
    },
    {
     "name": "stdout",
     "output_type": "stream",
     "text": [
      "Considering frequencies 0 ... 60 Hz\n",
      "Preparing the inverse operator for use...\n",
      "    Scaled noise and source covariance from nave = 1 to nave = 1\n",
      "    Created the regularized inverter\n",
      "    Created an SSP operator (subspace dimension = 2)\n",
      "    Created the whitener using a noise covariance matrix with rank 46 (260 small eigenvalues omitted)\n",
      "    Computing noise-normalization factors (sLORETA)...\n",
      "[done]\n",
      "Picked 306 channels from the data\n",
      "Computing inverse...\n",
      "    Eigenleads need to be weighted ...\n",
      "Reducing data rank 306 -> 46\n",
      "Using 1 tapers with bandwidth 2.0 Hz on 210 epochs\n"
     ]
    },
    {
     "data": {
      "application/vnd.jupyter.widget-view+json": {
       "model_id": "c09e345748d6481596dfb634b04e5135",
       "version_major": 2,
       "version_minor": 0
      },
      "text/plain": [
       "  0%|          |  : 0/210 [00:00<?,       ?it/s]"
      ]
     },
     "metadata": {},
     "output_type": "display_data"
    },
    {
     "name": "stdout",
     "output_type": "stream",
     "text": [
      "  Created psd directory for f2f_108.\n",
      "Writing STC to disk...\n",
      "[done]\n",
      "Writing STC to disk...\n",
      "[done]\n",
      "Writing STC to disk...\n",
      "[done]\n",
      "Writing STC to disk...\n",
      "[done]\n",
      "Writing STC to disk...\n",
      "[done]\n",
      "Writing STC to disk...\n",
      "[done]\n",
      "Reading /home/sbierer/Data/MEG/f2f/f2f_111/epochs/All_1sec_80-sss_f2f_111-epo.fif ...\n",
      "    Read a total of 2 projection items:\n",
      "        meg-ECG--0.08-0.08-PCA-01 (1 x 306)  idle\n",
      "        meg-ECG--0.08-0.08-PCA-02 (1 x 306)  idle\n",
      "    Found the data of interest:\n",
      "        t =       0.00 ...     997.11 ms\n",
      "        0 CTF compensation matrices available\n",
      "Not setting metadata\n",
      "Not setting metadata\n",
      "592 matching events found\n",
      "No baseline correction applied\n",
      "Created an SSP operator (subspace dimension = 2)\n",
      "Created an SSP operator (subspace dimension = 2)\n",
      "2 projection items activated\n",
      "SSP projectors applied...\n",
      "    ** Adjusting subject label for source space **\n",
      "Considering frequencies 0 ... 60 Hz\n",
      "Preparing the inverse operator for use...\n",
      "    Scaled noise and source covariance from nave = 1 to nave = 1\n",
      "    Created the regularized inverter\n",
      "    Created an SSP operator (subspace dimension = 2)\n",
      "    Created the whitener using a noise covariance matrix with rank 46 (260 small eigenvalues omitted)\n",
      "    Computing noise-normalization factors (sLORETA)...\n",
      "[done]\n",
      "Picked 306 channels from the data\n",
      "Computing inverse...\n",
      "    Eigenleads need to be weighted ...\n",
      "Reducing data rank 306 -> 46\n",
      "Using 1 tapers with bandwidth 2.0 Hz on 210 epochs\n"
     ]
    },
    {
     "data": {
      "application/vnd.jupyter.widget-view+json": {
       "model_id": "1c31622320134223b9fffc40770e9ffe",
       "version_major": 2,
       "version_minor": 0
      },
      "text/plain": [
       "  0%|          |  : 0/210 [00:00<?,       ?it/s]"
      ]
     },
     "metadata": {},
     "output_type": "display_data"
    },
    {
     "name": "stdout",
     "output_type": "stream",
     "text": [
      "Considering frequencies 0 ... 60 Hz\n",
      "Preparing the inverse operator for use...\n",
      "    Scaled noise and source covariance from nave = 1 to nave = 1\n",
      "    Created the regularized inverter\n",
      "    Created an SSP operator (subspace dimension = 2)\n",
      "    Created the whitener using a noise covariance matrix with rank 46 (260 small eigenvalues omitted)\n",
      "    Computing noise-normalization factors (sLORETA)...\n",
      "[done]\n",
      "Picked 306 channels from the data\n",
      "Computing inverse...\n",
      "    Eigenleads need to be weighted ...\n",
      "Reducing data rank 306 -> 46\n",
      "Using 1 tapers with bandwidth 2.0 Hz on 210 epochs\n"
     ]
    },
    {
     "data": {
      "application/vnd.jupyter.widget-view+json": {
       "model_id": "f75482408a874e1fae359685b876810c",
       "version_major": 2,
       "version_minor": 0
      },
      "text/plain": [
       "  0%|          |  : 0/210 [00:00<?,       ?it/s]"
      ]
     },
     "metadata": {},
     "output_type": "display_data"
    },
    {
     "name": "stdout",
     "output_type": "stream",
     "text": [
      "  Created psd directory for f2f_111.\n",
      "Writing STC to disk...\n",
      "[done]\n",
      "Writing STC to disk...\n",
      "[done]\n",
      "Writing STC to disk...\n",
      "[done]\n",
      "Writing STC to disk...\n",
      "[done]\n",
      "Writing STC to disk...\n",
      "[done]\n",
      "Writing STC to disk...\n",
      "[done]\n",
      "Reading /home/sbierer/Data/MEG/f2f/f2f_112/epochs/All_1sec_80-sss_f2f_112-epo.fif ...\n",
      "    Read a total of 2 projection items:\n",
      "        meg-ECG--0.08-0.08-PCA-01 (1 x 306)  idle\n",
      "        meg-ECG--0.08-0.08-PCA-02 (1 x 306)  idle\n",
      "    Found the data of interest:\n",
      "        t =       0.00 ...     997.11 ms\n",
      "        0 CTF compensation matrices available\n",
      "Not setting metadata\n",
      "Not setting metadata\n",
      "794 matching events found\n",
      "No baseline correction applied\n",
      "Created an SSP operator (subspace dimension = 2)\n",
      "Created an SSP operator (subspace dimension = 2)\n",
      "2 projection items activated\n",
      "SSP projectors applied...\n",
      "    ** Adjusting subject label for source space **\n",
      "Considering frequencies 0 ... 60 Hz\n",
      "Preparing the inverse operator for use...\n",
      "    Scaled noise and source covariance from nave = 1 to nave = 1\n",
      "    Created the regularized inverter\n",
      "    Created an SSP operator (subspace dimension = 2)\n",
      "    Created the whitener using a noise covariance matrix with rank 46 (260 small eigenvalues omitted)\n",
      "    Computing noise-normalization factors (sLORETA)...\n",
      "[done]\n",
      "Picked 306 channels from the data\n",
      "Computing inverse...\n",
      "    Eigenleads need to be weighted ...\n",
      "Reducing data rank 306 -> 46\n",
      "Using 1 tapers with bandwidth 2.0 Hz on 210 epochs\n"
     ]
    },
    {
     "data": {
      "application/vnd.jupyter.widget-view+json": {
       "model_id": "d84c9cd9fca74d08943b858e29058c9c",
       "version_major": 2,
       "version_minor": 0
      },
      "text/plain": [
       "  0%|          |  : 0/210 [00:00<?,       ?it/s]"
      ]
     },
     "metadata": {},
     "output_type": "display_data"
    },
    {
     "name": "stdout",
     "output_type": "stream",
     "text": [
      "Considering frequencies 0 ... 60 Hz\n",
      "Preparing the inverse operator for use...\n",
      "    Scaled noise and source covariance from nave = 1 to nave = 1\n",
      "    Created the regularized inverter\n",
      "    Created an SSP operator (subspace dimension = 2)\n",
      "    Created the whitener using a noise covariance matrix with rank 46 (260 small eigenvalues omitted)\n",
      "    Computing noise-normalization factors (sLORETA)...\n",
      "[done]\n",
      "Picked 306 channels from the data\n",
      "Computing inverse...\n",
      "    Eigenleads need to be weighted ...\n",
      "Reducing data rank 306 -> 46\n",
      "Using 1 tapers with bandwidth 2.0 Hz on 210 epochs\n"
     ]
    },
    {
     "data": {
      "application/vnd.jupyter.widget-view+json": {
       "model_id": "770fa81326b0456b864d6df07e4cbec3",
       "version_major": 2,
       "version_minor": 0
      },
      "text/plain": [
       "  0%|          |  : 0/210 [00:00<?,       ?it/s]"
      ]
     },
     "metadata": {},
     "output_type": "display_data"
    },
    {
     "name": "stdout",
     "output_type": "stream",
     "text": [
      "  Created psd directory for f2f_112.\n",
      "Writing STC to disk...\n",
      "[done]\n",
      "Writing STC to disk...\n",
      "[done]\n",
      "Writing STC to disk...\n",
      "[done]\n",
      "Writing STC to disk...\n",
      "[done]\n",
      "Writing STC to disk...\n",
      "[done]\n",
      "Writing STC to disk...\n",
      "[done]\n",
      "Reading /home/sbierer/Data/MEG/f2f/f2f_114/epochs/All_1sec_80-sss_f2f_114-epo.fif ...\n",
      "    Read a total of 2 projection items:\n",
      "        meg-ECG--0.08-0.08-PCA-01 (1 x 306)  idle\n",
      "        meg-ECG--0.08-0.08-PCA-02 (1 x 306)  idle\n",
      "    Found the data of interest:\n",
      "        t =       0.00 ...     997.11 ms\n",
      "        0 CTF compensation matrices available\n",
      "Not setting metadata\n",
      "Not setting metadata\n",
      "807 matching events found\n",
      "No baseline correction applied\n",
      "Created an SSP operator (subspace dimension = 2)\n",
      "Created an SSP operator (subspace dimension = 2)\n",
      "2 projection items activated\n",
      "SSP projectors applied...\n",
      "    ** Adjusting subject label for source space **\n",
      "Considering frequencies 0 ... 60 Hz\n",
      "Preparing the inverse operator for use...\n",
      "    Scaled noise and source covariance from nave = 1 to nave = 1\n",
      "    Created the regularized inverter\n",
      "    Created an SSP operator (subspace dimension = 2)\n",
      "    Created the whitener using a noise covariance matrix with rank 46 (260 small eigenvalues omitted)\n",
      "    Computing noise-normalization factors (sLORETA)...\n",
      "[done]\n",
      "Picked 306 channels from the data\n",
      "Computing inverse...\n",
      "    Eigenleads need to be weighted ...\n",
      "Reducing data rank 306 -> 46\n",
      "Using 1 tapers with bandwidth 2.0 Hz on 210 epochs\n"
     ]
    },
    {
     "data": {
      "application/vnd.jupyter.widget-view+json": {
       "model_id": "569052d47b6940a7a5ac1f1875835358",
       "version_major": 2,
       "version_minor": 0
      },
      "text/plain": [
       "  0%|          |  : 0/210 [00:00<?,       ?it/s]"
      ]
     },
     "metadata": {},
     "output_type": "display_data"
    },
    {
     "name": "stdout",
     "output_type": "stream",
     "text": [
      "Considering frequencies 0 ... 60 Hz\n",
      "Preparing the inverse operator for use...\n",
      "    Scaled noise and source covariance from nave = 1 to nave = 1\n",
      "    Created the regularized inverter\n",
      "    Created an SSP operator (subspace dimension = 2)\n",
      "    Created the whitener using a noise covariance matrix with rank 46 (260 small eigenvalues omitted)\n",
      "    Computing noise-normalization factors (sLORETA)...\n",
      "[done]\n",
      "Picked 306 channels from the data\n",
      "Computing inverse...\n",
      "    Eigenleads need to be weighted ...\n",
      "Reducing data rank 306 -> 46\n",
      "Using 1 tapers with bandwidth 2.0 Hz on 210 epochs\n"
     ]
    },
    {
     "data": {
      "application/vnd.jupyter.widget-view+json": {
       "model_id": "b898e606c2464801aaa4d54f6233a2ef",
       "version_major": 2,
       "version_minor": 0
      },
      "text/plain": [
       "  0%|          |  : 0/210 [00:00<?,       ?it/s]"
      ]
     },
     "metadata": {},
     "output_type": "display_data"
    },
    {
     "name": "stdout",
     "output_type": "stream",
     "text": [
      "  Created psd directory for f2f_114.\n",
      "Writing STC to disk...\n",
      "[done]\n",
      "Writing STC to disk...\n",
      "[done]\n",
      "Writing STC to disk...\n",
      "[done]\n",
      "Writing STC to disk...\n",
      "[done]\n",
      "Writing STC to disk...\n",
      "[done]\n",
      "Writing STC to disk...\n",
      "[done]\n",
      "Reading /home/sbierer/Data/MEG/f2f/f2f_115/epochs/All_1sec_80-sss_f2f_115-epo.fif ...\n",
      "    Read a total of 2 projection items:\n",
      "        meg-ECG--0.08-0.08-PCA-01 (1 x 306)  idle\n",
      "        meg-ECG--0.08-0.08-PCA-02 (1 x 306)  idle\n",
      "    Found the data of interest:\n",
      "        t =       0.00 ...     997.11 ms\n",
      "        0 CTF compensation matrices available\n",
      "Not setting metadata\n",
      "Not setting metadata\n",
      "312 matching events found\n",
      "No baseline correction applied\n",
      "Created an SSP operator (subspace dimension = 2)\n",
      "Created an SSP operator (subspace dimension = 2)\n",
      "2 projection items activated\n",
      "SSP projectors applied...\n",
      "    ** Adjusting subject label for source space **\n",
      "Considering frequencies 0 ... 60 Hz\n",
      "Preparing the inverse operator for use...\n",
      "    Scaled noise and source covariance from nave = 1 to nave = 1\n",
      "    Created the regularized inverter\n",
      "    Created an SSP operator (subspace dimension = 2)\n",
      "    Created the whitener using a noise covariance matrix with rank 46 (260 small eigenvalues omitted)\n",
      "    Computing noise-normalization factors (sLORETA)...\n",
      "[done]\n",
      "Picked 306 channels from the data\n",
      "Computing inverse...\n",
      "    Eigenleads need to be weighted ...\n",
      "Reducing data rank 306 -> 46\n",
      "Using 1 tapers with bandwidth 2.0 Hz on 179 epochs\n"
     ]
    },
    {
     "data": {
      "application/vnd.jupyter.widget-view+json": {
       "model_id": "282b184a360a442b91b6742ed40726f1",
       "version_major": 2,
       "version_minor": 0
      },
      "text/plain": [
       "  0%|          |  : 0/179 [00:00<?,       ?it/s]"
      ]
     },
     "metadata": {},
     "output_type": "display_data"
    },
    {
     "name": "stdout",
     "output_type": "stream",
     "text": [
      "Considering frequencies 0 ... 60 Hz\n",
      "Preparing the inverse operator for use...\n",
      "    Scaled noise and source covariance from nave = 1 to nave = 1\n",
      "    Created the regularized inverter\n",
      "    Created an SSP operator (subspace dimension = 2)\n",
      "    Created the whitener using a noise covariance matrix with rank 46 (260 small eigenvalues omitted)\n",
      "    Computing noise-normalization factors (sLORETA)...\n",
      "[done]\n",
      "Picked 306 channels from the data\n",
      "Computing inverse...\n",
      "    Eigenleads need to be weighted ...\n",
      "Reducing data rank 306 -> 46\n",
      "Using 1 tapers with bandwidth 2.0 Hz on 133 epochs\n"
     ]
    },
    {
     "data": {
      "application/vnd.jupyter.widget-view+json": {
       "model_id": "87a368410efb48d0979d6b96614d7f4a",
       "version_major": 2,
       "version_minor": 0
      },
      "text/plain": [
       "  0%|          |  : 0/133 [00:00<?,       ?it/s]"
      ]
     },
     "metadata": {},
     "output_type": "display_data"
    },
    {
     "name": "stdout",
     "output_type": "stream",
     "text": [
      "  Created psd directory for f2f_115.\n",
      "Writing STC to disk...\n",
      "[done]\n",
      "Writing STC to disk...\n",
      "[done]\n",
      "Writing STC to disk...\n",
      "[done]\n",
      "Writing STC to disk...\n",
      "[done]\n",
      "Writing STC to disk...\n",
      "[done]\n",
      "Writing STC to disk...\n",
      "[done]\n",
      "Reading /home/sbierer/Data/MEG/f2f/f2f_116/epochs/All_1sec_80-sss_f2f_116-epo.fif ...\n",
      "    Read a total of 2 projection items:\n",
      "        meg-ECG--0.08-0.08-PCA-01 (1 x 306)  idle\n",
      "        meg-ECG--0.08-0.08-PCA-02 (1 x 306)  idle\n",
      "    Found the data of interest:\n",
      "        t =       0.00 ...     997.11 ms\n",
      "        0 CTF compensation matrices available\n",
      "Not setting metadata\n",
      "Not setting metadata\n",
      "326 matching events found\n",
      "No baseline correction applied\n",
      "Created an SSP operator (subspace dimension = 2)\n",
      "Created an SSP operator (subspace dimension = 2)\n",
      "2 projection items activated\n",
      "SSP projectors applied...\n",
      "Considering frequencies 0 ... 60 Hz\n",
      "Preparing the inverse operator for use...\n",
      "    Scaled noise and source covariance from nave = 1 to nave = 1\n",
      "    Created the regularized inverter\n",
      "    Created an SSP operator (subspace dimension = 2)\n",
      "    Created the whitener using a noise covariance matrix with rank 46 (260 small eigenvalues omitted)\n",
      "    Computing noise-normalization factors (sLORETA)...\n",
      "[done]\n",
      "Picked 306 channels from the data\n",
      "Computing inverse...\n",
      "    Eigenleads need to be weighted ...\n",
      "Reducing data rank 306 -> 46\n",
      "Using 1 tapers with bandwidth 2.0 Hz on 158 epochs\n"
     ]
    },
    {
     "data": {
      "application/vnd.jupyter.widget-view+json": {
       "model_id": "dc9196124c244e8fa01111fd46a6ac2f",
       "version_major": 2,
       "version_minor": 0
      },
      "text/plain": [
       "  0%|          |  : 0/158 [00:00<?,       ?it/s]"
      ]
     },
     "metadata": {},
     "output_type": "display_data"
    },
    {
     "name": "stdout",
     "output_type": "stream",
     "text": [
      "Considering frequencies 0 ... 60 Hz\n",
      "Preparing the inverse operator for use...\n",
      "    Scaled noise and source covariance from nave = 1 to nave = 1\n",
      "    Created the regularized inverter\n",
      "    Created an SSP operator (subspace dimension = 2)\n",
      "    Created the whitener using a noise covariance matrix with rank 46 (260 small eigenvalues omitted)\n",
      "    Computing noise-normalization factors (sLORETA)...\n",
      "[done]\n",
      "Picked 306 channels from the data\n",
      "Computing inverse...\n",
      "    Eigenleads need to be weighted ...\n",
      "Reducing data rank 306 -> 46\n",
      "Using 1 tapers with bandwidth 2.0 Hz on 168 epochs\n"
     ]
    },
    {
     "data": {
      "application/vnd.jupyter.widget-view+json": {
       "model_id": "0e8267adffd84bcb86410fb59003aaeb",
       "version_major": 2,
       "version_minor": 0
      },
      "text/plain": [
       "  0%|          |  : 0/168 [00:00<?,       ?it/s]"
      ]
     },
     "metadata": {},
     "output_type": "display_data"
    },
    {
     "name": "stdout",
     "output_type": "stream",
     "text": [
      "  Created psd directory for f2f_116.\n",
      "Writing STC to disk...\n",
      "[done]\n",
      "Writing STC to disk...\n",
      "[done]\n",
      "Writing STC to disk...\n",
      "[done]\n",
      "Writing STC to disk...\n",
      "[done]\n",
      "Writing STC to disk...\n",
      "[done]\n",
      "Writing STC to disk...\n",
      "[done]\n",
      "Reading /home/sbierer/Data/MEG/f2f/f2f_117/epochs/All_1sec_80-sss_f2f_117-epo.fif ...\n",
      "    Read a total of 2 projection items:\n",
      "        meg-ECG--0.08-0.08-PCA-01 (1 x 306)  idle\n",
      "        meg-ECG--0.08-0.08-PCA-02 (1 x 306)  idle\n",
      "    Found the data of interest:\n",
      "        t =       0.00 ...     997.11 ms\n",
      "        0 CTF compensation matrices available\n",
      "Not setting metadata\n",
      "Not setting metadata\n",
      "296 matching events found\n",
      "No baseline correction applied\n",
      "Created an SSP operator (subspace dimension = 2)\n",
      "Created an SSP operator (subspace dimension = 2)\n",
      "2 projection items activated\n",
      "SSP projectors applied...\n",
      "    ** Adjusting subject label for source space **\n",
      "Considering frequencies 0 ... 60 Hz\n",
      "Preparing the inverse operator for use...\n",
      "    Scaled noise and source covariance from nave = 1 to nave = 1\n",
      "    Created the regularized inverter\n",
      "    Created an SSP operator (subspace dimension = 2)\n",
      "    Created the whitener using a noise covariance matrix with rank 46 (260 small eigenvalues omitted)\n",
      "    Computing noise-normalization factors (sLORETA)...\n",
      "[done]\n",
      "Picked 306 channels from the data\n",
      "Computing inverse...\n",
      "    Eigenleads need to be weighted ...\n",
      "Reducing data rank 306 -> 46\n",
      "Using 1 tapers with bandwidth 2.0 Hz on 162 epochs\n"
     ]
    },
    {
     "data": {
      "application/vnd.jupyter.widget-view+json": {
       "model_id": "9ad16347de1d4e2dbd18588f927c5f6d",
       "version_major": 2,
       "version_minor": 0
      },
      "text/plain": [
       "  0%|          |  : 0/162 [00:00<?,       ?it/s]"
      ]
     },
     "metadata": {},
     "output_type": "display_data"
    },
    {
     "name": "stdout",
     "output_type": "stream",
     "text": [
      "Considering frequencies 0 ... 60 Hz\n",
      "Preparing the inverse operator for use...\n",
      "    Scaled noise and source covariance from nave = 1 to nave = 1\n",
      "    Created the regularized inverter\n",
      "    Created an SSP operator (subspace dimension = 2)\n",
      "    Created the whitener using a noise covariance matrix with rank 46 (260 small eigenvalues omitted)\n",
      "    Computing noise-normalization factors (sLORETA)...\n",
      "[done]\n",
      "Picked 306 channels from the data\n",
      "Computing inverse...\n",
      "    Eigenleads need to be weighted ...\n",
      "Reducing data rank 306 -> 46\n",
      "Using 1 tapers with bandwidth 2.0 Hz on 134 epochs\n"
     ]
    },
    {
     "data": {
      "application/vnd.jupyter.widget-view+json": {
       "model_id": "3325e9253cf2492e8b69a360232c2af1",
       "version_major": 2,
       "version_minor": 0
      },
      "text/plain": [
       "  0%|          |  : 0/134 [00:00<?,       ?it/s]"
      ]
     },
     "metadata": {},
     "output_type": "display_data"
    },
    {
     "name": "stdout",
     "output_type": "stream",
     "text": [
      "  Created psd directory for f2f_117.\n",
      "Writing STC to disk...\n",
      "[done]\n",
      "Writing STC to disk...\n",
      "[done]\n",
      "Writing STC to disk...\n",
      "[done]\n",
      "Writing STC to disk...\n",
      "[done]\n",
      "Writing STC to disk...\n",
      "[done]\n",
      "Writing STC to disk...\n",
      "[done]\n",
      "Reading /home/sbierer/Data/MEG/f2f/f2f_118/epochs/All_1sec_80-sss_f2f_118-epo.fif ...\n",
      "    Read a total of 2 projection items:\n",
      "        meg-ECG--0.08-0.08-PCA-01 (1 x 306)  idle\n",
      "        meg-ECG--0.08-0.08-PCA-02 (1 x 306)  idle\n",
      "    Found the data of interest:\n",
      "        t =       0.00 ...     997.11 ms\n",
      "        0 CTF compensation matrices available\n",
      "Not setting metadata\n",
      "Not setting metadata\n",
      "593 matching events found\n",
      "No baseline correction applied\n",
      "Created an SSP operator (subspace dimension = 2)\n",
      "Created an SSP operator (subspace dimension = 2)\n",
      "2 projection items activated\n",
      "SSP projectors applied...\n",
      "    ** Adjusting subject label for source space **\n",
      "Considering frequencies 0 ... 60 Hz\n",
      "Preparing the inverse operator for use...\n",
      "    Scaled noise and source covariance from nave = 1 to nave = 1\n",
      "    Created the regularized inverter\n",
      "    Created an SSP operator (subspace dimension = 2)\n",
      "    Created the whitener using a noise covariance matrix with rank 46 (260 small eigenvalues omitted)\n",
      "    Computing noise-normalization factors (sLORETA)...\n",
      "[done]\n",
      "Picked 306 channels from the data\n",
      "Computing inverse...\n",
      "    Eigenleads need to be weighted ...\n",
      "Reducing data rank 306 -> 46\n",
      "Using 1 tapers with bandwidth 2.0 Hz on 210 epochs\n"
     ]
    },
    {
     "data": {
      "application/vnd.jupyter.widget-view+json": {
       "model_id": "58bc692ea49448fc94fcc9d3e6a0c448",
       "version_major": 2,
       "version_minor": 0
      },
      "text/plain": [
       "  0%|          |  : 0/210 [00:00<?,       ?it/s]"
      ]
     },
     "metadata": {},
     "output_type": "display_data"
    },
    {
     "name": "stdout",
     "output_type": "stream",
     "text": [
      "Considering frequencies 0 ... 60 Hz\n",
      "Preparing the inverse operator for use...\n",
      "    Scaled noise and source covariance from nave = 1 to nave = 1\n",
      "    Created the regularized inverter\n",
      "    Created an SSP operator (subspace dimension = 2)\n",
      "    Created the whitener using a noise covariance matrix with rank 46 (260 small eigenvalues omitted)\n",
      "    Computing noise-normalization factors (sLORETA)...\n",
      "[done]\n",
      "Picked 306 channels from the data\n",
      "Computing inverse...\n",
      "    Eigenleads need to be weighted ...\n",
      "Reducing data rank 306 -> 46\n",
      "Using 1 tapers with bandwidth 2.0 Hz on 210 epochs\n"
     ]
    },
    {
     "data": {
      "application/vnd.jupyter.widget-view+json": {
       "model_id": "bc5d9bc6d5084924ba9aa2160e0274b9",
       "version_major": 2,
       "version_minor": 0
      },
      "text/plain": [
       "  0%|          |  : 0/210 [00:00<?,       ?it/s]"
      ]
     },
     "metadata": {},
     "output_type": "display_data"
    },
    {
     "name": "stdout",
     "output_type": "stream",
     "text": [
      "  Created psd directory for f2f_118.\n",
      "Writing STC to disk...\n",
      "[done]\n",
      "Writing STC to disk...\n",
      "[done]\n",
      "Writing STC to disk...\n",
      "[done]\n",
      "Writing STC to disk...\n",
      "[done]\n",
      "Writing STC to disk...\n",
      "[done]\n",
      "Writing STC to disk...\n",
      "[done]\n",
      "Reading /home/sbierer/Data/MEG/f2f/f2f_119/epochs/All_1sec_80-sss_f2f_119-epo.fif ...\n",
      "    Read a total of 2 projection items:\n",
      "        meg-ECG--0.08-0.08-PCA-01 (1 x 306)  idle\n",
      "        meg-ECG--0.08-0.08-PCA-02 (1 x 306)  idle\n",
      "    Found the data of interest:\n",
      "        t =       0.00 ...     997.11 ms\n",
      "        0 CTF compensation matrices available\n",
      "Not setting metadata\n",
      "Not setting metadata\n",
      "713 matching events found\n",
      "No baseline correction applied\n",
      "Created an SSP operator (subspace dimension = 2)\n",
      "Created an SSP operator (subspace dimension = 2)\n",
      "2 projection items activated\n",
      "SSP projectors applied...\n",
      "    ** Adjusting subject label for source space **\n",
      "Considering frequencies 0 ... 60 Hz\n",
      "Preparing the inverse operator for use...\n",
      "    Scaled noise and source covariance from nave = 1 to nave = 1\n",
      "    Created the regularized inverter\n",
      "    Created an SSP operator (subspace dimension = 2)\n",
      "    Created the whitener using a noise covariance matrix with rank 46 (260 small eigenvalues omitted)\n",
      "    Computing noise-normalization factors (sLORETA)...\n",
      "[done]\n",
      "Picked 306 channels from the data\n",
      "Computing inverse...\n",
      "    Eigenleads need to be weighted ...\n",
      "Reducing data rank 306 -> 46\n",
      "Using 1 tapers with bandwidth 2.0 Hz on 210 epochs\n"
     ]
    },
    {
     "data": {
      "application/vnd.jupyter.widget-view+json": {
       "model_id": "65eee51ed8af434e86015acc5f722689",
       "version_major": 2,
       "version_minor": 0
      },
      "text/plain": [
       "  0%|          |  : 0/210 [00:00<?,       ?it/s]"
      ]
     },
     "metadata": {},
     "output_type": "display_data"
    },
    {
     "name": "stdout",
     "output_type": "stream",
     "text": [
      "Considering frequencies 0 ... 60 Hz\n",
      "Preparing the inverse operator for use...\n",
      "    Scaled noise and source covariance from nave = 1 to nave = 1\n",
      "    Created the regularized inverter\n",
      "    Created an SSP operator (subspace dimension = 2)\n",
      "    Created the whitener using a noise covariance matrix with rank 46 (260 small eigenvalues omitted)\n",
      "    Computing noise-normalization factors (sLORETA)...\n",
      "[done]\n",
      "Picked 306 channels from the data\n",
      "Computing inverse...\n",
      "    Eigenleads need to be weighted ...\n",
      "Reducing data rank 306 -> 46\n",
      "Using 1 tapers with bandwidth 2.0 Hz on 210 epochs\n"
     ]
    },
    {
     "data": {
      "application/vnd.jupyter.widget-view+json": {
       "model_id": "6ce15fbf353f4843b755749f05091e34",
       "version_major": 2,
       "version_minor": 0
      },
      "text/plain": [
       "  0%|          |  : 0/210 [00:00<?,       ?it/s]"
      ]
     },
     "metadata": {},
     "output_type": "display_data"
    },
    {
     "name": "stdout",
     "output_type": "stream",
     "text": [
      "  Created psd directory for f2f_119.\n",
      "Writing STC to disk...\n",
      "[done]\n",
      "Writing STC to disk...\n",
      "[done]\n",
      "Writing STC to disk...\n",
      "[done]\n",
      "Writing STC to disk...\n",
      "[done]\n",
      "Writing STC to disk...\n",
      "[done]\n",
      "Writing STC to disk...\n",
      "[done]\n",
      "Processed source spectra for 35 subjects.\n"
     ]
    }
   ],
   "source": [
    "# Make source PSDs, stored as regular AND morphed STCs with source-specific equalization #\n",
    "# The function here has been updated, to differentiate b/w global and local (source-specific) normalization. It also\n",
    "# removes the \"diff\" version of source estimation, as that can be derived from the straight talk + ignore STCs.\n",
    "norm_tag = ''   # to reflect scaling or anything else\n",
    "create_srcpsds(test_subjects, params, epoch_range=(0,209), morph=\"14mo_surr\",\n",
    "               activate_proj=True, scaling='local_logmean', extra_tag=norm_tag)"
   ]
  },
  {
   "cell_type": "markdown",
   "metadata": {},
   "source": [
    "## Create individual and group reports  \n",
    "The current code below reflects October 2020 changes to create_srcpsd_summary() allowing for either volumetric or surface source spaces and plots.  \n",
    "As of 2021-02-05, subject reports were only being made for infants. The reports shouldn't overwrite as long as the 'psd1_dir' vs 'psd2_dir' convention is being followed.  \n",
    "As of 2021-04-15, I switched back to adult bands but with the gammas combined. The directory name is 'psd3_dir'.\n",
    "Also at this time, condition, diff, and t-diff lims can be passed as a dictionary argument in order to FIX scaling for all subjects or groups. This supercedes the static variables in the \\_source.py script, which had to be constantly updated."
   ]
  },
  {
   "cell_type": "code",
   "execution_count": 31,
   "metadata": {},
   "outputs": [],
   "source": [
    "# Set up the scaling variables (change defaults only for plots that should have fixed limits) #\n",
    "INDIV_COND_LIMS, INDIV_DIFF_LIMS, INDIV_TDIFF_LIMS = None, None, None\n",
    "GROUP_COND_LIMS, GROUP_DIFF_LIMS, GROUP_TDIFF_LIMS = None, None, None\n",
    "\n",
    "# 1) Old F2F\n",
    "# GROUP_COND_LIMS = [(12, 15, 20), (12, 15, 20), (12, 15, 20),\n",
    "#                         (12, 15, 20), (12, 15, 20)]\n",
    "# GROUP_DIFF_LIMS = [(.35, .40, .45), (.25, .30, .35), (.25, .30, .35),\n",
    "#                         (.15, .20, .35), (.15, .20, .35)]\n",
    "# GROUP_TDIFF_LIMS = [(.35, .40, .45), (.20, .25, .30), (.20, .25, .30),\n",
    "#                         (.12, .15, .18), (.12, .15, .18)]\n",
    "# 2) Old MMF\n",
    "# GROUP_DIFF_LIMS = [(1.0, 1.3, 1.5), (0.9, 1.2, 1.3), (0.9, 1.2, 1.3),\n",
    "#                         (0.9, 1.2, 1.3), (1.8, 2.0, 2.2)]\n",
    "# GROUP_TDIFF_LIMS = [(3.0, 4.5, 6.0), (3.0, 4.5, 6.0), (3.0, 4.5, 6.0),\n",
    "#                         (3.0, 4.5, 6.0), (3.0, 4.5, 6.0)]\n",
    "# 3) Reduced adult bands (2021.04.21)\n",
    "INDIV_COND_LIMS = None   # defaults to pct with \"max\" at 99.8% level across conditions!\n",
    "INDIV_DIFF_LIMS = None\n",
    "INDIV_TDIFF_LIMS = None"
   ]
  },
  {
   "cell_type": "code",
   "execution_count": 32,
   "metadata": {},
   "outputs": [],
   "source": [
    "indiv_lims = [INDIV_COND_LIMS, INDIV_DIFF_LIMS, INDIV_TDIFF_LIMS]\n",
    "for lims_tuple in indiv_lims:\n",
    "    assert (lims_tuple is None) or (len(lims_tuple) == n_bands)\n",
    "\n",
    "group_lims = [GROUP_COND_LIMS, GROUP_DIFF_LIMS, GROUP_TDIFF_LIMS]\n",
    "for lims_tuple in group_lims:\n",
    "    assert (lims_tuple is None) or (len(lims_tuple) == n_bands)"
   ]
  },
  {
   "cell_type": "code",
   "execution_count": 33,
   "metadata": {},
   "outputs": [],
   "source": [
    "# Rerun this cell if python script is updated #\n",
    "importlib.reload(f2f_analysis_source);\n",
    "from f2f_analysis_source import create_srcpsd_summary"
   ]
  },
  {
   "cell_type": "code",
   "execution_count": 34,
   "metadata": {},
   "outputs": [
    {
     "name": "stdout",
     "output_type": "stream",
     "text": [
      "Compiling report for f2f_009.\n"
     ]
    },
    {
     "ename": "AttributeError",
     "evalue": "'NoneType' object has no attribute 'GetCurrentCursor'",
     "output_type": "error",
     "traceback": [
      "\u001b[0;31m---------------------------------------------------------------------------\u001b[0m",
      "\u001b[0;31mAttributeError\u001b[0m                            Traceback (most recent call last)",
      "\u001b[0;32m~/CodeBase/mayavi/tvtk/pyface/ui/qt4/QVTKRenderWindowInteractor.py\u001b[0m in \u001b[0;36mShowCursor\u001b[0;34m(self)\u001b[0m\n\u001b[1;32m    354\u001b[0m     \u001b[0;32mdef\u001b[0m \u001b[0mShowCursor\u001b[0m\u001b[0;34m(\u001b[0m\u001b[0mself\u001b[0m\u001b[0;34m)\u001b[0m\u001b[0;34m:\u001b[0m\u001b[0;34m\u001b[0m\u001b[0;34m\u001b[0m\u001b[0m\n\u001b[1;32m    355\u001b[0m         \u001b[0;34m\"\"\"Shows the cursor.\"\"\"\u001b[0m\u001b[0;34m\u001b[0m\u001b[0;34m\u001b[0m\u001b[0m\n\u001b[0;32m--> 356\u001b[0;31m         \u001b[0mvtk_cursor\u001b[0m \u001b[0;34m=\u001b[0m \u001b[0mself\u001b[0m\u001b[0;34m.\u001b[0m\u001b[0m_Iren\u001b[0m\u001b[0;34m.\u001b[0m\u001b[0mGetRenderWindow\u001b[0m\u001b[0;34m(\u001b[0m\u001b[0;34m)\u001b[0m\u001b[0;34m.\u001b[0m\u001b[0mGetCurrentCursor\u001b[0m\u001b[0;34m(\u001b[0m\u001b[0;34m)\u001b[0m\u001b[0;34m\u001b[0m\u001b[0;34m\u001b[0m\u001b[0m\n\u001b[0m\u001b[1;32m    357\u001b[0m         \u001b[0mqt_cursor\u001b[0m \u001b[0;34m=\u001b[0m \u001b[0mself\u001b[0m\u001b[0;34m.\u001b[0m\u001b[0m_CURSOR_MAP\u001b[0m\u001b[0;34m.\u001b[0m\u001b[0mget\u001b[0m\u001b[0;34m(\u001b[0m\u001b[0mvtk_cursor\u001b[0m\u001b[0;34m,\u001b[0m \u001b[0mQt\u001b[0m\u001b[0;34m.\u001b[0m\u001b[0mArrowCursor\u001b[0m\u001b[0;34m)\u001b[0m\u001b[0;34m\u001b[0m\u001b[0;34m\u001b[0m\u001b[0m\n\u001b[1;32m    358\u001b[0m         \u001b[0mself\u001b[0m\u001b[0;34m.\u001b[0m\u001b[0msetCursor\u001b[0m\u001b[0;34m(\u001b[0m\u001b[0mqt_cursor\u001b[0m\u001b[0;34m)\u001b[0m\u001b[0;34m\u001b[0m\u001b[0;34m\u001b[0m\u001b[0m\n",
      "\u001b[0;31mAttributeError\u001b[0m: 'NoneType' object has no attribute 'GetCurrentCursor'"
     ]
    },
    {
     "name": "stdout",
     "output_type": "stream",
     "text": [
      "Embedding : jquery.js\n",
      "Embedding : jquery-ui.min.js\n",
      "Embedding : bootstrap.min.js\n",
      "Embedding : jquery-ui.min.css\n",
      "Embedding : bootstrap.min.css\n",
      "Saving report to location /home/sbierer/Projects/ILABS/Analyses/F2F/results/srcpsd_2021Apr/f2f_009_reduced_srfpsd.html\n",
      "Rendering : Table of Contents\n",
      "Condition: talk (sbj)\n",
      " ... talk (sbj) | THETA\n",
      " ... talk (sbj) | ALPHA\n",
      " ... talk (sbj) | BETA\n",
      " ... talk (sbj) | GAMMA\n",
      "Condition: ignore (sbj)\n",
      " ... ignore (sbj) | THETA\n",
      " ... ignore (sbj) | ALPHA\n",
      " ... ignore (sbj) | BETA\n",
      " ... ignore (sbj) | GAMMA\n",
      "Condition: talk-ignore\n",
      " ... talk-ignore | THETA\n",
      " ... talk-ignore | ALPHA\n",
      " ... talk-ignore | BETA\n",
      " ... talk-ignore | GAMMA\n",
      "Compiling report for f2f_010.\n",
      "Embedding : jquery.js\n",
      "Embedding : jquery-ui.min.js\n",
      "Embedding : bootstrap.min.js\n",
      "Embedding : jquery-ui.min.css\n",
      "Embedding : bootstrap.min.css\n",
      "Saving report to location /home/sbierer/Projects/ILABS/Analyses/F2F/results/srcpsd_2021Apr/f2f_010_reduced_srfpsd.html\n",
      "Rendering : Table of Contents\n",
      "Condition: talk (sbj)\n",
      " ... talk (sbj) | THETA\n",
      " ... talk (sbj) | ALPHA\n",
      " ... talk (sbj) | BETA\n",
      " ... talk (sbj) | GAMMA\n",
      "Condition: ignore (sbj)\n",
      " ... ignore (sbj) | THETA\n",
      " ... ignore (sbj) | ALPHA\n",
      " ... ignore (sbj) | BETA\n",
      " ... ignore (sbj) | GAMMA\n",
      "Condition: talk-ignore\n",
      " ... talk-ignore | THETA\n",
      " ... talk-ignore | ALPHA\n",
      " ... talk-ignore | BETA\n",
      " ... talk-ignore | GAMMA\n",
      "Compiling report for f2f_012.\n",
      "Embedding : jquery.js\n",
      "Embedding : jquery-ui.min.js\n",
      "Embedding : bootstrap.min.js\n",
      "Embedding : jquery-ui.min.css\n",
      "Embedding : bootstrap.min.css\n",
      "Saving report to location /home/sbierer/Projects/ILABS/Analyses/F2F/results/srcpsd_2021Apr/f2f_012_reduced_srfpsd.html\n",
      "Rendering : Table of Contents\n",
      "Condition: talk (sbj)\n",
      " ... talk (sbj) | THETA\n",
      " ... talk (sbj) | ALPHA\n",
      " ... talk (sbj) | BETA\n",
      " ... talk (sbj) | GAMMA\n",
      "Condition: ignore (sbj)\n",
      " ... ignore (sbj) | THETA\n",
      " ... ignore (sbj) | ALPHA\n",
      " ... ignore (sbj) | BETA\n",
      " ... ignore (sbj) | GAMMA\n",
      "Condition: talk-ignore\n",
      " ... talk-ignore | THETA\n",
      " ... talk-ignore | ALPHA\n",
      " ... talk-ignore | BETA\n",
      " ... talk-ignore | GAMMA\n",
      "Compiling report for f2f_013.\n",
      "Embedding : jquery.js\n",
      "Embedding : jquery-ui.min.js\n",
      "Embedding : bootstrap.min.js\n",
      "Embedding : jquery-ui.min.css\n",
      "Embedding : bootstrap.min.css\n",
      "Saving report to location /home/sbierer/Projects/ILABS/Analyses/F2F/results/srcpsd_2021Apr/f2f_013_reduced_srfpsd.html\n",
      "Rendering : Table of Contents\n",
      "Condition: talk (sbj)\n",
      " ... talk (sbj) | THETA\n",
      " ... talk (sbj) | ALPHA\n",
      " ... talk (sbj) | BETA\n",
      " ... talk (sbj) | GAMMA\n",
      "Condition: ignore (sbj)\n",
      " ... ignore (sbj) | THETA\n",
      " ... ignore (sbj) | ALPHA\n",
      " ... ignore (sbj) | BETA\n",
      " ... ignore (sbj) | GAMMA\n",
      "Condition: talk-ignore\n",
      " ... talk-ignore | THETA\n",
      " ... talk-ignore | ALPHA\n",
      " ... talk-ignore | BETA\n",
      " ... talk-ignore | GAMMA\n",
      "Compiling report for f2f_018.\n",
      "Embedding : jquery.js\n",
      "Embedding : jquery-ui.min.js\n",
      "Embedding : bootstrap.min.js\n",
      "Embedding : jquery-ui.min.css\n",
      "Embedding : bootstrap.min.css\n",
      "Saving report to location /home/sbierer/Projects/ILABS/Analyses/F2F/results/srcpsd_2021Apr/f2f_018_reduced_srfpsd.html\n",
      "Rendering : Table of Contents\n",
      "Condition: talk (sbj)\n",
      " ... talk (sbj) | THETA\n",
      " ... talk (sbj) | ALPHA\n",
      " ... talk (sbj) | BETA\n",
      " ... talk (sbj) | GAMMA\n",
      "Condition: ignore (sbj)\n",
      " ... ignore (sbj) | THETA\n",
      " ... ignore (sbj) | ALPHA\n",
      " ... ignore (sbj) | BETA\n",
      " ... ignore (sbj) | GAMMA\n",
      "Condition: talk-ignore\n",
      " ... talk-ignore | THETA\n",
      " ... talk-ignore | ALPHA\n",
      " ... talk-ignore | BETA\n",
      " ... talk-ignore | GAMMA\n",
      "Compiling report for f2f_021.\n",
      "Embedding : jquery.js\n",
      "Embedding : jquery-ui.min.js\n",
      "Embedding : bootstrap.min.js\n",
      "Embedding : jquery-ui.min.css\n",
      "Embedding : bootstrap.min.css\n",
      "Saving report to location /home/sbierer/Projects/ILABS/Analyses/F2F/results/srcpsd_2021Apr/f2f_021_reduced_srfpsd.html\n",
      "Rendering : Table of Contents\n",
      "Condition: talk (sbj)\n",
      " ... talk (sbj) | THETA\n",
      " ... talk (sbj) | ALPHA\n",
      " ... talk (sbj) | BETA\n",
      " ... talk (sbj) | GAMMA\n",
      "Condition: ignore (sbj)\n",
      " ... ignore (sbj) | THETA\n",
      " ... ignore (sbj) | ALPHA\n",
      " ... ignore (sbj) | BETA\n",
      " ... ignore (sbj) | GAMMA\n",
      "Condition: talk-ignore\n",
      " ... talk-ignore | THETA\n",
      " ... talk-ignore | ALPHA\n",
      " ... talk-ignore | BETA\n",
      " ... talk-ignore | GAMMA\n",
      "Compiling report for f2f_025.\n",
      "Embedding : jquery.js\n",
      "Embedding : jquery-ui.min.js\n",
      "Embedding : bootstrap.min.js\n",
      "Embedding : jquery-ui.min.css\n",
      "Embedding : bootstrap.min.css\n",
      "Saving report to location /home/sbierer/Projects/ILABS/Analyses/F2F/results/srcpsd_2021Apr/f2f_025_reduced_srfpsd.html\n",
      "Rendering : Table of Contents\n",
      "Condition: talk (sbj)\n",
      " ... talk (sbj) | THETA\n",
      " ... talk (sbj) | ALPHA\n",
      " ... talk (sbj) | BETA\n",
      " ... talk (sbj) | GAMMA\n",
      "Condition: ignore (sbj)\n",
      " ... ignore (sbj) | THETA\n",
      " ... ignore (sbj) | ALPHA\n",
      " ... ignore (sbj) | BETA\n",
      " ... ignore (sbj) | GAMMA\n",
      "Condition: talk-ignore\n",
      " ... talk-ignore | THETA\n",
      " ... talk-ignore | ALPHA\n",
      " ... talk-ignore | BETA\n",
      " ... talk-ignore | GAMMA\n",
      "Compiling report for f2f_027.\n",
      "Embedding : jquery.js\n",
      "Embedding : jquery-ui.min.js\n",
      "Embedding : bootstrap.min.js\n",
      "Embedding : jquery-ui.min.css\n",
      "Embedding : bootstrap.min.css\n",
      "Saving report to location /home/sbierer/Projects/ILABS/Analyses/F2F/results/srcpsd_2021Apr/f2f_027_reduced_srfpsd.html\n",
      "Rendering : Table of Contents\n",
      "Condition: talk (sbj)\n",
      " ... talk (sbj) | THETA\n",
      " ... talk (sbj) | ALPHA\n",
      " ... talk (sbj) | BETA\n",
      " ... talk (sbj) | GAMMA\n",
      "Condition: ignore (sbj)\n",
      " ... ignore (sbj) | THETA\n",
      " ... ignore (sbj) | ALPHA\n",
      " ... ignore (sbj) | BETA\n",
      " ... ignore (sbj) | GAMMA\n",
      "Condition: talk-ignore\n",
      " ... talk-ignore | THETA\n",
      " ... talk-ignore | ALPHA\n",
      " ... talk-ignore | BETA\n",
      " ... talk-ignore | GAMMA\n",
      "Compiling report for f2f_028.\n",
      "Embedding : jquery.js\n",
      "Embedding : jquery-ui.min.js\n",
      "Embedding : bootstrap.min.js\n",
      "Embedding : jquery-ui.min.css\n",
      "Embedding : bootstrap.min.css\n",
      "Saving report to location /home/sbierer/Projects/ILABS/Analyses/F2F/results/srcpsd_2021Apr/f2f_028_reduced_srfpsd.html\n",
      "Rendering : Table of Contents\n",
      "Condition: talk (sbj)\n",
      " ... talk (sbj) | THETA\n",
      " ... talk (sbj) | ALPHA\n",
      " ... talk (sbj) | BETA\n",
      " ... talk (sbj) | GAMMA\n",
      "Condition: ignore (sbj)\n",
      " ... ignore (sbj) | THETA\n",
      " ... ignore (sbj) | ALPHA\n",
      " ... ignore (sbj) | BETA\n",
      " ... ignore (sbj) | GAMMA\n",
      "Condition: talk-ignore\n",
      " ... talk-ignore | THETA\n",
      " ... talk-ignore | ALPHA\n",
      " ... talk-ignore | BETA\n",
      " ... talk-ignore | GAMMA\n",
      "Compiling report for f2f_029.\n",
      "Embedding : jquery.js\n",
      "Embedding : jquery-ui.min.js\n",
      "Embedding : bootstrap.min.js\n",
      "Embedding : jquery-ui.min.css\n",
      "Embedding : bootstrap.min.css\n",
      "Saving report to location /home/sbierer/Projects/ILABS/Analyses/F2F/results/srcpsd_2021Apr/f2f_029_reduced_srfpsd.html\n",
      "Rendering : Table of Contents\n",
      "Condition: talk (sbj)\n",
      " ... talk (sbj) | THETA\n",
      " ... talk (sbj) | ALPHA\n",
      " ... talk (sbj) | BETA\n",
      " ... talk (sbj) | GAMMA\n",
      "Condition: ignore (sbj)\n",
      " ... ignore (sbj) | THETA\n",
      " ... ignore (sbj) | ALPHA\n",
      " ... ignore (sbj) | BETA\n",
      " ... ignore (sbj) | GAMMA\n",
      "Condition: talk-ignore\n",
      " ... talk-ignore | THETA\n",
      " ... talk-ignore | ALPHA\n",
      " ... talk-ignore | BETA\n",
      " ... talk-ignore | GAMMA\n",
      "Compiling report for f2f_030.\n",
      "Embedding : jquery.js\n",
      "Embedding : jquery-ui.min.js\n",
      "Embedding : bootstrap.min.js\n",
      "Embedding : jquery-ui.min.css\n",
      "Embedding : bootstrap.min.css\n",
      "Saving report to location /home/sbierer/Projects/ILABS/Analyses/F2F/results/srcpsd_2021Apr/f2f_030_reduced_srfpsd.html\n",
      "Rendering : Table of Contents\n",
      "Condition: talk (sbj)\n",
      " ... talk (sbj) | THETA\n",
      " ... talk (sbj) | ALPHA\n",
      " ... talk (sbj) | BETA\n",
      " ... talk (sbj) | GAMMA\n",
      "Condition: ignore (sbj)\n",
      " ... ignore (sbj) | THETA\n",
      " ... ignore (sbj) | ALPHA\n",
      " ... ignore (sbj) | BETA\n",
      " ... ignore (sbj) | GAMMA\n",
      "Condition: talk-ignore\n",
      " ... talk-ignore | THETA\n",
      " ... talk-ignore | ALPHA\n",
      " ... talk-ignore | BETA\n",
      " ... talk-ignore | GAMMA\n",
      "Compiling report for f2f_036.\n",
      "Embedding : jquery.js\n",
      "Embedding : jquery-ui.min.js\n",
      "Embedding : bootstrap.min.js\n",
      "Embedding : jquery-ui.min.css\n",
      "Embedding : bootstrap.min.css\n",
      "Saving report to location /home/sbierer/Projects/ILABS/Analyses/F2F/results/srcpsd_2021Apr/f2f_036_reduced_srfpsd.html\n",
      "Rendering : Table of Contents\n",
      "Condition: talk (sbj)\n",
      " ... talk (sbj) | THETA\n",
      " ... talk (sbj) | ALPHA\n",
      " ... talk (sbj) | BETA\n",
      " ... talk (sbj) | GAMMA\n",
      "Condition: ignore (sbj)\n",
      " ... ignore (sbj) | THETA\n",
      " ... ignore (sbj) | ALPHA\n",
      " ... ignore (sbj) | BETA\n",
      " ... ignore (sbj) | GAMMA\n",
      "Condition: talk-ignore\n",
      " ... talk-ignore | THETA\n",
      " ... talk-ignore | ALPHA\n",
      " ... talk-ignore | BETA\n",
      " ... talk-ignore | GAMMA\n",
      "Compiling report for f2f_037.\n"
     ]
    },
    {
     "name": "stdout",
     "output_type": "stream",
     "text": [
      "Embedding : jquery.js\n",
      "Embedding : jquery-ui.min.js\n",
      "Embedding : bootstrap.min.js\n",
      "Embedding : jquery-ui.min.css\n",
      "Embedding : bootstrap.min.css\n",
      "Saving report to location /home/sbierer/Projects/ILABS/Analyses/F2F/results/srcpsd_2021Apr/f2f_037_reduced_srfpsd.html\n",
      "Rendering : Table of Contents\n",
      "Condition: talk (sbj)\n",
      " ... talk (sbj) | THETA\n",
      " ... talk (sbj) | ALPHA\n",
      " ... talk (sbj) | BETA\n",
      " ... talk (sbj) | GAMMA\n",
      "Condition: ignore (sbj)\n",
      " ... ignore (sbj) | THETA\n",
      " ... ignore (sbj) | ALPHA\n",
      " ... ignore (sbj) | BETA\n",
      " ... ignore (sbj) | GAMMA\n",
      "Condition: talk-ignore\n",
      " ... talk-ignore | THETA\n",
      " ... talk-ignore | ALPHA\n",
      " ... talk-ignore | BETA\n",
      " ... talk-ignore | GAMMA\n",
      "Compiling report for f2f_103.\n",
      "Embedding : jquery.js\n",
      "Embedding : jquery-ui.min.js\n",
      "Embedding : bootstrap.min.js\n",
      "Embedding : jquery-ui.min.css\n",
      "Embedding : bootstrap.min.css\n",
      "Saving report to location /home/sbierer/Projects/ILABS/Analyses/F2F/results/srcpsd_2021Apr/f2f_103_reduced_srfpsd.html\n",
      "Rendering : Table of Contents\n",
      "Condition: talk (sbj)\n",
      " ... talk (sbj) | THETA\n",
      " ... talk (sbj) | ALPHA\n",
      " ... talk (sbj) | BETA\n",
      " ... talk (sbj) | GAMMA\n",
      "Condition: ignore (sbj)\n",
      " ... ignore (sbj) | THETA\n",
      " ... ignore (sbj) | ALPHA\n",
      " ... ignore (sbj) | BETA\n",
      " ... ignore (sbj) | GAMMA\n",
      "Condition: talk-ignore\n",
      " ... talk-ignore | THETA\n",
      " ... talk-ignore | ALPHA\n",
      " ... talk-ignore | BETA\n",
      " ... talk-ignore | GAMMA\n",
      "Compiling report for f2f_104.\n",
      "Embedding : jquery.js\n",
      "Embedding : jquery-ui.min.js\n",
      "Embedding : bootstrap.min.js\n",
      "Embedding : jquery-ui.min.css\n",
      "Embedding : bootstrap.min.css\n",
      "Saving report to location /home/sbierer/Projects/ILABS/Analyses/F2F/results/srcpsd_2021Apr/f2f_104_reduced_srfpsd.html\n",
      "Rendering : Table of Contents\n",
      "Condition: talk (sbj)\n",
      " ... talk (sbj) | THETA\n",
      " ... talk (sbj) | ALPHA\n",
      " ... talk (sbj) | BETA\n",
      " ... talk (sbj) | GAMMA\n",
      "Condition: ignore (sbj)\n",
      " ... ignore (sbj) | THETA\n",
      " ... ignore (sbj) | ALPHA\n",
      " ... ignore (sbj) | BETA\n",
      " ... ignore (sbj) | GAMMA\n",
      "Condition: talk-ignore\n",
      " ... talk-ignore | THETA\n",
      " ... talk-ignore | ALPHA\n",
      " ... talk-ignore | BETA\n",
      " ... talk-ignore | GAMMA\n",
      "Compiling report for f2f_108.\n",
      "Embedding : jquery.js\n",
      "Embedding : jquery-ui.min.js\n",
      "Embedding : bootstrap.min.js\n",
      "Embedding : jquery-ui.min.css\n",
      "Embedding : bootstrap.min.css\n",
      "Saving report to location /home/sbierer/Projects/ILABS/Analyses/F2F/results/srcpsd_2021Apr/f2f_108_reduced_srfpsd.html\n",
      "Rendering : Table of Contents\n",
      "Condition: talk (sbj)\n",
      " ... talk (sbj) | THETA\n",
      " ... talk (sbj) | ALPHA\n",
      " ... talk (sbj) | BETA\n",
      " ... talk (sbj) | GAMMA\n",
      "Condition: ignore (sbj)\n",
      " ... ignore (sbj) | THETA\n",
      " ... ignore (sbj) | ALPHA\n",
      " ... ignore (sbj) | BETA\n",
      " ... ignore (sbj) | GAMMA\n",
      "Condition: talk-ignore\n",
      " ... talk-ignore | THETA\n",
      " ... talk-ignore | ALPHA\n",
      " ... talk-ignore | BETA\n",
      " ... talk-ignore | GAMMA\n",
      "Compiling report for f2f_111.\n",
      "Embedding : jquery.js\n",
      "Embedding : jquery-ui.min.js\n",
      "Embedding : bootstrap.min.js\n",
      "Embedding : jquery-ui.min.css\n",
      "Embedding : bootstrap.min.css\n",
      "Saving report to location /home/sbierer/Projects/ILABS/Analyses/F2F/results/srcpsd_2021Apr/f2f_111_reduced_srfpsd.html\n",
      "Rendering : Table of Contents\n",
      "Condition: talk (sbj)\n",
      " ... talk (sbj) | THETA\n",
      " ... talk (sbj) | ALPHA\n",
      " ... talk (sbj) | BETA\n",
      " ... talk (sbj) | GAMMA\n",
      "Condition: ignore (sbj)\n",
      " ... ignore (sbj) | THETA\n",
      " ... ignore (sbj) | ALPHA\n",
      " ... ignore (sbj) | BETA\n",
      " ... ignore (sbj) | GAMMA\n",
      "Condition: talk-ignore\n",
      " ... talk-ignore | THETA\n",
      " ... talk-ignore | ALPHA\n",
      " ... talk-ignore | BETA\n",
      " ... talk-ignore | GAMMA\n",
      "Compiling report for f2f_114.\n",
      "Embedding : jquery.js\n",
      "Embedding : jquery-ui.min.js\n",
      "Embedding : bootstrap.min.js\n",
      "Embedding : jquery-ui.min.css\n",
      "Embedding : bootstrap.min.css\n",
      "Saving report to location /home/sbierer/Projects/ILABS/Analyses/F2F/results/srcpsd_2021Apr/f2f_114_reduced_srfpsd.html\n",
      "Rendering : Table of Contents\n",
      "Condition: talk (sbj)\n",
      " ... talk (sbj) | THETA\n",
      " ... talk (sbj) | ALPHA\n",
      " ... talk (sbj) | BETA\n",
      " ... talk (sbj) | GAMMA\n",
      "Condition: ignore (sbj)\n",
      " ... ignore (sbj) | THETA\n",
      " ... ignore (sbj) | ALPHA\n",
      " ... ignore (sbj) | BETA\n",
      " ... ignore (sbj) | GAMMA\n",
      "Condition: talk-ignore\n",
      " ... talk-ignore | THETA\n",
      " ... talk-ignore | ALPHA\n",
      " ... talk-ignore | BETA\n",
      " ... talk-ignore | GAMMA\n",
      "Compiling report for f2f_116.\n",
      "Embedding : jquery.js\n",
      "Embedding : jquery-ui.min.js\n",
      "Embedding : bootstrap.min.js\n",
      "Embedding : jquery-ui.min.css\n",
      "Embedding : bootstrap.min.css\n",
      "Saving report to location /home/sbierer/Projects/ILABS/Analyses/F2F/results/srcpsd_2021Apr/f2f_116_reduced_srfpsd.html\n",
      "Rendering : Table of Contents\n",
      "Condition: talk (sbj)\n",
      " ... talk (sbj) | THETA\n",
      " ... talk (sbj) | ALPHA\n",
      " ... talk (sbj) | BETA\n",
      " ... talk (sbj) | GAMMA\n",
      "Condition: ignore (sbj)\n",
      " ... ignore (sbj) | THETA\n",
      " ... ignore (sbj) | ALPHA\n",
      " ... ignore (sbj) | BETA\n",
      " ... ignore (sbj) | GAMMA\n",
      "Condition: talk-ignore\n",
      " ... talk-ignore | THETA\n",
      " ... talk-ignore | ALPHA\n",
      " ... talk-ignore | BETA\n",
      " ... talk-ignore | GAMMA\n",
      "Compiling report for f2f_117.\n",
      "Embedding : jquery.js\n",
      "Embedding : jquery-ui.min.js\n",
      "Embedding : bootstrap.min.js\n",
      "Embedding : jquery-ui.min.css\n",
      "Embedding : bootstrap.min.css\n",
      "Saving report to location /home/sbierer/Projects/ILABS/Analyses/F2F/results/srcpsd_2021Apr/f2f_117_reduced_srfpsd.html\n",
      "Rendering : Table of Contents\n",
      "Condition: talk (sbj)\n",
      " ... talk (sbj) | THETA\n",
      " ... talk (sbj) | ALPHA\n",
      " ... talk (sbj) | BETA\n",
      " ... talk (sbj) | GAMMA\n",
      "Condition: ignore (sbj)\n",
      " ... ignore (sbj) | THETA\n",
      " ... ignore (sbj) | ALPHA\n",
      " ... ignore (sbj) | BETA\n",
      " ... ignore (sbj) | GAMMA\n",
      "Condition: talk-ignore\n",
      " ... talk-ignore | THETA\n",
      " ... talk-ignore | ALPHA\n",
      " ... talk-ignore | BETA\n",
      " ... talk-ignore | GAMMA\n",
      "Compiling report for f2f_119.\n",
      "Embedding : jquery.js\n",
      "Embedding : jquery-ui.min.js\n",
      "Embedding : bootstrap.min.js\n",
      "Embedding : jquery-ui.min.css\n",
      "Embedding : bootstrap.min.css\n",
      "Saving report to location /home/sbierer/Projects/ILABS/Analyses/F2F/results/srcpsd_2021Apr/f2f_119_reduced_srfpsd.html\n",
      "Rendering : Table of Contents\n",
      "Condition: talk (sbj)\n",
      " ... talk (sbj) | THETA\n",
      " ... talk (sbj) | ALPHA\n",
      " ... talk (sbj) | BETA\n",
      " ... talk (sbj) | GAMMA\n",
      "Condition: ignore (sbj)\n",
      " ... ignore (sbj) | THETA\n",
      " ... ignore (sbj) | ALPHA\n",
      " ... ignore (sbj) | BETA\n",
      " ... ignore (sbj) | GAMMA\n",
      "Condition: talk-ignore\n",
      " ... talk-ignore | THETA\n",
      " ... talk-ignore | ALPHA\n",
      " ... talk-ignore | BETA\n",
      " ... talk-ignore | GAMMA\n"
     ]
    }
   ],
   "source": [
    "# All subjects individually #\n",
    "report_path = os.path.expanduser('~/Projects/ILABS/Analyses/F2F/results/srcpsd_2021Apr')\n",
    "\n",
    "create_srcpsd_summary(partial_subjects, params, mode='individual', model_type = 'surface',\n",
    "    pattern_in='', pattern_out=pattern_suffix, limits_bytype = indiv_lims,\n",
    "    path_out=report_path, title='%s Source PSDs');"
   ]
  },
  {
   "cell_type": "code",
   "execution_count": 11,
   "metadata": {
    "scrolled": true
   },
   "outputs": [
    {
     "name": "stdout",
     "output_type": "stream",
     "text": [
      "Embedding : jquery.js\n",
      "Embedding : jquery-ui.min.js\n",
      "Embedding : bootstrap.min.js\n",
      "Embedding : jquery-ui.min.css\n",
      "Embedding : bootstrap.min.css\n",
      "Saving report to location /home/sbierer/Projects/ILABS/Analyses/F2F/results/srcpsd_groups_2021Jan/group_ALL_original_srfpsd.html\n",
      "Rendering : Table of Contents\n",
      "Condition: talk-ignore\n",
      " ... talk-ignore | THETA\n",
      " ... talk-ignore | ALPHA\n",
      " ... talk-ignore | BETA\n",
      " ... talk-ignore | GAMMA\n",
      " ... talk-ignore | HIGH GAMMA\n",
      "Condition: t-test\n",
      " ... t-test | THETA\n",
      " ... t-test | ALPHA\n",
      " ... t-test | BETA\n",
      " ... t-test | GAMMA\n",
      " ... t-test | HIGH GAMMA\n",
      "Condition: sum\n",
      " ... sum | THETA\n",
      " ... sum | ALPHA\n",
      " ... sum | BETA\n",
      " ... sum | GAMMA\n",
      " ... sum | HIGH GAMMA\n"
     ]
    }
   ],
   "source": [
    "# All subjects average, with morph (as all group reports are) #\n",
    "report_path = '/home/sbierer/Projects/ILABS/Analyses/F2F/results/srcpsd_groups_XXXXXX'\n",
    "\n",
    "create_srcpsd_summary(all_subjects, params, mode='group', model_type = 'surface',\n",
    "    pattern_in='', pattern_out='_ALL' + pattern_suffix, limits_bytype = group_lims,\n",
    "    path_out=report_path, title='Average for ALL Subjects (source eq.)');"
   ]
  },
  {
   "cell_type": "code",
   "execution_count": 12,
   "metadata": {
    "scrolled": true
   },
   "outputs": [
    {
     "name": "stderr",
     "output_type": "stream",
     "text": [
      "/home/sbierer/Projects/ILABS/Analyses/F2F/f2f_analysis_source.py:512: RuntimeWarning: All data were zero\n",
      "  clim=clims[i], backend='mayavi', verbose=False)\n"
     ]
    },
    {
     "name": "stdout",
     "output_type": "stream",
     "text": [
      "Embedding : jquery.js\n",
      "Embedding : jquery-ui.min.js\n",
      "Embedding : bootstrap.min.js\n",
      "Embedding : jquery-ui.min.css\n",
      "Embedding : bootstrap.min.css\n",
      "Saving report to location /home/sbierer/Projects/ILABS/Analyses/F2F/results/srcpsd_groups_2021Jan/group_SEShigh_original_srfpsd.html\n",
      "Rendering : Table of Contents\n",
      "Condition: talk-ignore\n",
      " ... talk-ignore | THETA\n",
      " ... talk-ignore | ALPHA\n",
      " ... talk-ignore | BETA\n",
      " ... talk-ignore | GAMMA\n",
      " ... talk-ignore | HIGH GAMMA\n",
      "Condition: t-test\n",
      " ... t-test | THETA\n",
      " ... t-test | ALPHA\n",
      " ... t-test | BETA\n",
      " ... t-test | GAMMA\n",
      " ... t-test | HIGH GAMMA\n",
      "Condition: sum\n",
      " ... sum | THETA\n",
      " ... sum | ALPHA\n",
      " ... sum | BETA\n",
      " ... sum | GAMMA\n",
      " ... sum | HIGH GAMMA\n",
      "Embedding : jquery.js\n",
      "Embedding : jquery-ui.min.js\n",
      "Embedding : bootstrap.min.js\n",
      "Embedding : jquery-ui.min.css\n",
      "Embedding : bootstrap.min.css\n",
      "Saving report to location /home/sbierer/Projects/ILABS/Analyses/F2F/results/srcpsd_groups_2021Jan/group_SESlow_original_srfpsd.html\n",
      "Rendering : Table of Contents\n",
      "Condition: talk-ignore\n",
      " ... talk-ignore | THETA\n",
      " ... talk-ignore | ALPHA\n",
      " ... talk-ignore | BETA\n",
      " ... talk-ignore | GAMMA\n",
      " ... talk-ignore | HIGH GAMMA\n",
      "Condition: t-test\n",
      " ... t-test | THETA\n",
      " ... t-test | ALPHA\n",
      " ... t-test | BETA\n",
      " ... t-test | GAMMA\n",
      " ... t-test | HIGH GAMMA\n",
      "Condition: sum\n",
      " ... sum | THETA\n",
      " ... sum | ALPHA\n",
      " ... sum | BETA\n",
      " ... sum | GAMMA\n",
      " ... sum | HIGH GAMMA\n"
     ]
    }
   ],
   "source": [
    "# SES group averages #\n",
    "create_srcpsd_summary(subjects_SES_high, params, mode='group', model_type = 'surface',\n",
    "    pattern_in='', pattern_out='_SEShigh' + pattern_suffix, limits_bytype = group_lims,\n",
    "    path_out=report_path, title='Average for SES High (source eq.)')\n",
    "\n",
    "create_srcpsd_summary(subjects_SES_low, params, mode='group', model_type = 'surface',\n",
    "    pattern_in='', pattern_out='_SESlow' + pattern_suffix, limits_bytype = group_lims,\n",
    "    path_out=report_path, title='Average for SES Low (source eq.)')"
   ]
  },
  {
   "cell_type": "code",
   "execution_count": 13,
   "metadata": {
    "scrolled": true
   },
   "outputs": [
    {
     "name": "stderr",
     "output_type": "stream",
     "text": [
      "/home/sbierer/Projects/ILABS/Analyses/F2F/f2f_analysis_source.py:512: RuntimeWarning: All data were zero\n",
      "  clim=clims[i], backend='mayavi', verbose=False)\n"
     ]
    },
    {
     "name": "stdout",
     "output_type": "stream",
     "text": [
      "Embedding : jquery.js\n",
      "Embedding : jquery-ui.min.js\n",
      "Embedding : bootstrap.min.js\n",
      "Embedding : jquery-ui.min.css\n",
      "Embedding : bootstrap.min.css\n",
      "Saving report to location /home/sbierer/Projects/ILABS/Analyses/F2F/results/srcpsd_groups_2021Jan/group_VOCABhigh_original_srfpsd.html\n",
      "Rendering : Table of Contents\n",
      "Condition: talk-ignore\n",
      " ... talk-ignore | THETA\n",
      " ... talk-ignore | ALPHA\n",
      " ... talk-ignore | BETA\n",
      " ... talk-ignore | GAMMA\n",
      " ... talk-ignore | HIGH GAMMA\n",
      "Condition: t-test\n",
      " ... t-test | THETA\n",
      " ... t-test | ALPHA\n",
      " ... t-test | BETA\n",
      " ... t-test | GAMMA\n",
      " ... t-test | HIGH GAMMA\n",
      "Condition: sum\n",
      " ... sum | THETA\n",
      " ... sum | ALPHA\n",
      " ... sum | BETA\n",
      " ... sum | GAMMA\n",
      " ... sum | HIGH GAMMA\n",
      "Embedding : jquery.js\n",
      "Embedding : jquery-ui.min.js\n",
      "Embedding : bootstrap.min.js\n",
      "Embedding : jquery-ui.min.css\n",
      "Embedding : bootstrap.min.css\n",
      "Saving report to location /home/sbierer/Projects/ILABS/Analyses/F2F/results/srcpsd_groups_2021Jan/group_VOCABlow_original_srfpsd.html\n",
      "Rendering : Table of Contents\n",
      "Condition: talk-ignore\n",
      " ... talk-ignore | THETA\n",
      " ... talk-ignore | ALPHA\n",
      " ... talk-ignore | BETA\n",
      " ... talk-ignore | GAMMA\n",
      " ... talk-ignore | HIGH GAMMA\n",
      "Condition: t-test\n",
      " ... t-test | THETA\n",
      " ... t-test | ALPHA\n",
      " ... t-test | BETA\n",
      " ... t-test | GAMMA\n",
      " ... t-test | HIGH GAMMA\n",
      "Condition: sum\n",
      " ... sum | THETA\n",
      " ... sum | ALPHA\n",
      " ... sum | BETA\n",
      " ... sum | GAMMA\n",
      " ... sum | HIGH GAMMA\n"
     ]
    }
   ],
   "source": [
    "# 24-month Vocabulary group averages #\n",
    "create_srcpsd_summary(subjects_vocab24_high, params, mode='group', model_type = 'surface',\n",
    "    pattern_in='', pattern_out='_VOCABhigh' + pattern_suffix, limits_bytype = group_lims,\n",
    "    path_out=report_path, title='24-mo Vocabulary High (source eq.)')\n",
    "\n",
    "create_srcpsd_summary(subjects_vocab24_low, params, mode='group', model_type = 'surface',\n",
    "    pattern_in='', pattern_out='_VOCABlow' + pattern_suffix, limits_bytype = group_lims,\n",
    "    path_out=report_path, title='24-mo Vocabulary Low (source eq.)')"
   ]
  },
  {
   "cell_type": "code",
   "execution_count": 14,
   "metadata": {
    "scrolled": true
   },
   "outputs": [
    {
     "name": "stdout",
     "output_type": "stream",
     "text": [
      "Embedding : jquery.js\n",
      "Embedding : jquery-ui.min.js\n",
      "Embedding : bootstrap.min.js\n",
      "Embedding : jquery-ui.min.css\n",
      "Embedding : bootstrap.min.css\n",
      "Saving report to location /home/sbierer/Projects/ILABS/Analyses/F2F/results/srcpsd_groups_2021Jan/group_SNTC24high_original_srfpsd.html\n",
      "Rendering : Table of Contents\n",
      "Condition: talk-ignore\n",
      " ... talk-ignore | THETA\n",
      " ... talk-ignore | ALPHA\n",
      " ... talk-ignore | BETA\n",
      " ... talk-ignore | GAMMA\n",
      " ... talk-ignore | HIGH GAMMA\n",
      "Condition: t-test\n",
      " ... t-test | THETA\n",
      " ... t-test | ALPHA\n",
      " ... t-test | BETA\n",
      " ... t-test | GAMMA\n",
      " ... t-test | HIGH GAMMA\n",
      "Condition: sum\n",
      " ... sum | THETA\n",
      " ... sum | ALPHA\n",
      " ... sum | BETA\n",
      " ... sum | GAMMA\n",
      " ... sum | HIGH GAMMA\n",
      "Embedding : jquery.js\n",
      "Embedding : jquery-ui.min.js\n",
      "Embedding : bootstrap.min.js\n",
      "Embedding : jquery-ui.min.css\n",
      "Embedding : bootstrap.min.css\n",
      "Saving report to location /home/sbierer/Projects/ILABS/Analyses/F2F/results/srcpsd_groups_2021Jan/group_SNTC24low_original_srfpsd.html\n",
      "Rendering : Table of Contents\n",
      "Condition: talk-ignore\n",
      " ... talk-ignore | THETA\n",
      " ... talk-ignore | ALPHA\n",
      " ... talk-ignore | BETA\n",
      " ... talk-ignore | GAMMA\n",
      " ... talk-ignore | HIGH GAMMA\n",
      "Condition: t-test\n",
      " ... t-test | THETA\n",
      " ... t-test | ALPHA\n",
      " ... t-test | BETA\n",
      " ... t-test | GAMMA\n",
      " ... t-test | HIGH GAMMA\n",
      "Condition: sum\n",
      " ... sum | THETA\n",
      " ... sum | ALPHA\n",
      " ... sum | BETA\n",
      " ... sum | GAMMA\n",
      " ... sum | HIGH GAMMA\n"
     ]
    }
   ],
   "source": [
    "# 24-month Sentences group averages #\n",
    "create_srcpsd_summary(subjects_sntc24_high, params, mode='group', model_type = 'surface',\n",
    "    pattern_in='', pattern_out='_SNTC24high' + pattern_suffix, limits_bytype = group_lims,\n",
    "    path_out=report_path, title='24-mo Sentences High (source eq.)')\n",
    "\n",
    "create_srcpsd_summary(subjects_sntc24_low, params, mode='group', model_type = 'surface',\n",
    "    pattern_in='', pattern_out='_SNTC24low' + pattern_suffix, limits_bytype = group_lims,\n",
    "    path_out=report_path, title='24-mo Sentences Low (source eq.)')"
   ]
  },
  {
   "cell_type": "code",
   "execution_count": 15,
   "metadata": {
    "scrolled": true
   },
   "outputs": [
    {
     "name": "stderr",
     "output_type": "stream",
     "text": [
      "/home/sbierer/Projects/ILABS/Analyses/F2F/f2f_analysis_source.py:512: RuntimeWarning: All data were zero\n",
      "  clim=clims[i], backend='mayavi', verbose=False)\n"
     ]
    },
    {
     "name": "stdout",
     "output_type": "stream",
     "text": [
      "Embedding : jquery.js\n",
      "Embedding : jquery-ui.min.js\n",
      "Embedding : bootstrap.min.js\n",
      "Embedding : jquery-ui.min.css\n",
      "Embedding : bootstrap.min.css\n",
      "Saving report to location /home/sbierer/Projects/ILABS/Analyses/F2F/results/srcpsd_groups_2021Jan/group_SNTC30high_original_srfpsd.html\n",
      "Rendering : Table of Contents\n",
      "Condition: talk-ignore\n",
      " ... talk-ignore | THETA\n",
      " ... talk-ignore | ALPHA\n",
      " ... talk-ignore | BETA\n",
      " ... talk-ignore | GAMMA\n",
      " ... talk-ignore | HIGH GAMMA\n",
      "Condition: t-test\n",
      " ... t-test | THETA\n",
      " ... t-test | ALPHA\n",
      " ... t-test | BETA\n",
      " ... t-test | GAMMA\n",
      " ... t-test | HIGH GAMMA\n",
      "Condition: sum\n",
      " ... sum | THETA\n",
      " ... sum | ALPHA\n",
      " ... sum | BETA\n",
      " ... sum | GAMMA\n",
      " ... sum | HIGH GAMMA\n",
      "Embedding : jquery.js\n",
      "Embedding : jquery-ui.min.js\n",
      "Embedding : bootstrap.min.js\n",
      "Embedding : jquery-ui.min.css\n",
      "Embedding : bootstrap.min.css\n",
      "Saving report to location /home/sbierer/Projects/ILABS/Analyses/F2F/results/srcpsd_groups_2021Jan/group_SNTC30low_original_srfpsd.html\n",
      "Rendering : Table of Contents\n",
      "Condition: talk-ignore\n",
      " ... talk-ignore | THETA\n",
      " ... talk-ignore | ALPHA\n",
      " ... talk-ignore | BETA\n",
      " ... talk-ignore | GAMMA\n",
      " ... talk-ignore | HIGH GAMMA\n",
      "Condition: t-test\n",
      " ... t-test | THETA\n",
      " ... t-test | ALPHA\n",
      " ... t-test | BETA\n",
      " ... t-test | GAMMA\n",
      " ... t-test | HIGH GAMMA\n",
      "Condition: sum\n",
      " ... sum | THETA\n",
      " ... sum | ALPHA\n",
      " ... sum | BETA\n",
      " ... sum | GAMMA\n",
      " ... sum | HIGH GAMMA\n"
     ]
    }
   ],
   "source": [
    "# 30-month Sentences group averages #\n",
    "create_srcpsd_summary(subjects_sntc30_high, params, mode='group', model_type = 'surface',\n",
    "    pattern_in='', pattern_out='_SNTC30high' + pattern_suffix, limits_bytype = group_lims,\n",
    "    path_out=report_path, title='30-mo Sentences High (source eq.)')\n",
    "\n",
    "create_srcpsd_summary(subjects_sntc30_low, params, mode='group', model_type = 'surface',\n",
    "    pattern_in='', pattern_out='_SNTC30low' + pattern_suffix, limits_bytype = group_lims,\n",
    "    path_out=report_path, title='30-mo Sentences Low (source eq.)')"
   ]
  },
  {
   "cell_type": "markdown",
   "metadata": {},
   "source": [
    "## Group reports for talk-only and ignore-only maps\n",
    "2020-02-06 update using the _grpplot_mode_ argument."
   ]
  },
  {
   "cell_type": "code",
   "execution_count": 17,
   "metadata": {},
   "outputs": [],
   "source": [
    "# Rerun this cell if python script is updated #\n",
    "importlib.reload(f2f_analysis_source);\n",
    "from f2f_analysis_source import create_srcpsd_summary"
   ]
  },
  {
   "cell_type": "code",
   "execution_count": 36,
   "metadata": {
    "scrolled": true
   },
   "outputs": [
    {
     "name": "stdout",
     "output_type": "stream",
     "text": [
      "Embedding : jquery.js\n",
      "Embedding : jquery-ui.min.js\n",
      "Embedding : bootstrap.min.js\n",
      "Embedding : jquery-ui.min.css\n",
      "Embedding : bootstrap.min.css\n",
      "Saving report to location /home/sbierer/Projects/ILABS/Analyses/F2F/results/srcpsd_2021Apr/group_ALL_COND_reduced_srfpsd.html\n",
      "Rendering : Table of Contents\n",
      "Condition: talk\n",
      " ... talk | THETA\n",
      " ... talk | ALPHA\n",
      " ... talk | BETA\n",
      " ... talk | GAMMA\n",
      "Condition: ignore\n",
      " ... ignore | THETA\n",
      " ... ignore | ALPHA\n",
      " ... ignore | BETA\n",
      " ... ignore | GAMMA\n",
      "Condition: talk-ignore\n",
      " ... talk-ignore | THETA\n",
      " ... talk-ignore | ALPHA\n",
      " ... talk-ignore | BETA\n",
      " ... talk-ignore | GAMMA\n"
     ]
    }
   ],
   "source": [
    "# All subjects average, with morph (as all group reports are) #\n",
    "report_path = os.path.expanduser('~/Projects/ILABS/Analyses/F2F/results/srcpsd_2021Apr')\n",
    "title_str = f'Average for ALL Subjects (N={len(partial_subjects)})'\n",
    "\n",
    "create_srcpsd_summary(partial_subjects, params, mode='group', model_type = 'surface',\n",
    "    pattern_in='', pattern_out='_ALL_COND' + pattern_suffix, grpplot_mode = 'condition',\n",
    "    limits_bytype = group_lims, path_out=report_path, title=title_str);"
   ]
  },
  {
   "cell_type": "code",
   "execution_count": 46,
   "metadata": {
    "scrolled": true
   },
   "outputs": [
    {
     "name": "stdout",
     "output_type": "stream",
     "text": [
      "Embedding : jquery.js\n",
      "Embedding : jquery-ui.min.js\n",
      "Embedding : bootstrap.min.js\n",
      "Embedding : jquery-ui.min.css\n",
      "Embedding : bootstrap.min.css\n",
      "Saving report to location /home/sbierer/Projects/ILABS/Analyses/F2F/results/srcpsd_groups_2021Feb/group_SEShigh_COND_infant_srfpsd.html\n",
      "Rendering : Table of Contents\n",
      "Condition: talk\n",
      " ... talk | LOW THETA\n",
      " ... talk | HIGH THETA\n",
      " ... talk | ALPHA\n",
      " ... talk | BETA\n",
      " ... talk | GAMMA\n",
      "Condition: ignore\n",
      " ... ignore | LOW THETA\n",
      " ... ignore | HIGH THETA\n",
      " ... ignore | ALPHA\n",
      " ... ignore | BETA\n",
      " ... ignore | GAMMA\n",
      "Condition: mean\n",
      " ... mean | LOW THETA\n",
      " ... mean | HIGH THETA\n",
      " ... mean | ALPHA\n",
      " ... mean | BETA\n",
      " ... mean | GAMMA\n",
      "Embedding : jquery.js\n",
      "Embedding : jquery-ui.min.js\n",
      "Embedding : bootstrap.min.js\n",
      "Embedding : jquery-ui.min.css\n",
      "Embedding : bootstrap.min.css\n",
      "Saving report to location /home/sbierer/Projects/ILABS/Analyses/F2F/results/srcpsd_groups_2021Feb/group_SESlow_COND_infant_srfpsd.html\n",
      "Rendering : Table of Contents\n",
      "Condition: talk\n",
      " ... talk | LOW THETA\n",
      " ... talk | HIGH THETA\n",
      " ... talk | ALPHA\n",
      " ... talk | BETA\n",
      " ... talk | GAMMA\n",
      "Condition: ignore\n",
      " ... ignore | LOW THETA\n",
      " ... ignore | HIGH THETA\n",
      " ... ignore | ALPHA\n",
      " ... ignore | BETA\n",
      " ... ignore | GAMMA\n",
      "Condition: mean\n",
      " ... mean | LOW THETA\n",
      " ... mean | HIGH THETA\n",
      " ... mean | ALPHA\n",
      " ... mean | BETA\n",
      " ... mean | GAMMA\n"
     ]
    }
   ],
   "source": [
    "# SES group averages #\n",
    "create_srcpsd_summary(subjects_SES_high, params, mode='group', model_type = 'surface',\n",
    "    pattern_in='', pattern_out='_SEShigh_COND' + pattern_suffix, grpplot_mode = 'condition',\n",
    "    limits_bytype = group_lims, path_out=report_path, title='Average for SES High (source eq.)')\n",
    "\n",
    "create_srcpsd_summary(subjects_SES_low, params, mode='group', model_type = 'surface',\n",
    "    pattern_in='', pattern_out='_SESlow_COND' + pattern_suffix, grpplot_mode = 'condition',\n",
    "    limits_bytype = group_lims, path_out=report_path, title='Average for SES Low (source eq.)')"
   ]
  },
  {
   "cell_type": "code",
   "execution_count": 47,
   "metadata": {
    "scrolled": true
   },
   "outputs": [
    {
     "name": "stdout",
     "output_type": "stream",
     "text": [
      "Embedding : jquery.js\n",
      "Embedding : jquery-ui.min.js\n",
      "Embedding : bootstrap.min.js\n",
      "Embedding : jquery-ui.min.css\n",
      "Embedding : bootstrap.min.css\n",
      "Saving report to location /home/sbierer/Projects/ILABS/Analyses/F2F/results/srcpsd_groups_2021Feb/group_VOCABhigh_COND_infant_srfpsd.html\n",
      "Rendering : Table of Contents\n",
      "Condition: talk\n",
      " ... talk | LOW THETA\n",
      " ... talk | HIGH THETA\n",
      " ... talk | ALPHA\n",
      " ... talk | BETA\n",
      " ... talk | GAMMA\n",
      "Condition: ignore\n",
      " ... ignore | LOW THETA\n",
      " ... ignore | HIGH THETA\n",
      " ... ignore | ALPHA\n",
      " ... ignore | BETA\n",
      " ... ignore | GAMMA\n",
      "Condition: mean\n",
      " ... mean | LOW THETA\n",
      " ... mean | HIGH THETA\n",
      " ... mean | ALPHA\n",
      " ... mean | BETA\n",
      " ... mean | GAMMA\n",
      "Embedding : jquery.js\n",
      "Embedding : jquery-ui.min.js\n",
      "Embedding : bootstrap.min.js\n",
      "Embedding : jquery-ui.min.css\n",
      "Embedding : bootstrap.min.css\n",
      "Saving report to location /home/sbierer/Projects/ILABS/Analyses/F2F/results/srcpsd_groups_2021Feb/group_VOCABlow_COND_infant_srfpsd.html\n",
      "Rendering : Table of Contents\n",
      "Condition: talk\n",
      " ... talk | LOW THETA\n",
      " ... talk | HIGH THETA\n",
      " ... talk | ALPHA\n",
      " ... talk | BETA\n",
      " ... talk | GAMMA\n",
      "Condition: ignore\n",
      " ... ignore | LOW THETA\n",
      " ... ignore | HIGH THETA\n",
      " ... ignore | ALPHA\n",
      " ... ignore | BETA\n",
      " ... ignore | GAMMA\n",
      "Condition: mean\n",
      " ... mean | LOW THETA\n",
      " ... mean | HIGH THETA\n",
      " ... mean | ALPHA\n",
      " ... mean | BETA\n",
      " ... mean | GAMMA\n"
     ]
    }
   ],
   "source": [
    "# 24-month Vocabulary group averages #\n",
    "create_srcpsd_summary(subjects_vocab24_high, params, mode='group', model_type = 'surface',\n",
    "    pattern_in='', pattern_out='_VOCABhigh_COND' + pattern_suffix, grpplot_mode = 'condition',\n",
    "    limits_bytype = group_lims, path_out=report_path, title='24-mo Vocabulary High (source eq.)')\n",
    "\n",
    "create_srcpsd_summary(subjects_vocab24_low, params, mode='group', model_type = 'surface',\n",
    "    pattern_in='', pattern_out='_VOCABlow_COND' + pattern_suffix, grpplot_mode = 'condition',\n",
    "    limits_bytype = group_lims, path_out=report_path, title='24-mo Vocabulary Low (source eq.)')"
   ]
  },
  {
   "cell_type": "code",
   "execution_count": 48,
   "metadata": {
    "scrolled": true
   },
   "outputs": [
    {
     "name": "stdout",
     "output_type": "stream",
     "text": [
      "Embedding : jquery.js\n",
      "Embedding : jquery-ui.min.js\n",
      "Embedding : bootstrap.min.js\n",
      "Embedding : jquery-ui.min.css\n",
      "Embedding : bootstrap.min.css\n",
      "Saving report to location /home/sbierer/Projects/ILABS/Analyses/F2F/results/srcpsd_groups_2021Feb/group_SNTC24high_COND_infant_srfpsd.html\n",
      "Rendering : Table of Contents\n",
      "Condition: talk\n",
      " ... talk | LOW THETA\n",
      " ... talk | HIGH THETA\n",
      " ... talk | ALPHA\n",
      " ... talk | BETA\n",
      " ... talk | GAMMA\n",
      "Condition: ignore\n",
      " ... ignore | LOW THETA\n",
      " ... ignore | HIGH THETA\n",
      " ... ignore | ALPHA\n",
      " ... ignore | BETA\n",
      " ... ignore | GAMMA\n",
      "Condition: mean\n",
      " ... mean | LOW THETA\n",
      " ... mean | HIGH THETA\n",
      " ... mean | ALPHA\n",
      " ... mean | BETA\n",
      " ... mean | GAMMA\n",
      "Embedding : jquery.js\n",
      "Embedding : jquery-ui.min.js\n",
      "Embedding : bootstrap.min.js\n",
      "Embedding : jquery-ui.min.css\n",
      "Embedding : bootstrap.min.css\n",
      "Saving report to location /home/sbierer/Projects/ILABS/Analyses/F2F/results/srcpsd_groups_2021Feb/group_SNTC24low_COND_infant_srfpsd.html\n",
      "Rendering : Table of Contents\n",
      "Condition: talk\n",
      " ... talk | LOW THETA\n",
      " ... talk | HIGH THETA\n",
      " ... talk | ALPHA\n",
      " ... talk | BETA\n",
      " ... talk | GAMMA\n",
      "Condition: ignore\n",
      " ... ignore | LOW THETA\n",
      " ... ignore | HIGH THETA\n",
      " ... ignore | ALPHA\n",
      " ... ignore | BETA\n",
      " ... ignore | GAMMA\n",
      "Condition: mean\n",
      " ... mean | LOW THETA\n",
      " ... mean | HIGH THETA\n",
      " ... mean | ALPHA\n",
      " ... mean | BETA\n",
      " ... mean | GAMMA\n"
     ]
    }
   ],
   "source": [
    "# 24-month Sentences group averages #\n",
    "create_srcpsd_summary(subjects_sntc24_high, params, mode='group', model_type = 'surface',\n",
    "    pattern_in='', pattern_out='_SNTC24high_COND' + pattern_suffix, grpplot_mode = 'condition',\n",
    "    limits_bytype = group_lims, path_out=report_path, title='24-mo Sentences High (source eq.)')\n",
    "\n",
    "create_srcpsd_summary(subjects_sntc24_low, params, mode='group', model_type = 'surface',\n",
    "    pattern_in='', pattern_out='_SNTC24low_COND' + pattern_suffix, grpplot_mode = 'condition',\n",
    "    limits_bytype = group_lims, path_out=report_path, title='24-mo Sentences Low (source eq.)')"
   ]
  },
  {
   "cell_type": "code",
   "execution_count": 49,
   "metadata": {
    "scrolled": true
   },
   "outputs": [
    {
     "name": "stdout",
     "output_type": "stream",
     "text": [
      "Embedding : jquery.js\n",
      "Embedding : jquery-ui.min.js\n",
      "Embedding : bootstrap.min.js\n",
      "Embedding : jquery-ui.min.css\n",
      "Embedding : bootstrap.min.css\n",
      "Saving report to location /home/sbierer/Projects/ILABS/Analyses/F2F/results/srcpsd_groups_2021Feb/group_SNTC30high_COND_infant_srfpsd.html\n",
      "Rendering : Table of Contents\n",
      "Condition: talk\n",
      " ... talk | LOW THETA\n",
      " ... talk | HIGH THETA\n",
      " ... talk | ALPHA\n",
      " ... talk | BETA\n",
      " ... talk | GAMMA\n",
      "Condition: ignore\n",
      " ... ignore | LOW THETA\n",
      " ... ignore | HIGH THETA\n",
      " ... ignore | ALPHA\n",
      " ... ignore | BETA\n",
      " ... ignore | GAMMA\n",
      "Condition: mean\n",
      " ... mean | LOW THETA\n",
      " ... mean | HIGH THETA\n",
      " ... mean | ALPHA\n",
      " ... mean | BETA\n",
      " ... mean | GAMMA\n",
      "Embedding : jquery.js\n",
      "Embedding : jquery-ui.min.js\n",
      "Embedding : bootstrap.min.js\n",
      "Embedding : jquery-ui.min.css\n",
      "Embedding : bootstrap.min.css\n",
      "Saving report to location /home/sbierer/Projects/ILABS/Analyses/F2F/results/srcpsd_groups_2021Feb/group_SNTC30low_COND_infant_srfpsd.html\n",
      "Rendering : Table of Contents\n",
      "Condition: talk\n",
      " ... talk | LOW THETA\n",
      " ... talk | HIGH THETA\n",
      " ... talk | ALPHA\n",
      " ... talk | BETA\n",
      " ... talk | GAMMA\n",
      "Condition: ignore\n",
      " ... ignore | LOW THETA\n",
      " ... ignore | HIGH THETA\n",
      " ... ignore | ALPHA\n",
      " ... ignore | BETA\n",
      " ... ignore | GAMMA\n",
      "Condition: mean\n",
      " ... mean | LOW THETA\n",
      " ... mean | HIGH THETA\n",
      " ... mean | ALPHA\n",
      " ... mean | BETA\n",
      " ... mean | GAMMA\n"
     ]
    }
   ],
   "source": [
    "# 30-month Sentences group averages #\n",
    "create_srcpsd_summary(subjects_sntc30_high, params, mode='group', model_type = 'surface',\n",
    "    pattern_in='', pattern_out='_SNTC30high_COND' + pattern_suffix, grpplot_mode = 'condition',\n",
    "    limits_bytype = group_lims, path_out=report_path, title='30-mo Sentences High (source eq.)')\n",
    "\n",
    "create_srcpsd_summary(subjects_sntc30_low, params, mode='group', model_type = 'surface',\n",
    "    pattern_in='', pattern_out='_SNTC30low_COND' + pattern_suffix, grpplot_mode = 'condition',\n",
    "    limits_bytype = group_lims, path_out=report_path, title='30-mo Sentences Low (source eq.)')"
   ]
  },
  {
   "cell_type": "markdown",
   "metadata": {},
   "source": [
    "## Extract label PSDs for ROI analysis - surface source space\n",
    "Folder targets:\n",
    "- srcpsd_groups_2021Jan\n",
    "- srcpsd_2021Apr\n",
    "- srcpsd_groups_2021Dec\n",
    "- srcpsd_groups_2022Jan  (added transversetemporal, bankssts)"
   ]
  },
  {
   "cell_type": "code",
   "execution_count": 9,
   "metadata": {},
   "outputs": [],
   "source": [
    "# Pick flavor of PSD STCs to load #\n",
    "stc_pattern = ''   # without a \"_\""
   ]
  },
  {
   "cell_type": "code",
   "execution_count": 10,
   "metadata": {},
   "outputs": [
    {
     "name": "stdout",
     "output_type": "stream",
     "text": [
      "The bands to be processed are:\n",
      "{'theta': (4.0, 8.0), 'alpha': (8.0, 12.0), 'beta': (12.0, 28.0), 'gamma': (28.0, 60.0)}\n",
      "\n",
      "The PSD subdirectory is: psd3_fif\n"
     ]
    }
   ],
   "source": [
    "# Check AGAIN that the loaded analysis script agrees with the BANDS_TYPE setting #\n",
    "bands_def = f2f_analysis_source.bands_def\n",
    "\n",
    "assert BANDS_TYPE == f2f_analysis_source.bands_type\n",
    "assert n_bands == f2f_analysis_source.n_bands\n",
    "assert all([name in bands_def for name in band_names])\n",
    "\n",
    "print('The bands to be processed are:')\n",
    "print(f2f_analysis_source.bands_def)\n",
    "print('\\nThe PSD subdirectory is:', params.psd_dir)"
   ]
  },
  {
   "cell_type": "code",
   "execution_count": 11,
   "metadata": {},
   "outputs": [],
   "source": [
    "# Define the labels and label set #\n",
    "use_parc = 'aparc'\n",
    "source_subject = '14mo_surr'\n",
    "\n",
    "labels_of_interest = ['posteriorcingulate', 'medialorbitofrontal', 'lateralorbitofrontal',\n",
    "                      'insula', 'parsopercularis', 'parsorbitalis', 'parstriangularis',\n",
    "                      'middletemporal', 'inferiortemporal', 'superiortemporal', 'temporalpole',\n",
    "                      'inferiorparietal', 'superiorparietal', 'rostralanteriorcingulate',\n",
    "                      'transversetemporal', 'bankssts', 'caudalanteriorcingulate']\n",
    "\n",
    "# Define csv path #\n",
    "roi_path = os.path.expanduser('~/Projects/ILABS/Analyses/F2F/results/srcpsd_groups_2022Jan')"
   ]
  },
  {
   "cell_type": "code",
   "execution_count": 12,
   "metadata": {
    "scrolled": true
   },
   "outputs": [
    {
     "name": "stdout",
     "output_type": "stream",
     "text": [
      "True\n",
      "Reading labels from parcellation...\n",
      "   read 34 labels from /home/sbierer/Data/MEG/anatomy/14mo_surr/label/lh.aparc.annot\n",
      "   read 34 labels from /home/sbierer/Data/MEG/anatomy/14mo_surr/label/rh.aparc.annot\n",
      "bankssts-lh\n",
      "bankssts-rh\n",
      "caudalanteriorcingulate-lh\n",
      "caudalanteriorcingulate-rh\n",
      "caudalmiddlefrontal-lh\n",
      "caudalmiddlefrontal-rh\n",
      "cuneus-lh\n",
      "cuneus-rh\n",
      "entorhinal-lh\n",
      "entorhinal-rh\n",
      "frontalpole-lh\n",
      "frontalpole-rh\n",
      "fusiform-lh\n",
      "fusiform-rh\n",
      "inferiorparietal-lh\n",
      "inferiorparietal-rh\n",
      "inferiortemporal-lh\n",
      "inferiortemporal-rh\n",
      "insula-lh\n",
      "insula-rh\n",
      "isthmuscingulate-lh\n",
      "isthmuscingulate-rh\n",
      "lateraloccipital-lh\n",
      "lateraloccipital-rh\n",
      "lateralorbitofrontal-lh\n",
      "lateralorbitofrontal-rh\n",
      "lingual-lh\n",
      "lingual-rh\n",
      "medialorbitofrontal-lh\n",
      "medialorbitofrontal-rh\n",
      "middletemporal-lh\n",
      "middletemporal-rh\n",
      "paracentral-lh\n",
      "paracentral-rh\n",
      "parahippocampal-lh\n",
      "parahippocampal-rh\n",
      "parsopercularis-lh\n",
      "parsopercularis-rh\n",
      "parsorbitalis-lh\n",
      "parsorbitalis-rh\n",
      "parstriangularis-lh\n",
      "parstriangularis-rh\n",
      "pericalcarine-lh\n",
      "pericalcarine-rh\n",
      "postcentral-lh\n",
      "postcentral-rh\n",
      "posteriorcingulate-lh\n",
      "posteriorcingulate-rh\n",
      "precentral-lh\n",
      "precentral-rh\n",
      "precuneus-lh\n",
      "precuneus-rh\n",
      "rostralanteriorcingulate-lh\n",
      "rostralanteriorcingulate-rh\n",
      "rostralmiddlefrontal-lh\n",
      "rostralmiddlefrontal-rh\n",
      "superiorfrontal-lh\n",
      "superiorfrontal-rh\n",
      "superiorparietal-lh\n",
      "superiorparietal-rh\n",
      "superiortemporal-lh\n",
      "superiortemporal-rh\n",
      "supramarginal-lh\n",
      "supramarginal-rh\n",
      "temporalpole-lh\n",
      "temporalpole-rh\n",
      "transversetemporal-lh\n",
      "transversetemporal-rh\n"
     ]
    }
   ],
   "source": [
    "# Read in the label set #\n",
    "parc_exists = os.path.isfile(os.path.join(params.subjects_dir, source_subject, 'label', f'lh.{use_parc}.annot'))\n",
    "print(parc_exists)  # check for the existence of the chosen Freesurfer parcellation set\n",
    "\n",
    "labels = mne.read_labels_from_annot(source_subject, use_parc, subjects_dir=params.subjects_dir)\n",
    "for ll in labels:\n",
    "    print(ll.name)"
   ]
  },
  {
   "cell_type": "code",
   "execution_count": 13,
   "metadata": {},
   "outputs": [
    {
     "name": "stdout",
     "output_type": "stream",
     "text": [
      "    Reading a source space...\n",
      "    [done]\n",
      "    Reading a source space...\n",
      "    [done]\n",
      "    2 source spaces read\n",
      "(99704, 3) (100758, 3)\n"
     ]
    }
   ],
   "source": [
    "# Define plotting SURFACE source space (14-month surrogate) #\n",
    "src_name = os.path.join(params.subjects_dir, '14mo_surr', 'bem', '14mo_surr-oct-6-src.fif')\n",
    "src = mne.read_source_spaces(src_name)\n",
    "\n",
    "print(src[0]['rr'].shape, src[1]['rr'].shape)  # same shapes as for any subject's inv['src']"
   ]
  },
  {
   "cell_type": "code",
   "execution_count": 14,
   "metadata": {},
   "outputs": [],
   "source": [
    "# Build up the column names and define TWO empty pandas DataFrame for each band #\n",
    "# One for regular dB units, the other for expressing as %.\n",
    "columns = []\n",
    "for label in labels_of_interest:\n",
    "    for pattern in ('-lh-talk', '-lh-ignore','-rh-talk', '-rh-ignore'):\n",
    "        columns.append(label + pattern)\n",
    "\n",
    "Table_list, TableLinear_list = [], []\n",
    "for bb in range(n_bands):\n",
    "    df = pd.DataFrame(data=None, columns=columns, index = use_subjects)\n",
    "    Table_list.append(df)\n",
    "    TableLinear_list.append(df.copy())"
   ]
  },
  {
   "cell_type": "code",
   "execution_count": 15,
   "metadata": {},
   "outputs": [
    {
     "name": "stdout",
     "output_type": "stream",
     "text": [
      "Processing subject f2f_009...   \n",
      "Processing subject f2f_010...   \n",
      "Processing subject f2f_012...   \n",
      "Processing subject f2f_013...   \n",
      "Processing subject f2f_018...   \n",
      "Processing subject f2f_021...   \n",
      "Processing subject f2f_025...   \n",
      "Processing subject f2f_027...   \n",
      "Processing subject f2f_028...   \n",
      "Processing subject f2f_029...   \n",
      "Processing subject f2f_030...   \n",
      "Processing subject f2f_036...   \n",
      "Processing subject f2f_037...   \n",
      "Processing subject f2f_103...   \n",
      "Processing subject f2f_104...   \n",
      "Processing subject f2f_108...   \n",
      "Processing subject f2f_111...   \n",
      "Processing subject f2f_114...   \n",
      "Processing subject f2f_116...   \n",
      "Processing subject f2f_117...   \n",
      "Processing subject f2f_119...   \n"
     ]
    }
   ],
   "source": [
    "# Execute the loop to fill the data frames #\n",
    "labels_list = [ll.name for ll in labels]\n",
    "\n",
    "for subject in use_subjects:\n",
    "    print(f'Processing subject {subject}...   ')\n",
    "    \n",
    "    stc_file = os.path.join(params.work_dir, subject, params.psd_dir,\n",
    "                            subject + stc_pattern + '_talk_psd_morphed-lh.stc')\n",
    "    stc_talk = mne.read_source_estimate(stc_file)\n",
    "    stc_file = os.path.join(params.work_dir, subject, params.psd_dir,\n",
    "                            subject + stc_pattern + '_ignore_psd_morphed-lh.stc')\n",
    "    stc_ignore = mne.read_source_estimate(stc_file)\n",
    "\n",
    "    for label in labels_of_interest:\n",
    "        for hemi in ('-lh', '-rh'):\n",
    "            entry = label + hemi\n",
    "            idx = labels_list.index(entry)\n",
    "            \n",
    "            label_talk = mne.extract_label_time_course(stc_talk, labels[idx], src,\n",
    "                                                       mode='mean', verbose=False)\n",
    "            label_ignore = mne.extract_label_time_course(stc_ignore, labels[idx], src,\n",
    "                                                         mode='mean', verbose=False)\n",
    "            for bb in range(n_bands):\n",
    "                col = label + hemi + '-talk'\n",
    "                Table_list[bb].loc[subject, col] = label_talk[0, bb]\n",
    "                TableLinear_list[bb].loc[subject, col] = 10**(label_talk[0, bb]/10 + 2)\n",
    "                \n",
    "                col = label + hemi + '-ignore'\n",
    "                Table_list[bb].loc[subject, col] = label_ignore[0, bb]\n",
    "                TableLinear_list[bb].loc[subject, col] = 10**(label_ignore[0, bb]/10 + 2)"
   ]
  },
  {
   "cell_type": "code",
   "execution_count": 16,
   "metadata": {},
   "outputs": [
    {
     "data": {
      "text/html": [
       "<div>\n",
       "<style scoped>\n",
       "    .dataframe tbody tr th:only-of-type {\n",
       "        vertical-align: middle;\n",
       "    }\n",
       "\n",
       "    .dataframe tbody tr th {\n",
       "        vertical-align: top;\n",
       "    }\n",
       "\n",
       "    .dataframe thead th {\n",
       "        text-align: right;\n",
       "    }\n",
       "</style>\n",
       "<table border=\"1\" class=\"dataframe\">\n",
       "  <thead>\n",
       "    <tr style=\"text-align: right;\">\n",
       "      <th></th>\n",
       "      <th>posteriorcingulate-lh-talk</th>\n",
       "      <th>posteriorcingulate-lh-ignore</th>\n",
       "      <th>posteriorcingulate-rh-talk</th>\n",
       "      <th>posteriorcingulate-rh-ignore</th>\n",
       "      <th>medialorbitofrontal-lh-talk</th>\n",
       "      <th>medialorbitofrontal-lh-ignore</th>\n",
       "      <th>medialorbitofrontal-rh-talk</th>\n",
       "      <th>medialorbitofrontal-rh-ignore</th>\n",
       "      <th>lateralorbitofrontal-lh-talk</th>\n",
       "      <th>lateralorbitofrontal-lh-ignore</th>\n",
       "      <th>...</th>\n",
       "      <th>transversetemporal-rh-talk</th>\n",
       "      <th>transversetemporal-rh-ignore</th>\n",
       "      <th>bankssts-lh-talk</th>\n",
       "      <th>bankssts-lh-ignore</th>\n",
       "      <th>bankssts-rh-talk</th>\n",
       "      <th>bankssts-rh-ignore</th>\n",
       "      <th>caudalanteriorcingulate-lh-talk</th>\n",
       "      <th>caudalanteriorcingulate-lh-ignore</th>\n",
       "      <th>caudalanteriorcingulate-rh-talk</th>\n",
       "      <th>caudalanteriorcingulate-rh-ignore</th>\n",
       "    </tr>\n",
       "  </thead>\n",
       "  <tbody>\n",
       "    <tr>\n",
       "      <th>f2f_009</th>\n",
       "      <td>-2.57166</td>\n",
       "      <td>-3.0623</td>\n",
       "      <td>-2.62738</td>\n",
       "      <td>-2.98994</td>\n",
       "      <td>-3.14098</td>\n",
       "      <td>-3.69546</td>\n",
       "      <td>-2.87354</td>\n",
       "      <td>-3.55727</td>\n",
       "      <td>-3.44622</td>\n",
       "      <td>-3.94553</td>\n",
       "      <td>...</td>\n",
       "      <td>-2.34655</td>\n",
       "      <td>-2.98715</td>\n",
       "      <td>-3.05303</td>\n",
       "      <td>-4.05274</td>\n",
       "      <td>-2.42217</td>\n",
       "      <td>-3.26992</td>\n",
       "      <td>-2.70847</td>\n",
       "      <td>-3.59617</td>\n",
       "      <td>-2.69259</td>\n",
       "      <td>-3.32685</td>\n",
       "    </tr>\n",
       "    <tr>\n",
       "      <th>f2f_010</th>\n",
       "      <td>-5.09009</td>\n",
       "      <td>-3.86754</td>\n",
       "      <td>-4.86828</td>\n",
       "      <td>-4.18862</td>\n",
       "      <td>-5.19564</td>\n",
       "      <td>-4.48024</td>\n",
       "      <td>-3.96483</td>\n",
       "      <td>-3.74745</td>\n",
       "      <td>-5.39708</td>\n",
       "      <td>-4.75751</td>\n",
       "      <td>...</td>\n",
       "      <td>-4.02023</td>\n",
       "      <td>-3.24355</td>\n",
       "      <td>-6.43874</td>\n",
       "      <td>-6.22188</td>\n",
       "      <td>-4.53155</td>\n",
       "      <td>-3.70642</td>\n",
       "      <td>-6.12943</td>\n",
       "      <td>-4.56991</td>\n",
       "      <td>-4.99484</td>\n",
       "      <td>-4.51285</td>\n",
       "    </tr>\n",
       "    <tr>\n",
       "      <th>f2f_012</th>\n",
       "      <td>-2.21368</td>\n",
       "      <td>-2.43412</td>\n",
       "      <td>-2.42355</td>\n",
       "      <td>-2.24301</td>\n",
       "      <td>-2.64914</td>\n",
       "      <td>-3.25262</td>\n",
       "      <td>-2.55975</td>\n",
       "      <td>-3.1467</td>\n",
       "      <td>-3.12534</td>\n",
       "      <td>-3.36432</td>\n",
       "      <td>...</td>\n",
       "      <td>-2.47315</td>\n",
       "      <td>-2.8599</td>\n",
       "      <td>-3.56023</td>\n",
       "      <td>-3.65951</td>\n",
       "      <td>-2.87947</td>\n",
       "      <td>-2.40734</td>\n",
       "      <td>-2.49662</td>\n",
       "      <td>-2.81532</td>\n",
       "      <td>-2.39683</td>\n",
       "      <td>-2.33965</td>\n",
       "    </tr>\n",
       "    <tr>\n",
       "      <th>f2f_013</th>\n",
       "      <td>-2.88513</td>\n",
       "      <td>-3.48185</td>\n",
       "      <td>-2.84469</td>\n",
       "      <td>-4.35624</td>\n",
       "      <td>-3.4079</td>\n",
       "      <td>-2.85871</td>\n",
       "      <td>-3.11194</td>\n",
       "      <td>-3.23208</td>\n",
       "      <td>-3.70753</td>\n",
       "      <td>-2.48065</td>\n",
       "      <td>...</td>\n",
       "      <td>-2.91601</td>\n",
       "      <td>-5.37015</td>\n",
       "      <td>-4.74592</td>\n",
       "      <td>-3.02109</td>\n",
       "      <td>-3.28617</td>\n",
       "      <td>-6.42443</td>\n",
       "      <td>-3.42978</td>\n",
       "      <td>-3.22754</td>\n",
       "      <td>-3.24397</td>\n",
       "      <td>-3.62332</td>\n",
       "    </tr>\n",
       "    <tr>\n",
       "      <th>f2f_018</th>\n",
       "      <td>-2.75142</td>\n",
       "      <td>-4.19372</td>\n",
       "      <td>-2.0984</td>\n",
       "      <td>-4.5539</td>\n",
       "      <td>-1.96046</td>\n",
       "      <td>-3.88683</td>\n",
       "      <td>-2.11035</td>\n",
       "      <td>-4.72913</td>\n",
       "      <td>-1.99729</td>\n",
       "      <td>-4.22099</td>\n",
       "      <td>...</td>\n",
       "      <td>-1.72264</td>\n",
       "      <td>-5.5452</td>\n",
       "      <td>-4.03123</td>\n",
       "      <td>-4.71137</td>\n",
       "      <td>-2.07065</td>\n",
       "      <td>-6.001</td>\n",
       "      <td>-2.29325</td>\n",
       "      <td>-5.1861</td>\n",
       "      <td>-2.05494</td>\n",
       "      <td>-4.64509</td>\n",
       "    </tr>\n",
       "  </tbody>\n",
       "</table>\n",
       "<p>5 rows × 68 columns</p>\n",
       "</div>"
      ],
      "text/plain": [
       "        posteriorcingulate-lh-talk posteriorcingulate-lh-ignore  \\\n",
       "f2f_009                   -2.57166                      -3.0623   \n",
       "f2f_010                   -5.09009                     -3.86754   \n",
       "f2f_012                   -2.21368                     -2.43412   \n",
       "f2f_013                   -2.88513                     -3.48185   \n",
       "f2f_018                   -2.75142                     -4.19372   \n",
       "\n",
       "        posteriorcingulate-rh-talk posteriorcingulate-rh-ignore  \\\n",
       "f2f_009                   -2.62738                     -2.98994   \n",
       "f2f_010                   -4.86828                     -4.18862   \n",
       "f2f_012                   -2.42355                     -2.24301   \n",
       "f2f_013                   -2.84469                     -4.35624   \n",
       "f2f_018                    -2.0984                      -4.5539   \n",
       "\n",
       "        medialorbitofrontal-lh-talk medialorbitofrontal-lh-ignore  \\\n",
       "f2f_009                    -3.14098                      -3.69546   \n",
       "f2f_010                    -5.19564                      -4.48024   \n",
       "f2f_012                    -2.64914                      -3.25262   \n",
       "f2f_013                     -3.4079                      -2.85871   \n",
       "f2f_018                    -1.96046                      -3.88683   \n",
       "\n",
       "        medialorbitofrontal-rh-talk medialorbitofrontal-rh-ignore  \\\n",
       "f2f_009                    -2.87354                      -3.55727   \n",
       "f2f_010                    -3.96483                      -3.74745   \n",
       "f2f_012                    -2.55975                       -3.1467   \n",
       "f2f_013                    -3.11194                      -3.23208   \n",
       "f2f_018                    -2.11035                      -4.72913   \n",
       "\n",
       "        lateralorbitofrontal-lh-talk lateralorbitofrontal-lh-ignore  ...  \\\n",
       "f2f_009                     -3.44622                       -3.94553  ...   \n",
       "f2f_010                     -5.39708                       -4.75751  ...   \n",
       "f2f_012                     -3.12534                       -3.36432  ...   \n",
       "f2f_013                     -3.70753                       -2.48065  ...   \n",
       "f2f_018                     -1.99729                       -4.22099  ...   \n",
       "\n",
       "        transversetemporal-rh-talk transversetemporal-rh-ignore  \\\n",
       "f2f_009                   -2.34655                     -2.98715   \n",
       "f2f_010                   -4.02023                     -3.24355   \n",
       "f2f_012                   -2.47315                      -2.8599   \n",
       "f2f_013                   -2.91601                     -5.37015   \n",
       "f2f_018                   -1.72264                      -5.5452   \n",
       "\n",
       "        bankssts-lh-talk bankssts-lh-ignore bankssts-rh-talk  \\\n",
       "f2f_009         -3.05303           -4.05274         -2.42217   \n",
       "f2f_010         -6.43874           -6.22188         -4.53155   \n",
       "f2f_012         -3.56023           -3.65951         -2.87947   \n",
       "f2f_013         -4.74592           -3.02109         -3.28617   \n",
       "f2f_018         -4.03123           -4.71137         -2.07065   \n",
       "\n",
       "        bankssts-rh-ignore caudalanteriorcingulate-lh-talk  \\\n",
       "f2f_009           -3.26992                        -2.70847   \n",
       "f2f_010           -3.70642                        -6.12943   \n",
       "f2f_012           -2.40734                        -2.49662   \n",
       "f2f_013           -6.42443                        -3.42978   \n",
       "f2f_018             -6.001                        -2.29325   \n",
       "\n",
       "        caudalanteriorcingulate-lh-ignore caudalanteriorcingulate-rh-talk  \\\n",
       "f2f_009                          -3.59617                        -2.69259   \n",
       "f2f_010                          -4.56991                        -4.99484   \n",
       "f2f_012                          -2.81532                        -2.39683   \n",
       "f2f_013                          -3.22754                        -3.24397   \n",
       "f2f_018                           -5.1861                        -2.05494   \n",
       "\n",
       "        caudalanteriorcingulate-rh-ignore  \n",
       "f2f_009                          -3.32685  \n",
       "f2f_010                          -4.51285  \n",
       "f2f_012                          -2.33965  \n",
       "f2f_013                          -3.62332  \n",
       "f2f_018                          -4.64509  \n",
       "\n",
       "[5 rows x 68 columns]"
      ]
     },
     "execution_count": 16,
     "metadata": {},
     "output_type": "execute_result"
    }
   ],
   "source": [
    "# Look at one of the dB tables #\n",
    "Table_list[0].head()"
   ]
  },
  {
   "cell_type": "code",
   "execution_count": 17,
   "metadata": {},
   "outputs": [
    {
     "data": {
      "text/html": [
       "<div>\n",
       "<style scoped>\n",
       "    .dataframe tbody tr th:only-of-type {\n",
       "        vertical-align: middle;\n",
       "    }\n",
       "\n",
       "    .dataframe tbody tr th {\n",
       "        vertical-align: top;\n",
       "    }\n",
       "\n",
       "    .dataframe thead th {\n",
       "        text-align: right;\n",
       "    }\n",
       "</style>\n",
       "<table border=\"1\" class=\"dataframe\">\n",
       "  <thead>\n",
       "    <tr style=\"text-align: right;\">\n",
       "      <th></th>\n",
       "      <th>posteriorcingulate-lh-talk</th>\n",
       "      <th>posteriorcingulate-lh-ignore</th>\n",
       "      <th>posteriorcingulate-rh-talk</th>\n",
       "      <th>posteriorcingulate-rh-ignore</th>\n",
       "      <th>medialorbitofrontal-lh-talk</th>\n",
       "      <th>medialorbitofrontal-lh-ignore</th>\n",
       "      <th>medialorbitofrontal-rh-talk</th>\n",
       "      <th>medialorbitofrontal-rh-ignore</th>\n",
       "      <th>lateralorbitofrontal-lh-talk</th>\n",
       "      <th>lateralorbitofrontal-lh-ignore</th>\n",
       "      <th>...</th>\n",
       "      <th>transversetemporal-rh-talk</th>\n",
       "      <th>transversetemporal-rh-ignore</th>\n",
       "      <th>bankssts-lh-talk</th>\n",
       "      <th>bankssts-lh-ignore</th>\n",
       "      <th>bankssts-rh-talk</th>\n",
       "      <th>bankssts-rh-ignore</th>\n",
       "      <th>caudalanteriorcingulate-lh-talk</th>\n",
       "      <th>caudalanteriorcingulate-lh-ignore</th>\n",
       "      <th>caudalanteriorcingulate-rh-talk</th>\n",
       "      <th>caudalanteriorcingulate-rh-ignore</th>\n",
       "    </tr>\n",
       "  </thead>\n",
       "  <tbody>\n",
       "    <tr>\n",
       "      <th>f2f_009</th>\n",
       "      <td>55.3139</td>\n",
       "      <td>49.4048</td>\n",
       "      <td>54.6087</td>\n",
       "      <td>50.235</td>\n",
       "      <td>48.5179</td>\n",
       "      <td>42.7026</td>\n",
       "      <td>51.5996</td>\n",
       "      <td>44.0832</td>\n",
       "      <td>45.2249</td>\n",
       "      <td>40.3132</td>\n",
       "      <td>...</td>\n",
       "      <td>58.2566</td>\n",
       "      <td>50.2673</td>\n",
       "      <td>49.5104</td>\n",
       "      <td>39.3302</td>\n",
       "      <td>57.251</td>\n",
       "      <td>47.0986</td>\n",
       "      <td>53.5986</td>\n",
       "      <td>43.6901</td>\n",
       "      <td>53.7949</td>\n",
       "      <td>46.4853</td>\n",
       "    </tr>\n",
       "    <tr>\n",
       "      <th>f2f_010</th>\n",
       "      <td>30.9736</td>\n",
       "      <td>41.0437</td>\n",
       "      <td>32.5965</td>\n",
       "      <td>38.1187</td>\n",
       "      <td>30.2298</td>\n",
       "      <td>35.6431</td>\n",
       "      <td>40.1344</td>\n",
       "      <td>42.1944</td>\n",
       "      <td>28.8597</td>\n",
       "      <td>33.4387</td>\n",
       "      <td>...</td>\n",
       "      <td>39.6257</td>\n",
       "      <td>47.3855</td>\n",
       "      <td>22.7053</td>\n",
       "      <td>23.8678</td>\n",
       "      <td>35.2245</td>\n",
       "      <td>42.595</td>\n",
       "      <td>24.3813</td>\n",
       "      <td>34.9147</td>\n",
       "      <td>31.6603</td>\n",
       "      <td>35.3765</td>\n",
       "    </tr>\n",
       "    <tr>\n",
       "      <th>f2f_012</th>\n",
       "      <td>60.0664</td>\n",
       "      <td>57.0936</td>\n",
       "      <td>57.2328</td>\n",
       "      <td>59.6621</td>\n",
       "      <td>54.3358</td>\n",
       "      <td>47.2866</td>\n",
       "      <td>55.4658</td>\n",
       "      <td>48.4541</td>\n",
       "      <td>48.6929</td>\n",
       "      <td>46.0859</td>\n",
       "      <td>...</td>\n",
       "      <td>56.5829</td>\n",
       "      <td>51.7618</td>\n",
       "      <td>44.0532</td>\n",
       "      <td>43.0575</td>\n",
       "      <td>51.5292</td>\n",
       "      <td>57.4468</td>\n",
       "      <td>56.2779</td>\n",
       "      <td>52.2959</td>\n",
       "      <td>57.586</td>\n",
       "      <td>58.3492</td>\n",
       "    </tr>\n",
       "    <tr>\n",
       "      <th>f2f_013</th>\n",
       "      <td>51.4621</td>\n",
       "      <td>44.8554</td>\n",
       "      <td>51.9435</td>\n",
       "      <td>36.6755</td>\n",
       "      <td>45.6257</td>\n",
       "      <td>51.776</td>\n",
       "      <td>48.8434</td>\n",
       "      <td>47.5108</td>\n",
       "      <td>42.5841</td>\n",
       "      <td>56.4852</td>\n",
       "      <td>...</td>\n",
       "      <td>51.0974</td>\n",
       "      <td>29.0392</td>\n",
       "      <td>33.528</td>\n",
       "      <td>49.8759</td>\n",
       "      <td>46.9227</td>\n",
       "      <td>22.7801</td>\n",
       "      <td>45.3965</td>\n",
       "      <td>47.5605</td>\n",
       "      <td>47.3808</td>\n",
       "      <td>43.4178</td>\n",
       "    </tr>\n",
       "    <tr>\n",
       "      <th>f2f_018</th>\n",
       "      <td>53.0711</td>\n",
       "      <td>38.0739</td>\n",
       "      <td>61.6822</td>\n",
       "      <td>35.0437</td>\n",
       "      <td>63.6728</td>\n",
       "      <td>40.8618</td>\n",
       "      <td>61.5127</td>\n",
       "      <td>33.6579</td>\n",
       "      <td>63.1351</td>\n",
       "      <td>37.8356</td>\n",
       "      <td>...</td>\n",
       "      <td>67.2568</td>\n",
       "      <td>27.892</td>\n",
       "      <td>39.5254</td>\n",
       "      <td>33.7959</td>\n",
       "      <td>62.0776</td>\n",
       "      <td>25.1131</td>\n",
       "      <td>58.9759</td>\n",
       "      <td>30.2963</td>\n",
       "      <td>62.3026</td>\n",
       "      <td>34.3155</td>\n",
       "    </tr>\n",
       "  </tbody>\n",
       "</table>\n",
       "<p>5 rows × 68 columns</p>\n",
       "</div>"
      ],
      "text/plain": [
       "        posteriorcingulate-lh-talk posteriorcingulate-lh-ignore  \\\n",
       "f2f_009                    55.3139                      49.4048   \n",
       "f2f_010                    30.9736                      41.0437   \n",
       "f2f_012                    60.0664                      57.0936   \n",
       "f2f_013                    51.4621                      44.8554   \n",
       "f2f_018                    53.0711                      38.0739   \n",
       "\n",
       "        posteriorcingulate-rh-talk posteriorcingulate-rh-ignore  \\\n",
       "f2f_009                    54.6087                       50.235   \n",
       "f2f_010                    32.5965                      38.1187   \n",
       "f2f_012                    57.2328                      59.6621   \n",
       "f2f_013                    51.9435                      36.6755   \n",
       "f2f_018                    61.6822                      35.0437   \n",
       "\n",
       "        medialorbitofrontal-lh-talk medialorbitofrontal-lh-ignore  \\\n",
       "f2f_009                     48.5179                       42.7026   \n",
       "f2f_010                     30.2298                       35.6431   \n",
       "f2f_012                     54.3358                       47.2866   \n",
       "f2f_013                     45.6257                        51.776   \n",
       "f2f_018                     63.6728                       40.8618   \n",
       "\n",
       "        medialorbitofrontal-rh-talk medialorbitofrontal-rh-ignore  \\\n",
       "f2f_009                     51.5996                       44.0832   \n",
       "f2f_010                     40.1344                       42.1944   \n",
       "f2f_012                     55.4658                       48.4541   \n",
       "f2f_013                     48.8434                       47.5108   \n",
       "f2f_018                     61.5127                       33.6579   \n",
       "\n",
       "        lateralorbitofrontal-lh-talk lateralorbitofrontal-lh-ignore  ...  \\\n",
       "f2f_009                      45.2249                        40.3132  ...   \n",
       "f2f_010                      28.8597                        33.4387  ...   \n",
       "f2f_012                      48.6929                        46.0859  ...   \n",
       "f2f_013                      42.5841                        56.4852  ...   \n",
       "f2f_018                      63.1351                        37.8356  ...   \n",
       "\n",
       "        transversetemporal-rh-talk transversetemporal-rh-ignore  \\\n",
       "f2f_009                    58.2566                      50.2673   \n",
       "f2f_010                    39.6257                      47.3855   \n",
       "f2f_012                    56.5829                      51.7618   \n",
       "f2f_013                    51.0974                      29.0392   \n",
       "f2f_018                    67.2568                       27.892   \n",
       "\n",
       "        bankssts-lh-talk bankssts-lh-ignore bankssts-rh-talk  \\\n",
       "f2f_009          49.5104            39.3302           57.251   \n",
       "f2f_010          22.7053            23.8678          35.2245   \n",
       "f2f_012          44.0532            43.0575          51.5292   \n",
       "f2f_013           33.528            49.8759          46.9227   \n",
       "f2f_018          39.5254            33.7959          62.0776   \n",
       "\n",
       "        bankssts-rh-ignore caudalanteriorcingulate-lh-talk  \\\n",
       "f2f_009            47.0986                         53.5986   \n",
       "f2f_010             42.595                         24.3813   \n",
       "f2f_012            57.4468                         56.2779   \n",
       "f2f_013            22.7801                         45.3965   \n",
       "f2f_018            25.1131                         58.9759   \n",
       "\n",
       "        caudalanteriorcingulate-lh-ignore caudalanteriorcingulate-rh-talk  \\\n",
       "f2f_009                           43.6901                         53.7949   \n",
       "f2f_010                           34.9147                         31.6603   \n",
       "f2f_012                           52.2959                          57.586   \n",
       "f2f_013                           47.5605                         47.3808   \n",
       "f2f_018                           30.2963                         62.3026   \n",
       "\n",
       "        caudalanteriorcingulate-rh-ignore  \n",
       "f2f_009                           46.4853  \n",
       "f2f_010                           35.3765  \n",
       "f2f_012                           58.3492  \n",
       "f2f_013                           43.4178  \n",
       "f2f_018                           34.3155  \n",
       "\n",
       "[5 rows x 68 columns]"
      ]
     },
     "execution_count": 17,
     "metadata": {},
     "output_type": "execute_result"
    }
   ],
   "source": [
    "# Look at one of the linear tables #\n",
    "TableLinear_list[0].head()"
   ]
  },
  {
   "cell_type": "code",
   "execution_count": 20,
   "metadata": {},
   "outputs": [],
   "source": [
    "# Save the results as CSV files #\n",
    "prefix = 'roi_' + BANDS_TYPE.upper() + '_'\n",
    "suffix = stc_pattern + '.csv'\n",
    "\n",
    "for bb in range(n_bands):\n",
    "    band_str = band_names[bb].replace(' ','').upper()\n",
    "    file = os.path.join(roi_path, prefix + band_str + suffix)\n",
    "    Table_list[bb].to_csv(file)\n",
    "\n",
    "prefix = 'roilinear_' + BANDS_TYPE.upper() + '_'\n",
    "suffix = stc_pattern + '.csv'\n",
    "\n",
    "for bb in range(n_bands):\n",
    "    band_str = band_names[bb].replace(' ','').upper()\n",
    "    file = os.path.join(roi_path, prefix + band_str + suffix)\n",
    "    TableLinear_list[bb].to_csv(file)"
   ]
  },
  {
   "cell_type": "markdown",
   "metadata": {},
   "source": [
    "## Repeat label extraction for all the rest of the labels"
   ]
  },
  {
   "cell_type": "code",
   "execution_count": 21,
   "metadata": {},
   "outputs": [
    {
     "name": "stdout",
     "output_type": "stream",
     "text": [
      "17 remaining labels.\n"
     ]
    }
   ],
   "source": [
    "# Construct a list of the rest of the labels #\n",
    "labels_all_the_rest = []\n",
    "for label in labels:\n",
    "    if label.name[-2:] == 'rh':  # don't repeat lh and rh\n",
    "        continue\n",
    "    if label.name[:-3] not in labels_of_interest:\n",
    "        labels_all_the_rest.append(label.name[:-3])\n",
    "\n",
    "print(f'{len(labels_all_the_rest)} remaining labels.')"
   ]
  },
  {
   "cell_type": "code",
   "execution_count": 22,
   "metadata": {},
   "outputs": [],
   "source": [
    "# Define another empty pandas DataFrame for each band #\n",
    "columns = []\n",
    "for label in labels_all_the_rest:\n",
    "    for pattern in ('-lh-talk', '-lh-ignore','-rh-talk', '-rh-ignore'):\n",
    "        columns.append(label + pattern)\n",
    "\n",
    "Table_list = []\n",
    "for bb in range(n_bands):\n",
    "    df = pd.DataFrame(data=None, columns=columns, index = all_subjects)\n",
    "    Table_list.append(df)"
   ]
  },
  {
   "cell_type": "code",
   "execution_count": 23,
   "metadata": {},
   "outputs": [
    {
     "name": "stdout",
     "output_type": "stream",
     "text": [
      "Processing subject f2f_009...   \n",
      "Processing subject f2f_010...   \n",
      "Processing subject f2f_011...   \n",
      "Processing subject f2f_012...   \n",
      "Processing subject f2f_013...   \n",
      "Processing subject f2f_014...   \n",
      "Processing subject f2f_015...   \n",
      "Processing subject f2f_018...   \n",
      "Processing subject f2f_021...   \n",
      "Processing subject f2f_022...   \n",
      "Processing subject f2f_024...   \n",
      "Processing subject f2f_025...   \n",
      "Processing subject f2f_026...   \n",
      "Processing subject f2f_027...   \n",
      "Processing subject f2f_028...   \n",
      "Processing subject f2f_029...   \n",
      "Processing subject f2f_030...   \n",
      "Processing subject f2f_034...   \n",
      "Processing subject f2f_036...   \n",
      "Processing subject f2f_037...   \n",
      "Processing subject f2f_038...   \n",
      "Processing subject f2f_102...   \n",
      "Processing subject f2f_103...   \n",
      "Processing subject f2f_104...   \n",
      "Processing subject f2f_106...   \n",
      "Processing subject f2f_107...   \n",
      "Processing subject f2f_108...   \n",
      "Processing subject f2f_111...   \n",
      "Processing subject f2f_112...   \n",
      "Processing subject f2f_114...   \n",
      "Processing subject f2f_115...   \n",
      "Processing subject f2f_116...   \n",
      "Processing subject f2f_117...   \n",
      "Processing subject f2f_118...   \n",
      "Processing subject f2f_119...   \n"
     ]
    }
   ],
   "source": [
    "# Fill the data frames #\n",
    "labels_list = [ll.name for ll in labels]\n",
    "\n",
    "for subject in all_subjects:\n",
    "    print(f'Processing subject {subject}...   ')\n",
    "    \n",
    "    stc_file = os.path.join(params.work_dir, subject, params.psd_dir,\n",
    "                            subject + stc_pattern + '_talk_psd_morphed-lh.stc')\n",
    "    stc_talk = mne.read_source_estimate(stc_file)\n",
    "    stc_file = os.path.join(params.work_dir, subject, params.psd_dir,\n",
    "                            subject + stc_pattern + '_ignore_psd_morphed-lh.stc')\n",
    "    stc_ignore = mne.read_source_estimate(stc_file)\n",
    "\n",
    "    for label in labels_all_the_rest:\n",
    "        for hemi in ('-lh', '-rh'):\n",
    "            entry = label + hemi\n",
    "            idx = labels_list.index(entry)\n",
    "            \n",
    "            label_talk = mne.extract_label_time_course(stc_talk, labels[idx], src,\n",
    "                                                       mode='mean', verbose=False)\n",
    "            label_ignore = mne.extract_label_time_course(stc_ignore, labels[idx], src,\n",
    "                                                         mode='mean', verbose=False)\n",
    "            for bb in range(n_bands):\n",
    "                col = label + hemi + '-talk'\n",
    "                Table_list[bb].loc[subject, col] = label_talk[0, bb]\n",
    "                \n",
    "                col = label + hemi + '-ignore'\n",
    "                Table_list[bb].loc[subject, col] = label_ignore[0, bb]"
   ]
  },
  {
   "cell_type": "code",
   "execution_count": 24,
   "metadata": {},
   "outputs": [
    {
     "data": {
      "text/html": [
       "<div>\n",
       "<style scoped>\n",
       "    .dataframe tbody tr th:only-of-type {\n",
       "        vertical-align: middle;\n",
       "    }\n",
       "\n",
       "    .dataframe tbody tr th {\n",
       "        vertical-align: top;\n",
       "    }\n",
       "\n",
       "    .dataframe thead th {\n",
       "        text-align: right;\n",
       "    }\n",
       "</style>\n",
       "<table border=\"1\" class=\"dataframe\">\n",
       "  <thead>\n",
       "    <tr style=\"text-align: right;\">\n",
       "      <th></th>\n",
       "      <th>caudalmiddlefrontal-lh-talk</th>\n",
       "      <th>caudalmiddlefrontal-lh-ignore</th>\n",
       "      <th>caudalmiddlefrontal-rh-talk</th>\n",
       "      <th>caudalmiddlefrontal-rh-ignore</th>\n",
       "      <th>cuneus-lh-talk</th>\n",
       "      <th>cuneus-lh-ignore</th>\n",
       "      <th>cuneus-rh-talk</th>\n",
       "      <th>cuneus-rh-ignore</th>\n",
       "      <th>entorhinal-lh-talk</th>\n",
       "      <th>entorhinal-lh-ignore</th>\n",
       "      <th>...</th>\n",
       "      <th>rostralmiddlefrontal-rh-talk</th>\n",
       "      <th>rostralmiddlefrontal-rh-ignore</th>\n",
       "      <th>superiorfrontal-lh-talk</th>\n",
       "      <th>superiorfrontal-lh-ignore</th>\n",
       "      <th>superiorfrontal-rh-talk</th>\n",
       "      <th>superiorfrontal-rh-ignore</th>\n",
       "      <th>supramarginal-lh-talk</th>\n",
       "      <th>supramarginal-lh-ignore</th>\n",
       "      <th>supramarginal-rh-talk</th>\n",
       "      <th>supramarginal-rh-ignore</th>\n",
       "    </tr>\n",
       "  </thead>\n",
       "  <tbody>\n",
       "    <tr>\n",
       "      <th>f2f_009</th>\n",
       "      <td>-7.00228</td>\n",
       "      <td>-8.08446</td>\n",
       "      <td>-6.51142</td>\n",
       "      <td>-7.33774</td>\n",
       "      <td>-7.4697</td>\n",
       "      <td>-7.92128</td>\n",
       "      <td>-8.10824</td>\n",
       "      <td>-8.27253</td>\n",
       "      <td>-7.61017</td>\n",
       "      <td>-7.97029</td>\n",
       "      <td>...</td>\n",
       "      <td>-6.70068</td>\n",
       "      <td>-7.21451</td>\n",
       "      <td>-6.79902</td>\n",
       "      <td>-7.70771</td>\n",
       "      <td>-6.76771</td>\n",
       "      <td>-7.4368</td>\n",
       "      <td>-7.60267</td>\n",
       "      <td>-8.21083</td>\n",
       "      <td>-7.84043</td>\n",
       "      <td>-8.43005</td>\n",
       "    </tr>\n",
       "    <tr>\n",
       "      <th>f2f_010</th>\n",
       "      <td>-15.3213</td>\n",
       "      <td>-15.678</td>\n",
       "      <td>-10.0007</td>\n",
       "      <td>-9.97859</td>\n",
       "      <td>-12.298</td>\n",
       "      <td>-12.8017</td>\n",
       "      <td>-10.953</td>\n",
       "      <td>-11.1727</td>\n",
       "      <td>-9.7795</td>\n",
       "      <td>-10.1621</td>\n",
       "      <td>...</td>\n",
       "      <td>-10.6189</td>\n",
       "      <td>-10.8169</td>\n",
       "      <td>-12.4215</td>\n",
       "      <td>-12.6038</td>\n",
       "      <td>-11.3514</td>\n",
       "      <td>-11.4373</td>\n",
       "      <td>-15.8553</td>\n",
       "      <td>-16.6298</td>\n",
       "      <td>-9.96985</td>\n",
       "      <td>-9.96462</td>\n",
       "    </tr>\n",
       "    <tr>\n",
       "      <th>f2f_011</th>\n",
       "      <td>-11.8343</td>\n",
       "      <td>-10.5593</td>\n",
       "      <td>-8.6766</td>\n",
       "      <td>-7.34764</td>\n",
       "      <td>-11.0556</td>\n",
       "      <td>-9.29075</td>\n",
       "      <td>-11.4592</td>\n",
       "      <td>-9.87323</td>\n",
       "      <td>-9.65351</td>\n",
       "      <td>-8.45825</td>\n",
       "      <td>...</td>\n",
       "      <td>-9.72738</td>\n",
       "      <td>-8.78191</td>\n",
       "      <td>-11.499</td>\n",
       "      <td>-10.2594</td>\n",
       "      <td>-10.0166</td>\n",
       "      <td>-8.64315</td>\n",
       "      <td>-10.07</td>\n",
       "      <td>-8.95456</td>\n",
       "      <td>-10.3807</td>\n",
       "      <td>-9.6253</td>\n",
       "    </tr>\n",
       "    <tr>\n",
       "      <th>f2f_012</th>\n",
       "      <td>-13.5817</td>\n",
       "      <td>-13.3624</td>\n",
       "      <td>-9.33092</td>\n",
       "      <td>-9.59486</td>\n",
       "      <td>-12.9343</td>\n",
       "      <td>-11.9323</td>\n",
       "      <td>-10.8207</td>\n",
       "      <td>-10.1398</td>\n",
       "      <td>-9.22066</td>\n",
       "      <td>-9.77396</td>\n",
       "      <td>...</td>\n",
       "      <td>-11.7049</td>\n",
       "      <td>-11.8997</td>\n",
       "      <td>-10.9065</td>\n",
       "      <td>-11.0569</td>\n",
       "      <td>-10.296</td>\n",
       "      <td>-10.4332</td>\n",
       "      <td>-14.919</td>\n",
       "      <td>-14.3293</td>\n",
       "      <td>-9.97495</td>\n",
       "      <td>-9.965</td>\n",
       "    </tr>\n",
       "    <tr>\n",
       "      <th>f2f_013</th>\n",
       "      <td>-13.1379</td>\n",
       "      <td>-11.4038</td>\n",
       "      <td>-7.64844</td>\n",
       "      <td>-9.35817</td>\n",
       "      <td>-8.5059</td>\n",
       "      <td>-10.7663</td>\n",
       "      <td>-9.03303</td>\n",
       "      <td>-11.1653</td>\n",
       "      <td>-8.91654</td>\n",
       "      <td>-9.81492</td>\n",
       "      <td>...</td>\n",
       "      <td>-7.86535</td>\n",
       "      <td>-8.69111</td>\n",
       "      <td>-10.0255</td>\n",
       "      <td>-10.3668</td>\n",
       "      <td>-8.84187</td>\n",
       "      <td>-9.56744</td>\n",
       "      <td>-13.2341</td>\n",
       "      <td>-11.7479</td>\n",
       "      <td>-8.09524</td>\n",
       "      <td>-10.5635</td>\n",
       "    </tr>\n",
       "  </tbody>\n",
       "</table>\n",
       "<p>5 rows × 68 columns</p>\n",
       "</div>"
      ],
      "text/plain": [
       "        caudalmiddlefrontal-lh-talk caudalmiddlefrontal-lh-ignore  \\\n",
       "f2f_009                    -7.00228                      -8.08446   \n",
       "f2f_010                    -15.3213                       -15.678   \n",
       "f2f_011                    -11.8343                      -10.5593   \n",
       "f2f_012                    -13.5817                      -13.3624   \n",
       "f2f_013                    -13.1379                      -11.4038   \n",
       "\n",
       "        caudalmiddlefrontal-rh-talk caudalmiddlefrontal-rh-ignore  \\\n",
       "f2f_009                    -6.51142                      -7.33774   \n",
       "f2f_010                    -10.0007                      -9.97859   \n",
       "f2f_011                     -8.6766                      -7.34764   \n",
       "f2f_012                    -9.33092                      -9.59486   \n",
       "f2f_013                    -7.64844                      -9.35817   \n",
       "\n",
       "        cuneus-lh-talk cuneus-lh-ignore cuneus-rh-talk cuneus-rh-ignore  \\\n",
       "f2f_009        -7.4697         -7.92128       -8.10824         -8.27253   \n",
       "f2f_010        -12.298         -12.8017        -10.953         -11.1727   \n",
       "f2f_011       -11.0556         -9.29075       -11.4592         -9.87323   \n",
       "f2f_012       -12.9343         -11.9323       -10.8207         -10.1398   \n",
       "f2f_013        -8.5059         -10.7663       -9.03303         -11.1653   \n",
       "\n",
       "        entorhinal-lh-talk entorhinal-lh-ignore  ...  \\\n",
       "f2f_009           -7.61017             -7.97029  ...   \n",
       "f2f_010            -9.7795             -10.1621  ...   \n",
       "f2f_011           -9.65351             -8.45825  ...   \n",
       "f2f_012           -9.22066             -9.77396  ...   \n",
       "f2f_013           -8.91654             -9.81492  ...   \n",
       "\n",
       "        rostralmiddlefrontal-rh-talk rostralmiddlefrontal-rh-ignore  \\\n",
       "f2f_009                     -6.70068                       -7.21451   \n",
       "f2f_010                     -10.6189                       -10.8169   \n",
       "f2f_011                     -9.72738                       -8.78191   \n",
       "f2f_012                     -11.7049                       -11.8997   \n",
       "f2f_013                     -7.86535                       -8.69111   \n",
       "\n",
       "        superiorfrontal-lh-talk superiorfrontal-lh-ignore  \\\n",
       "f2f_009                -6.79902                  -7.70771   \n",
       "f2f_010                -12.4215                  -12.6038   \n",
       "f2f_011                 -11.499                  -10.2594   \n",
       "f2f_012                -10.9065                  -11.0569   \n",
       "f2f_013                -10.0255                  -10.3668   \n",
       "\n",
       "        superiorfrontal-rh-talk superiorfrontal-rh-ignore  \\\n",
       "f2f_009                -6.76771                   -7.4368   \n",
       "f2f_010                -11.3514                  -11.4373   \n",
       "f2f_011                -10.0166                  -8.64315   \n",
       "f2f_012                 -10.296                  -10.4332   \n",
       "f2f_013                -8.84187                  -9.56744   \n",
       "\n",
       "        supramarginal-lh-talk supramarginal-lh-ignore supramarginal-rh-talk  \\\n",
       "f2f_009              -7.60267                -8.21083              -7.84043   \n",
       "f2f_010              -15.8553                -16.6298              -9.96985   \n",
       "f2f_011                -10.07                -8.95456              -10.3807   \n",
       "f2f_012               -14.919                -14.3293              -9.97495   \n",
       "f2f_013              -13.2341                -11.7479              -8.09524   \n",
       "\n",
       "        supramarginal-rh-ignore  \n",
       "f2f_009                -8.43005  \n",
       "f2f_010                -9.96462  \n",
       "f2f_011                 -9.6253  \n",
       "f2f_012                  -9.965  \n",
       "f2f_013                -10.5635  \n",
       "\n",
       "[5 rows x 68 columns]"
      ]
     },
     "execution_count": 24,
     "metadata": {},
     "output_type": "execute_result"
    }
   ],
   "source": [
    "# Look at one of the tables #\n",
    "Table_list[1].head()"
   ]
  },
  {
   "cell_type": "code",
   "execution_count": 25,
   "metadata": {},
   "outputs": [],
   "source": [
    "# Save the results as CSV files #\n",
    "prefix = 'roi_extra_' + BANDS_TYPE.upper() + '_'\n",
    "suffix = '.csv'\n",
    "\n",
    "for bb in range(n_bands):\n",
    "    band_str = band_names[bb].replace(' ','').upper()\n",
    "    file = os.path.join(roi_path, prefix + band_str + suffix)\n",
    "    Table_list[bb].to_csv(file)"
   ]
  },
  {
   "cell_type": "code",
   "execution_count": null,
   "metadata": {},
   "outputs": [],
   "source": []
  }
 ],
 "metadata": {
  "kernelspec": {
   "display_name": "Python 3",
   "language": "python",
   "name": "python3"
  },
  "language_info": {
   "codemirror_mode": {
    "name": "ipython",
    "version": 3
   },
   "file_extension": ".py",
   "mimetype": "text/x-python",
   "name": "python",
   "nbconvert_exporter": "python",
   "pygments_lexer": "ipython3",
   "version": "3.7.5"
  },
  "toc": {
   "base_numbering": 1,
   "nav_menu": {},
   "number_sections": false,
   "sideBar": true,
   "skip_h1_title": true,
   "title_cell": "Table of Contents",
   "title_sidebar": "Contents",
   "toc_cell": true,
   "toc_position": {
    "height": "calc(100% - 180px)",
    "left": "10px",
    "top": "150px",
    "width": "233.3px"
   },
   "toc_section_display": true,
   "toc_window_display": true
  },
  "varInspector": {
   "cols": {
    "lenName": 16,
    "lenType": 16,
    "lenVar": 40
   },
   "kernels_config": {
    "python": {
     "delete_cmd_postfix": "",
     "delete_cmd_prefix": "del ",
     "library": "var_list.py",
     "varRefreshCmd": "print(var_dic_list())"
    },
    "r": {
     "delete_cmd_postfix": ") ",
     "delete_cmd_prefix": "rm(",
     "library": "var_list.r",
     "varRefreshCmd": "cat(var_dic_list()) "
    }
   },
   "types_to_exclude": [
    "module",
    "function",
    "builtin_function_or_method",
    "instance",
    "_Feature"
   ],
   "window_display": false
  }
 },
 "nbformat": 4,
 "nbformat_minor": 4
}
